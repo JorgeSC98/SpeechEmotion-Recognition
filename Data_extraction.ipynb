{
  "nbformat": 4,
  "nbformat_minor": 0,
  "metadata": {
    "colab": {
      "provenance": [],
      "include_colab_link": true
    },
    "kernelspec": {
      "name": "python3",
      "display_name": "Python 3"
    },
    "language_info": {
      "name": "python"
    }
  },
  "cells": [
    {
      "cell_type": "markdown",
      "metadata": {
        "id": "view-in-github",
        "colab_type": "text"
      },
      "source": [
        "<a href=\"https://colab.research.google.com/github/JorgeSC98/SpeechEmotion-Recognition/blob/main/Data_extraction.ipynb\" target=\"_parent\"><img src=\"https://colab.research.google.com/assets/colab-badge.svg\" alt=\"Open In Colab\"/></a>"
      ]
    },
    {
      "cell_type": "markdown",
      "source": [
        "# Data extraction\n",
        "\n",
        "This file reads the audio files, computes its features, creates a dataframe and stores it as a binary file."
      ],
      "metadata": {
        "id": "nyEHVpzdQ4_r"
      }
    },
    {
      "cell_type": "code",
      "execution_count": null,
      "metadata": {
        "colab": {
          "base_uri": "https://localhost:8080/"
        },
        "id": "UYY-sSF4Q36d",
        "outputId": "c59e9ed4-22cc-4684-86d9-54ab0cc837cb"
      },
      "outputs": [
        {
          "output_type": "stream",
          "name": "stdout",
          "text": [
            "Drive already mounted at /content/gdrive; to attempt to forcibly remount, call drive.mount(\"/content/gdrive\", force_remount=True).\n"
          ]
        }
      ],
      "source": [
        "from google.colab            import files\n",
        "from google.colab            import drive\n",
        "\n",
        "import matplotlib.pyplot     as plt\n",
        "import pandas                as pd\n",
        "import seaborn               as sns\n",
        "import numpy                 as np\n",
        "import librosa\n",
        "import soundfile\n",
        "import os, glob, pickle\n",
        "\n",
        "from tqdm import tqdm\n",
        "\n",
        "drive.mount('/content/gdrive')"
      ]
    },
    {
      "cell_type": "code",
      "source": [
        "path     = '/content/gdrive/Shareddrives/CS4013/HW6/speech-emotion-recognition-ravdess-data/'\n",
        "Ravdess = path"
      ],
      "metadata": {
        "id": "fIg6RjEyUqbq"
      },
      "execution_count": null,
      "outputs": []
    },
    {
      "cell_type": "code",
      "source": [
        "ravdess_directory_list = os.listdir(Ravdess)\n",
        "\n",
        "file_emotion = []\n",
        "file_path = []\n",
        "for dir in ravdess_directory_list:\n",
        "    # as their are 20 different actors in our previous directory we need to extract files for each actor.\n",
        "    actor = os.listdir(Ravdess + dir)\n",
        "    for file in actor:\n",
        "        part = file.split('.')[0]\n",
        "        part = part.split('-')\n",
        "        # third part in each file represents the emotion associated to that file.\n",
        "        file_emotion.append(int(part[2]))\n",
        "        file_path.append(Ravdess + dir + '/' + file)\n",
        "        \n",
        "# dataframe for emotion of files\n",
        "emotion_df = pd.DataFrame(file_emotion, columns=['Emotions'])\n",
        "\n",
        "# dataframe for path of files.\n",
        "path_df = pd.DataFrame(file_path, columns=['Path'])\n",
        "path_df = pd.concat([emotion_df, path_df], axis=1)\n",
        "\n",
        "# changing integers to actual emotions.\n",
        "path_df.Emotions.replace({1:'neutral', 2:'calm', 3:'happy', 4:'sad', 5:'angry', 6:'fear', 7:'disgust', 8:'surprise'}, inplace=True)\n",
        "path_df.head()"
      ],
      "metadata": {
        "colab": {
          "base_uri": "https://localhost:8080/",
          "height": 215
        },
        "id": "I6zPE8tjUv27",
        "outputId": "bd791ef0-46a8-49e0-bfb7-92f0d66dd324"
      },
      "execution_count": null,
      "outputs": [
        {
          "output_type": "execute_result",
          "data": {
            "text/plain": [
              "   Emotions                                               Path\n",
              "0     angry  /content/gdrive/Shareddrives/CS4013/HW6/speech...\n",
              "1      fear  /content/gdrive/Shareddrives/CS4013/HW6/speech...\n",
              "2      calm  /content/gdrive/Shareddrives/CS4013/HW6/speech...\n",
              "3       sad  /content/gdrive/Shareddrives/CS4013/HW6/speech...\n",
              "4  surprise  /content/gdrive/Shareddrives/CS4013/HW6/speech..."
            ],
            "text/html": [
              "\n",
              "  <div id=\"df-9d5824cc-049c-4711-b861-28e820c204d9\">\n",
              "    <div class=\"colab-df-container\">\n",
              "      <div>\n",
              "<style scoped>\n",
              "    .dataframe tbody tr th:only-of-type {\n",
              "        vertical-align: middle;\n",
              "    }\n",
              "\n",
              "    .dataframe tbody tr th {\n",
              "        vertical-align: top;\n",
              "    }\n",
              "\n",
              "    .dataframe thead th {\n",
              "        text-align: right;\n",
              "    }\n",
              "</style>\n",
              "<table border=\"1\" class=\"dataframe\">\n",
              "  <thead>\n",
              "    <tr style=\"text-align: right;\">\n",
              "      <th></th>\n",
              "      <th>Emotions</th>\n",
              "      <th>Path</th>\n",
              "    </tr>\n",
              "  </thead>\n",
              "  <tbody>\n",
              "    <tr>\n",
              "      <th>0</th>\n",
              "      <td>angry</td>\n",
              "      <td>/content/gdrive/Shareddrives/CS4013/HW6/speech...</td>\n",
              "    </tr>\n",
              "    <tr>\n",
              "      <th>1</th>\n",
              "      <td>fear</td>\n",
              "      <td>/content/gdrive/Shareddrives/CS4013/HW6/speech...</td>\n",
              "    </tr>\n",
              "    <tr>\n",
              "      <th>2</th>\n",
              "      <td>calm</td>\n",
              "      <td>/content/gdrive/Shareddrives/CS4013/HW6/speech...</td>\n",
              "    </tr>\n",
              "    <tr>\n",
              "      <th>3</th>\n",
              "      <td>sad</td>\n",
              "      <td>/content/gdrive/Shareddrives/CS4013/HW6/speech...</td>\n",
              "    </tr>\n",
              "    <tr>\n",
              "      <th>4</th>\n",
              "      <td>surprise</td>\n",
              "      <td>/content/gdrive/Shareddrives/CS4013/HW6/speech...</td>\n",
              "    </tr>\n",
              "  </tbody>\n",
              "</table>\n",
              "</div>\n",
              "      <button class=\"colab-df-convert\" onclick=\"convertToInteractive('df-9d5824cc-049c-4711-b861-28e820c204d9')\"\n",
              "              title=\"Convert this dataframe to an interactive table.\"\n",
              "              style=\"display:none;\">\n",
              "        \n",
              "  <svg xmlns=\"http://www.w3.org/2000/svg\" height=\"24px\"viewBox=\"0 0 24 24\"\n",
              "       width=\"24px\">\n",
              "    <path d=\"M0 0h24v24H0V0z\" fill=\"none\"/>\n",
              "    <path d=\"M18.56 5.44l.94 2.06.94-2.06 2.06-.94-2.06-.94-.94-2.06-.94 2.06-2.06.94zm-11 1L8.5 8.5l.94-2.06 2.06-.94-2.06-.94L8.5 2.5l-.94 2.06-2.06.94zm10 10l.94 2.06.94-2.06 2.06-.94-2.06-.94-.94-2.06-.94 2.06-2.06.94z\"/><path d=\"M17.41 7.96l-1.37-1.37c-.4-.4-.92-.59-1.43-.59-.52 0-1.04.2-1.43.59L10.3 9.45l-7.72 7.72c-.78.78-.78 2.05 0 2.83L4 21.41c.39.39.9.59 1.41.59.51 0 1.02-.2 1.41-.59l7.78-7.78 2.81-2.81c.8-.78.8-2.07 0-2.86zM5.41 20L4 18.59l7.72-7.72 1.47 1.35L5.41 20z\"/>\n",
              "  </svg>\n",
              "      </button>\n",
              "      \n",
              "  <style>\n",
              "    .colab-df-container {\n",
              "      display:flex;\n",
              "      flex-wrap:wrap;\n",
              "      gap: 12px;\n",
              "    }\n",
              "\n",
              "    .colab-df-convert {\n",
              "      background-color: #E8F0FE;\n",
              "      border: none;\n",
              "      border-radius: 50%;\n",
              "      cursor: pointer;\n",
              "      display: none;\n",
              "      fill: #1967D2;\n",
              "      height: 32px;\n",
              "      padding: 0 0 0 0;\n",
              "      width: 32px;\n",
              "    }\n",
              "\n",
              "    .colab-df-convert:hover {\n",
              "      background-color: #E2EBFA;\n",
              "      box-shadow: 0px 1px 2px rgba(60, 64, 67, 0.3), 0px 1px 3px 1px rgba(60, 64, 67, 0.15);\n",
              "      fill: #174EA6;\n",
              "    }\n",
              "\n",
              "    [theme=dark] .colab-df-convert {\n",
              "      background-color: #3B4455;\n",
              "      fill: #D2E3FC;\n",
              "    }\n",
              "\n",
              "    [theme=dark] .colab-df-convert:hover {\n",
              "      background-color: #434B5C;\n",
              "      box-shadow: 0px 1px 3px 1px rgba(0, 0, 0, 0.15);\n",
              "      filter: drop-shadow(0px 1px 2px rgba(0, 0, 0, 0.3));\n",
              "      fill: #FFFFFF;\n",
              "    }\n",
              "  </style>\n",
              "\n",
              "      <script>\n",
              "        const buttonEl =\n",
              "          document.querySelector('#df-9d5824cc-049c-4711-b861-28e820c204d9 button.colab-df-convert');\n",
              "        buttonEl.style.display =\n",
              "          google.colab.kernel.accessAllowed ? 'block' : 'none';\n",
              "\n",
              "        async function convertToInteractive(key) {\n",
              "          const element = document.querySelector('#df-9d5824cc-049c-4711-b861-28e820c204d9');\n",
              "          const dataTable =\n",
              "            await google.colab.kernel.invokeFunction('convertToInteractive',\n",
              "                                                     [key], {});\n",
              "          if (!dataTable) return;\n",
              "\n",
              "          const docLinkHtml = 'Like what you see? Visit the ' +\n",
              "            '<a target=\"_blank\" href=https://colab.research.google.com/notebooks/data_table.ipynb>data table notebook</a>'\n",
              "            + ' to learn more about interactive tables.';\n",
              "          element.innerHTML = '';\n",
              "          dataTable['output_type'] = 'display_data';\n",
              "          await google.colab.output.renderOutput(dataTable, element);\n",
              "          const docLink = document.createElement('div');\n",
              "          docLink.innerHTML = docLinkHtml;\n",
              "          element.appendChild(docLink);\n",
              "        }\n",
              "      </script>\n",
              "    </div>\n",
              "  </div>\n",
              "  "
            ]
          },
          "metadata": {},
          "execution_count": 9
        }
      ]
    },
    {
      "cell_type": "code",
      "source": [
        "unique, counts = np.unique( path_df.Emotions, return_counts = True )\n",
        "dict( zip( unique, counts ) )"
      ],
      "metadata": {
        "id": "azaYSIfvSzF0",
        "outputId": "9b2ace3f-05bb-419a-a81a-088ceb4eb1ee",
        "colab": {
          "base_uri": "https://localhost:8080/"
        }
      },
      "execution_count": null,
      "outputs": [
        {
          "output_type": "execute_result",
          "data": {
            "text/plain": [
              "{'angry': 192,\n",
              " 'calm': 192,\n",
              " 'disgust': 192,\n",
              " 'fear': 192,\n",
              " 'happy': 192,\n",
              " 'neutral': 96,\n",
              " 'sad': 192,\n",
              " 'surprise': 192}"
            ]
          },
          "metadata": {},
          "execution_count": 10
        }
      ]
    },
    {
      "cell_type": "code",
      "source": [
        "plt.title('Count of Emotions', size=16)\n",
        "sns.countplot(path_df.Emotions)\n",
        "plt.ylabel('Count', size=12)\n",
        "plt.xlabel('Emotions', size=12)\n",
        "sns.despine(top=True, right=True, left=False, bottom=False)\n",
        "plt.show()"
      ],
      "metadata": {
        "colab": {
          "base_uri": "https://localhost:8080/",
          "height": 355
        },
        "id": "WwKw3w6jUxtE",
        "outputId": "1ea718f0-8faf-4cc9-e903-9f4eb61c7bf3"
      },
      "execution_count": null,
      "outputs": [
        {
          "output_type": "stream",
          "name": "stderr",
          "text": [
            "/usr/local/lib/python3.7/dist-packages/seaborn/_decorators.py:43: FutureWarning: Pass the following variable as a keyword arg: x. From version 0.12, the only valid positional argument will be `data`, and passing other arguments without an explicit keyword will result in an error or misinterpretation.\n",
            "  FutureWarning\n"
          ]
        },
        {
          "output_type": "display_data",
          "data": {
            "text/plain": [
              "<Figure size 432x288 with 1 Axes>"
            ],
            "image/png": "[encoded data removed]"
          },
          "metadata": {
            "needs_background": "light"
          }
        }
      ]
    },
    {
      "cell_type": "code",
      "source": [
        "# Data Agumentation\n",
        "def noise(data):\n",
        "    noise_amp = 0.035*np.random.uniform()*np.amax(data)\n",
        "    data = data + noise_amp*np.random.normal(size=data.shape[0])\n",
        "    return data\n",
        "\n",
        "def stretch(data, rate=0.8):\n",
        "    return librosa.effects.time_stretch(data, rate)\n",
        "\n",
        "def shift(data):\n",
        "    shift_range = int(np.random.uniform(low=-5, high = 5)*1000)\n",
        "    return np.roll(data, shift_range)\n",
        "\n",
        "def pitch(data, sampling_rate, pitch_factor=0.7):\n",
        "    return librosa.effects.pitch_shift(data, sampling_rate, pitch_factor)"
      ],
      "metadata": {
        "id": "1NlC94HYU0Us"
      },
      "execution_count": null,
      "outputs": []
    },
    {
      "cell_type": "code",
      "source": [
        "def extract_features(data, sample_rate):\n",
        "    # ZCR\n",
        "    result = np.array([])\n",
        "    zcr = np.mean(librosa.feature.zero_crossing_rate(y=data).T, axis=0)\n",
        "    result=np.hstack((result, zcr)) # stacking horizontally\n",
        "\n",
        "    # Chroma_stft\n",
        "    stft = np.abs(librosa.stft(data))\n",
        "    chroma_stft = np.mean(librosa.feature.chroma_stft(S=stft, sr=sample_rate).T, axis=0)\n",
        "    result = np.hstack((result, chroma_stft)) # stacking horizontally\n",
        "\n",
        "    # MFCC\n",
        "    mfcc = np.mean(librosa.feature.mfcc(y=data, sr=sample_rate, n_mfcc=40).T, axis=0)\n",
        "    result = np.hstack((result, mfcc)) # stacking horizontally\n",
        "\n",
        "    # Root Mean Square Value\n",
        "    rms = np.mean(librosa.feature.rms(y=data).T, axis=0)\n",
        "    result = np.hstack((result, rms)) # stacking horizontally\n",
        "\n",
        "    # MelSpectogram\n",
        "    mel = np.mean(librosa.feature.melspectrogram(y=data, sr=sample_rate).T, axis=0)\n",
        "    result = np.hstack((result, mel)) # stacking horizontally\n",
        "\n",
        "    # Spectral contrast\n",
        "    sc = np.mean(librosa.feature.spectral_contrast(y=data, sr=sample_rate).T, axis=0)\n",
        "    result=np.hstack((result, sc))\n",
        "    \n",
        "    return result"
      ],
      "metadata": {
        "id": "ybt5HoDxU1_k"
      },
      "execution_count": null,
      "outputs": []
    },
    {
      "cell_type": "code",
      "source": [
        "def get_features(path):\n",
        "    data, sample_rate = librosa.load(path, duration=2.5, offset=0.6)\n",
        "    \n",
        "    # without augmentation\n",
        "    res1 = extract_features(data, sample_rate)\n",
        "    result = np.array(res1)\n",
        "    \n",
        "    # data with noise\n",
        "    noise_data = noise(data)\n",
        "    res2 = extract_features(noise_data, sample_rate)\n",
        "    result = np.vstack((result, res2)) # stacking vertically\n",
        "    \n",
        "    # data with stretching and pitching\n",
        "    new_data = stretch(data)\n",
        "    data_stretch_pitch = pitch(new_data, sample_rate)\n",
        "    res3 = extract_features(data_stretch_pitch, sample_rate)\n",
        "    result = np.vstack((result, res3)) # stacking vertically\n",
        "    \n",
        "    return result"
      ],
      "metadata": {
        "id": "HQ4ije5dU3F8"
      },
      "execution_count": null,
      "outputs": []
    },
    {
      "cell_type": "markdown",
      "source": [
        "Define the emotions of interest"
      ],
      "metadata": {
        "id": "bLMDV7ZOU6or"
      }
    },
    {
      "cell_type": "code",
      "source": [
        "emotions={\n",
        "  '01':'neutral',\n",
        "  '02':'calm',\n",
        "  '03':'happy',\n",
        "  '04':'sad',\n",
        "  '05':'angry',\n",
        "  '06':'fearful',\n",
        "  '07':'disgust',\n",
        "  '08':'surprised'\n",
        "}\n",
        "\n",
        "#observed_emotions=['neutral', 'calm', 'happy', 'sad', 'angry', 'fearful', 'disgust', 'surprised']\n",
        "observed_emotions=['calm', 'happy', 'fearful', 'disgust']"
      ],
      "metadata": {
        "id": "-RjMfFsoU5B1"
      },
      "execution_count": null,
      "outputs": []
    },
    {
      "cell_type": "markdown",
      "source": [
        "Create a database with all the features for each audio file"
      ],
      "metadata": {
        "id": "Lc53pn9-VMqY"
      }
    },
    {
      "cell_type": "code",
      "source": [
        "import ntpath\n",
        "\n",
        "def path_leaf(path):\n",
        "    head, tail = ntpath.split(path)\n",
        "    return tail or ntpath.basename(head)\n",
        "\n",
        "#DataFlair - Load the data and extract features for each sound file\n",
        "def load_data(path_dataframe):\n",
        "    X, Y = [], []\n",
        "\n",
        "    print('Extracting features from audio files... ')\n",
        "\n",
        "    for path, emotion in tqdm(zip(path_dataframe.Path, path_dataframe.Emotions), total=len(path_dataframe.Emotions)):\n",
        "\n",
        "      file_name = path_leaf(path)\n",
        "      emotion=emotions[file_name.split(\"-\")[2]]\n",
        "      \n",
        "      if emotion not in observed_emotions:\n",
        "          continue\n",
        "\n",
        "      feature = get_features(path)\n",
        "\n",
        "      for elem in feature:\n",
        "        X.append(elem)\n",
        "        Y.append(emotion)\n",
        "    \n",
        "    return X, Y"
      ],
      "metadata": {
        "id": "4DGf0h1hVJso"
      },
      "execution_count": null,
      "outputs": []
    },
    {
      "cell_type": "code",
      "source": [
        "X, Y = load_data(path_df)"
      ],
      "metadata": {
        "id": "N_z_rQcgVQWx",
        "colab": {
          "base_uri": "https://localhost:8080/"
        },
        "outputId": "b2331b86-4847-46a9-b628-c00d5ddbbd0b"
      },
      "execution_count": null,
      "outputs": [
        {
          "output_type": "stream",
          "name": "stdout",
          "text": [
            "Extracting features from audio files... \n"
          ]
        },
        {
          "output_type": "stream",
          "name": "stderr",
          "text": [
            "100%|██████████| 1440/1440 [11:18<00:00,  2.12it/s]\n"
          ]
        }
      ]
    },
    {
      "cell_type": "markdown",
      "source": [
        "Create a dataframe and save the results to a file"
      ],
      "metadata": {
        "id": "b0HqM0XPVUvv"
      }
    },
    {
      "cell_type": "code",
      "source": [
        "os.listdir('/content/gdrive/Shareddrives/CS4013/HW6/data/')"
      ],
      "metadata": {
        "id": "drz0NMTbVZm6",
        "colab": {
          "base_uri": "https://localhost:8080/"
        },
        "outputId": "582fd102-cc3e-463b-865d-084dba0bcd7f"
      },
      "execution_count": null,
      "outputs": [
        {
          "output_type": "execute_result",
          "data": {
            "text/plain": [
              "['database.pkl', 'database_4emotions.pkl']"
            ]
          },
          "metadata": {},
          "execution_count": 18
        }
      ]
    },
    {
      "cell_type": "code",
      "source": [
        "database = pd.DataFrame(X)\n",
        "database['labels'] = Y\n",
        "\n",
        "# Save to file\n",
        "output_folder = '/content/gdrive/Shareddrives/CS4013/HW6/data/'\n",
        "\n",
        "if not os.path.exists(output_folder):\n",
        "  os.makedirs(output_folder)\n",
        "\n",
        "database.to_pickle(output_folder + 'database_4emotions.pkl')\n",
        "\n",
        "database.head()"
      ],
      "metadata": {
        "id": "J32n1bZUVlTO",
        "colab": {
          "base_uri": "https://localhost:8080/",
          "height": 386
        },
        "outputId": "871dfd7e-286a-4e62-8b30-1bd5ce3fb0a7"
      },
      "execution_count": null,
      "outputs": [
        {
          "output_type": "execute_result",
          "data": {
            "text/plain": [
              "          0         1         2         3         4         5         6  \\\n",
              "0  0.119855  0.507461  0.414120  0.401716  0.409684  0.421298  0.516690   \n",
              "1  0.272872  0.598629  0.556412  0.565423  0.577642  0.594398  0.611372   \n",
              "2  0.113133  0.606384  0.411250  0.374669  0.412562  0.385073  0.455472   \n",
              "3  0.121266  0.480263  0.422342  0.468604  0.466126  0.490174  0.548692   \n",
              "4  0.253915  0.587318  0.601298  0.596231  0.615663  0.647406  0.576359   \n",
              "\n",
              "          7         8         9  ...           180           181        182  \\\n",
              "0  0.537631  0.590918  0.640058  ...  1.338648e-13  1.309344e-13  20.370474   \n",
              "1  0.538784  0.579985  0.654674  ...  9.955534e-05  1.028548e-04  14.896172   \n",
              "2  0.502469  0.521309  0.601805  ...  1.592488e-11  1.517740e-11  20.748005   \n",
              "3  0.555605  0.593634  0.596291  ...  5.084489e-12  5.084499e-12  21.361512   \n",
              "4  0.603092  0.619207  0.645742  ...  3.304043e-04  3.335241e-04  14.709076   \n",
              "\n",
              "         183        184        185        186        187        188   labels  \n",
              "0  18.402018  18.706955  17.229192  18.818294  18.757125  60.299300  fearful  \n",
              "1  17.230610  17.458664  15.637138  15.465091  14.857155  14.319924  fearful  \n",
              "2  18.602199  20.547905  18.824408  21.102303  20.811776  44.048627  fearful  \n",
              "3  19.764985  20.110708  17.858791  19.005673  19.560215  60.839976     calm  \n",
              "4  18.327844  18.166773  15.902382  15.985995  14.690535  13.897322     calm  \n",
              "\n",
              "[5 rows x 190 columns]"
            ],
            "text/html": [
              "\n",
              "  <div id=\"df-fb656c90-87f9-4d3b-b6d1-cec0224e3496\">\n",
              "    <div class=\"colab-df-container\">\n",
              "      <div>\n",
              "<style scoped>\n",
              "    .dataframe tbody tr th:only-of-type {\n",
              "        vertical-align: middle;\n",
              "    }\n",
              "\n",
              "    .dataframe tbody tr th {\n",
              "        vertical-align: top;\n",
              "    }\n",
              "\n",
              "    .dataframe thead th {\n",
              "        text-align: right;\n",
              "    }\n",
              "</style>\n",
              "<table border=\"1\" class=\"dataframe\">\n",
              "  <thead>\n",
              "    <tr style=\"text-align: right;\">\n",
              "      <th></th>\n",
              "      <th>0</th>\n",
              "      <th>1</th>\n",
              "      <th>2</th>\n",
              "      <th>3</th>\n",
              "      <th>4</th>\n",
              "      <th>5</th>\n",
              "      <th>6</th>\n",
              "      <th>7</th>\n",
              "      <th>8</th>\n",
              "      <th>9</th>\n",
              "      <th>...</th>\n",
              "      <th>180</th>\n",
              "      <th>181</th>\n",
              "      <th>182</th>\n",
              "      <th>183</th>\n",
              "      <th>184</th>\n",
              "      <th>185</th>\n",
              "      <th>186</th>\n",
              "      <th>187</th>\n",
              "      <th>188</th>\n",
              "      <th>labels</th>\n",
              "    </tr>\n",
              "  </thead>\n",
              "  <tbody>\n",
              "    <tr>\n",
              "      <th>0</th>\n",
              "      <td>0.119855</td>\n",
              "      <td>0.507461</td>\n",
              "      <td>0.414120</td>\n",
              "      <td>0.401716</td>\n",
              "      <td>0.409684</td>\n",
              "      <td>0.421298</td>\n",
              "      <td>0.516690</td>\n",
              "      <td>0.537631</td>\n",
              "      <td>0.590918</td>\n",
              "      <td>0.640058</td>\n",
              "      <td>...</td>\n",
              "      <td>1.338648e-13</td>\n",
              "      <td>1.309344e-13</td>\n",
              "      <td>20.370474</td>\n",
              "      <td>18.402018</td>\n",
              "      <td>18.706955</td>\n",
              "      <td>17.229192</td>\n",
              "      <td>18.818294</td>\n",
              "      <td>18.757125</td>\n",
              "      <td>60.299300</td>\n",
              "      <td>fearful</td>\n",
              "    </tr>\n",
              "    <tr>\n",
              "      <th>1</th>\n",
              "      <td>0.272872</td>\n",
              "      <td>0.598629</td>\n",
              "      <td>0.556412</td>\n",
              "      <td>0.565423</td>\n",
              "      <td>0.577642</td>\n",
              "      <td>0.594398</td>\n",
              "      <td>0.611372</td>\n",
              "      <td>0.538784</td>\n",
              "      <td>0.579985</td>\n",
              "      <td>0.654674</td>\n",
              "      <td>...</td>\n",
              "      <td>9.955534e-05</td>\n",
              "      <td>1.028548e-04</td>\n",
              "      <td>14.896172</td>\n",
              "      <td>17.230610</td>\n",
              "      <td>17.458664</td>\n",
              "      <td>15.637138</td>\n",
              "      <td>15.465091</td>\n",
              "      <td>14.857155</td>\n",
              "      <td>14.319924</td>\n",
              "      <td>fearful</td>\n",
              "    </tr>\n",
              "    <tr>\n",
              "      <th>2</th>\n",
              "      <td>0.113133</td>\n",
              "      <td>0.606384</td>\n",
              "      <td>0.411250</td>\n",
              "      <td>0.374669</td>\n",
              "      <td>0.412562</td>\n",
              "      <td>0.385073</td>\n",
              "      <td>0.455472</td>\n",
              "      <td>0.502469</td>\n",
              "      <td>0.521309</td>\n",
              "      <td>0.601805</td>\n",
              "      <td>...</td>\n",
              "      <td>1.592488e-11</td>\n",
              "      <td>1.517740e-11</td>\n",
              "      <td>20.748005</td>\n",
              "      <td>18.602199</td>\n",
              "      <td>20.547905</td>\n",
              "      <td>18.824408</td>\n",
              "      <td>21.102303</td>\n",
              "      <td>20.811776</td>\n",
              "      <td>44.048627</td>\n",
              "      <td>fearful</td>\n",
              "    </tr>\n",
              "    <tr>\n",
              "      <th>3</th>\n",
              "      <td>0.121266</td>\n",
              "      <td>0.480263</td>\n",
              "      <td>0.422342</td>\n",
              "      <td>0.468604</td>\n",
              "      <td>0.466126</td>\n",
              "      <td>0.490174</td>\n",
              "      <td>0.548692</td>\n",
              "      <td>0.555605</td>\n",
              "      <td>0.593634</td>\n",
              "      <td>0.596291</td>\n",
              "      <td>...</td>\n",
              "      <td>5.084489e-12</td>\n",
              "      <td>5.084499e-12</td>\n",
              "      <td>21.361512</td>\n",
              "      <td>19.764985</td>\n",
              "      <td>20.110708</td>\n",
              "      <td>17.858791</td>\n",
              "      <td>19.005673</td>\n",
              "      <td>19.560215</td>\n",
              "      <td>60.839976</td>\n",
              "      <td>calm</td>\n",
              "    </tr>\n",
              "    <tr>\n",
              "      <th>4</th>\n",
              "      <td>0.253915</td>\n",
              "      <td>0.587318</td>\n",
              "      <td>0.601298</td>\n",
              "      <td>0.596231</td>\n",
              "      <td>0.615663</td>\n",
              "      <td>0.647406</td>\n",
              "      <td>0.576359</td>\n",
              "      <td>0.603092</td>\n",
              "      <td>0.619207</td>\n",
              "      <td>0.645742</td>\n",
              "      <td>...</td>\n",
              "      <td>3.304043e-04</td>\n",
              "      <td>3.335241e-04</td>\n",
              "      <td>14.709076</td>\n",
              "      <td>18.327844</td>\n",
              "      <td>18.166773</td>\n",
              "      <td>15.902382</td>\n",
              "      <td>15.985995</td>\n",
              "      <td>14.690535</td>\n",
              "      <td>13.897322</td>\n",
              "      <td>calm</td>\n",
              "    </tr>\n",
              "  </tbody>\n",
              "</table>\n",
              "<p>5 rows × 190 columns</p>\n",
              "</div>\n",
              "      <button class=\"colab-df-convert\" onclick=\"convertToInteractive('df-fb656c90-87f9-4d3b-b6d1-cec0224e3496')\"\n",
              "              title=\"Convert this dataframe to an interactive table.\"\n",
              "              style=\"display:none;\">\n",
              "        \n",
              "  <svg xmlns=\"http://www.w3.org/2000/svg\" height=\"24px\"viewBox=\"0 0 24 24\"\n",
              "       width=\"24px\">\n",
              "    <path d=\"M0 0h24v24H0V0z\" fill=\"none\"/>\n",
              "    <path d=\"M18.56 5.44l.94 2.06.94-2.06 2.06-.94-2.06-.94-.94-2.06-.94 2.06-2.06.94zm-11 1L8.5 8.5l.94-2.06 2.06-.94-2.06-.94L8.5 2.5l-.94 2.06-2.06.94zm10 10l.94 2.06.94-2.06 2.06-.94-2.06-.94-.94-2.06-.94 2.06-2.06.94z\"/><path d=\"M17.41 7.96l-1.37-1.37c-.4-.4-.92-.59-1.43-.59-.52 0-1.04.2-1.43.59L10.3 9.45l-7.72 7.72c-.78.78-.78 2.05 0 2.83L4 21.41c.39.39.9.59 1.41.59.51 0 1.02-.2 1.41-.59l7.78-7.78 2.81-2.81c.8-.78.8-2.07 0-2.86zM5.41 20L4 18.59l7.72-7.72 1.47 1.35L5.41 20z\"/>\n",
              "  </svg>\n",
              "      </button>\n",
              "      \n",
              "  <style>\n",
              "    .colab-df-container {\n",
              "      display:flex;\n",
              "      flex-wrap:wrap;\n",
              "      gap: 12px;\n",
              "    }\n",
              "\n",
              "    .colab-df-convert {\n",
              "      background-color: #E8F0FE;\n",
              "      border: none;\n",
              "      border-radius: 50%;\n",
              "      cursor: pointer;\n",
              "      display: none;\n",
              "      fill: #1967D2;\n",
              "      height: 32px;\n",
              "      padding: 0 0 0 0;\n",
              "      width: 32px;\n",
              "    }\n",
              "\n",
              "    .colab-df-convert:hover {\n",
              "      background-color: #E2EBFA;\n",
              "      box-shadow: 0px 1px 2px rgba(60, 64, 67, 0.3), 0px 1px 3px 1px rgba(60, 64, 67, 0.15);\n",
              "      fill: #174EA6;\n",
              "    }\n",
              "\n",
              "    [theme=dark] .colab-df-convert {\n",
              "      background-color: #3B4455;\n",
              "      fill: #D2E3FC;\n",
              "    }\n",
              "\n",
              "    [theme=dark] .colab-df-convert:hover {\n",
              "      background-color: #434B5C;\n",
              "      box-shadow: 0px 1px 3px 1px rgba(0, 0, 0, 0.15);\n",
              "      filter: drop-shadow(0px 1px 2px rgba(0, 0, 0, 0.3));\n",
              "      fill: #FFFFFF;\n",
              "    }\n",
              "  </style>\n",
              "\n",
              "      <script>\n",
              "        const buttonEl =\n",
              "          document.querySelector('#df-fb656c90-87f9-4d3b-b6d1-cec0224e3496 button.colab-df-convert');\n",
              "        buttonEl.style.display =\n",
              "          google.colab.kernel.accessAllowed ? 'block' : 'none';\n",
              "\n",
              "        async function convertToInteractive(key) {\n",
              "          const element = document.querySelector('#df-fb656c90-87f9-4d3b-b6d1-cec0224e3496');\n",
              "          const dataTable =\n",
              "            await google.colab.kernel.invokeFunction('convertToInteractive',\n",
              "                                                     [key], {});\n",
              "          if (!dataTable) return;\n",
              "\n",
              "          const docLinkHtml = 'Like what you see? Visit the ' +\n",
              "            '<a target=\"_blank\" href=https://colab.research.google.com/notebooks/data_table.ipynb>data table notebook</a>'\n",
              "            + ' to learn more about interactive tables.';\n",
              "          element.innerHTML = '';\n",
              "          dataTable['output_type'] = 'display_data';\n",
              "          await google.colab.output.renderOutput(dataTable, element);\n",
              "          const docLink = document.createElement('div');\n",
              "          docLink.innerHTML = docLinkHtml;\n",
              "          element.appendChild(docLink);\n",
              "        }\n",
              "      </script>\n",
              "    </div>\n",
              "  </div>\n",
              "  "
            ]
          },
          "metadata": {},
          "execution_count": 19
        }
      ]
    },
    {
      "cell_type": "markdown",
      "source": [
        "# Data exploration"
      ],
      "metadata": {
        "id": "PdBPCObV-ddl"
      }
    },
    {
      "cell_type": "code",
      "source": [
        "import librosa.display"
      ],
      "metadata": {
        "id": "UUlAoA3h_KOb"
      },
      "execution_count": null,
      "outputs": []
    },
    {
      "cell_type": "code",
      "source": [
        "def create_waveplot(data, sr, e):\n",
        "    fig1 = plt.figure(figsize=(10, 3))\n",
        "    plt.title('Waveplot for audio with {} emotion'.format(e), size=15)\n",
        "    librosa.display.waveplot(data, sr=sr)\n",
        "    plt.show()\n",
        "    fig1.savefig('Waveplot.png')\n",
        "\n",
        "def create_spectrogram(data, sr, e):\n",
        "    # stft function converts the data into short term fourier transform\n",
        "    X = librosa.stft(data)\n",
        "    Xdb = librosa.amplitude_to_db(abs(X))\n",
        "    fig = plt.figure(figsize=(12, 3))\n",
        "    plt.title('Spectrogram for audio with {} emotion'.format(e), size=15)\n",
        "    librosa.display.specshow(Xdb, sr=sr, x_axis='time', y_axis='hz')   \n",
        "    #librosa.display.specshow(Xdb, sr=sr, x_axis='time', y_axis='log')\n",
        "    plt.colorbar()\n",
        "    fig.savefig('spectrogram.png')"
      ],
      "metadata": {
        "id": "gg0gcp6z-8M2"
      },
      "execution_count": null,
      "outputs": []
    },
    {
      "cell_type": "code",
      "source": [
        "emotion='happy'\n",
        "path = np.array(path_df.Path[path_df.Emotions==emotion])[1]\n",
        "data, sampling_rate = librosa.load(path)\n",
        "create_waveplot(data, sampling_rate, emotion)\n",
        "#create_spectrogram(data, sampling_rate, emotion)"
      ],
      "metadata": {
        "colab": {
          "base_uri": "https://localhost:8080/",
          "height": 243
        },
        "id": "NdWd8XBJ-fvm",
        "outputId": "11a303e1-f937-4d17-ab57-5e4d643bb58f"
      },
      "execution_count": null,
      "outputs": [
        {
          "output_type": "display_data",
          "data": {
            "text/plain": [
              "<Figure size 720x216 with 1 Axes>"
            ],
            "image/png": "[encoded data removed]"
          },
          "metadata": {
            "needs_background": "light"
          }
        }
      ]
    },
    {
      "cell_type": "code",
      "source": [
        "S = librosa.feature.melspectrogram(data, sr=sampling_rate, n_fft = 2048, hop_length = 512, n_mels=128)\n",
        "S_DB = librosa.power_to_db(S, ref=np.max)\n",
        "librosa.display.specshow(S_DB, sr=sampling_rate, hop_length=512, x_axis='time', y_axis='mel');\n",
        "plt.colorbar(format='%+2.0f dB');\n",
        "plt.savefig('melspectrogram')"
      ],
      "metadata": {
        "colab": {
          "base_uri": "https://localhost:8080/",
          "height": 283
        },
        "id": "NAyZH566-hdl",
        "outputId": "ee5084a6-7beb-42a4-dc72-257bb0badf47"
      },
      "execution_count": null,
      "outputs": [
        {
          "output_type": "display_data",
          "data": {
            "text/plain": [
              "<Figure size 432x288 with 2 Axes>"
            ],
            "image/png": "[encoded data removed]"
          },
          "metadata": {
            "needs_background": "light"
          }
        }
      ]
    }
  ]
}