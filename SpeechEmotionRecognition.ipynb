{
  "nbformat": 4,
  "nbformat_minor": 0,
  "metadata": {
    "colab": {
      "provenance": [],
      "include_colab_link": true
    },
    "kernelspec": {
      "name": "python3",
      "display_name": "Python 3"
    },
    "language_info": {
      "name": "python"
    },
    "accelerator": "GPU"
  },
  "cells": [
    {
      "cell_type": "markdown",
      "metadata": {
        "id": "view-in-github",
        "colab_type": "text"
      },
      "source": [
        "<a href=\"https://colab.research.google.com/github/JorgeSC98/SpeechEmotion-Recognition/blob/main/SpeechEmotionRecognition.ipynb\" target=\"_parent\"><img src=\"https://colab.research.google.com/assets/colab-badge.svg\" alt=\"Open In Colab\"/></a>"
      ]
    },
    {
      "cell_type": "markdown",
      "source": [
        "# Speech Emotion Recognition"
      ],
      "metadata": {
        "id": "5Rl9L8FOZMPW"
      }
    },
    {
      "cell_type": "markdown",
      "source": [
        "###  Authors\n",
        "Jorge Sáenz, Omar Muñoz, Elias Villalvazo, Israel Cárdenas, Luis Deutsch."
      ],
      "metadata": {
        "id": "MEIeUyJiZPZ1"
      }
    },
    {
      "cell_type": "markdown",
      "source": [
        "### Summary\n",
        "\n",
        "Speech Emotion Recognition (SER) is the act of attempting to recognize human\n",
        "emotion and affective states from speech, since voice often reflects different un-\n",
        "derlying emotions by the tone and pitch. This area of research encompasses an\n",
        "important problem that is receiving increasing interest due to its applications\n",
        "in areas such as audio surveillance, clinical studies, mental state recognition,\n",
        "conversational analysis, among others"
      ],
      "metadata": {
        "id": "FXXiMW-eZS1C"
      }
    },
    {
      "cell_type": "markdown",
      "source": [
        "# Methodology"
      ],
      "metadata": {
        "id": "cIGPz48NZVMV"
      }
    },
    {
      "cell_type": "markdown",
      "source": [
        "## Feature extraction"
      ],
      "metadata": {
        "id": "FEikxIdKZXRJ"
      }
    },
    {
      "cell_type": "markdown",
      "source": [
        "The raw audio files are processed, features are extracted and a database is created. Such steps are implemented in the related notebook below."
      ],
      "metadata": {
        "id": "fMSphKaPfjye"
      }
    },
    {
      "cell_type": "markdown",
      "source": [
        "Data extraction file"
      ],
      "metadata": {
        "id": "lGyN-fW6ex73"
      }
    },
    {
      "cell_type": "markdown",
      "source": [
        "# Classification models"
      ],
      "metadata": {
        "id": "KstiTX6cZf_m"
      }
    },
    {
      "cell_type": "code",
      "execution_count": null,
      "metadata": {
        "id": "ory6WLHL_kEq",
        "colab": {
          "base_uri": "https://localhost:8080/"
        },
        "outputId": "d9dfa2b8-ada7-43ec-92ce-633946102080"
      },
      "outputs": [
        {
          "output_type": "stream",
          "name": "stdout",
          "text": [
            "Drive already mounted at /content/gdrive; to attempt to forcibly remount, call drive.mount(\"/content/gdrive\", force_remount=True).\n"
          ]
        }
      ],
      "source": [
        "from google.colab            import files\n",
        "from google.colab            import drive\n",
        "\n",
        "from sklearn.model_selection import train_test_split\n",
        "from sklearn.neural_network  import MLPClassifier\n",
        "from sklearn.preprocessing   import LabelEncoder\n",
        "from sklearn.preprocessing   import StandardScaler\n",
        "from sklearn.metrics         import accuracy_score\n",
        "from sklearn.metrics         import confusion_matrix, roc_curve, roc_auc_score, auc, ConfusionMatrixDisplay, mean_squared_error, classification_report\n",
        "from tqdm                    import tqdm\n",
        "from sklearn.svm             import SVC\n",
        "from sklearn                 import metrics\n",
        "from sklearn.datasets        import load_digits\n",
        "from matplotlib              import pyplot as plt\n",
        "from sklearn.model_selection import learning_curve\n",
        "from sklearn                 import preprocessing\n",
        "\n",
        "from tensorflow.keras        import layers as L\n",
        "from tensorflow.keras        import layers\n",
        "from tensorflow.keras        import Model\n",
        "\n",
        "import matplotlib.pyplot     as plt\n",
        "import tensorflow            as tf\n",
        "import pandas                as pd\n",
        "import seaborn               as sns\n",
        "import numpy                 as np\n",
        "import os, glob, pickle\n",
        "import librosa\n",
        "import soundfile\n",
        "\n",
        "import warnings\n",
        "warnings.filterwarnings(\"ignore\")\n",
        "\n",
        "drive.mount('/content/gdrive')"
      ]
    },
    {
      "cell_type": "markdown",
      "source": [
        "Load data from file"
      ],
      "metadata": {
        "id": "elTFGoatWHqM"
      }
    },
    {
      "cell_type": "code",
      "source": [
        "db_path     = '/content/gdrive/Myunit/Machine_Learning/SpeechRecognition/data/'\n",
        "filename    = 'database_4emotions.pkl'\n",
        "\n",
        "with open(db_path + filename, \"rb\") as fh:\n",
        "  df = pickle.load(fh)\n",
        "\n",
        "df.head()"
      ],
      "metadata": {
        "colab": {
          "base_uri": "https://localhost:8080/",
          "height": 366
        },
        "id": "SLHje82cWKGj",
        "outputId": "394b91b4-e8f4-4dea-bdea-a81e745a71e2"
      },
      "execution_count": null,
      "outputs": [
        {
          "output_type": "execute_result",
          "data": {
            "text/plain": [
              "          0         1         2         3         4         5         6  \\\n",
              "0  0.119855  0.507461  0.414120  0.401716  0.409684  0.421298  0.516690   \n",
              "1  0.272872  0.598629  0.556412  0.565423  0.577642  0.594398  0.611372   \n",
              "2  0.113133  0.606384  0.411250  0.374669  0.412562  0.385073  0.455472   \n",
              "3  0.121266  0.480263  0.422342  0.468604  0.466126  0.490174  0.548692   \n",
              "4  0.253915  0.587318  0.601298  0.596231  0.615663  0.647406  0.576359   \n",
              "\n",
              "          7         8         9  ...           180           181        182  \\\n",
              "0  0.537631  0.590918  0.640058  ...  1.338648e-13  1.309344e-13  20.370474   \n",
              "1  0.538784  0.579985  0.654674  ...  9.955534e-05  1.028548e-04  14.896172   \n",
              "2  0.502469  0.521309  0.601805  ...  1.592488e-11  1.517740e-11  20.748005   \n",
              "3  0.555605  0.593634  0.596291  ...  5.084489e-12  5.084499e-12  21.361512   \n",
              "4  0.603092  0.619207  0.645742  ...  3.304043e-04  3.335241e-04  14.709076   \n",
              "\n",
              "         183        184        185        186        187        188   labels  \n",
              "0  18.402018  18.706955  17.229192  18.818294  18.757125  60.299300  fearful  \n",
              "1  17.230610  17.458664  15.637138  15.465091  14.857155  14.319924  fearful  \n",
              "2  18.602199  20.547905  18.824408  21.102303  20.811776  44.048627  fearful  \n",
              "3  19.764985  20.110708  17.858791  19.005673  19.560215  60.839976     calm  \n",
              "4  18.327844  18.166773  15.902382  15.985995  14.690535  13.897322     calm  \n",
              "\n",
              "[5 rows x 190 columns]"
            ],
            "text/html": [
              "\n",
              "  <div id=\"df-5d273efb-230b-4dd3-b488-f8ed0689f4af\">\n",
              "    <div class=\"colab-df-container\">\n",
              "      <div>\n",
              "<style scoped>\n",
              "    .dataframe tbody tr th:only-of-type {\n",
              "        vertical-align: middle;\n",
              "    }\n",
              "\n",
              "    .dataframe tbody tr th {\n",
              "        vertical-align: top;\n",
              "    }\n",
              "\n",
              "    .dataframe thead th {\n",
              "        text-align: right;\n",
              "    }\n",
              "</style>\n",
              "<table border=\"1\" class=\"dataframe\">\n",
              "  <thead>\n",
              "    <tr style=\"text-align: right;\">\n",
              "      <th></th>\n",
              "      <th>0</th>\n",
              "      <th>1</th>\n",
              "      <th>2</th>\n",
              "      <th>3</th>\n",
              "      <th>4</th>\n",
              "      <th>5</th>\n",
              "      <th>6</th>\n",
              "      <th>7</th>\n",
              "      <th>8</th>\n",
              "      <th>9</th>\n",
              "      <th>...</th>\n",
              "      <th>180</th>\n",
              "      <th>181</th>\n",
              "      <th>182</th>\n",
              "      <th>183</th>\n",
              "      <th>184</th>\n",
              "      <th>185</th>\n",
              "      <th>186</th>\n",
              "      <th>187</th>\n",
              "      <th>188</th>\n",
              "      <th>labels</th>\n",
              "    </tr>\n",
              "  </thead>\n",
              "  <tbody>\n",
              "    <tr>\n",
              "      <th>0</th>\n",
              "      <td>0.119855</td>\n",
              "      <td>0.507461</td>\n",
              "      <td>0.414120</td>\n",
              "      <td>0.401716</td>\n",
              "      <td>0.409684</td>\n",
              "      <td>0.421298</td>\n",
              "      <td>0.516690</td>\n",
              "      <td>0.537631</td>\n",
              "      <td>0.590918</td>\n",
              "      <td>0.640058</td>\n",
              "      <td>...</td>\n",
              "      <td>1.338648e-13</td>\n",
              "      <td>1.309344e-13</td>\n",
              "      <td>20.370474</td>\n",
              "      <td>18.402018</td>\n",
              "      <td>18.706955</td>\n",
              "      <td>17.229192</td>\n",
              "      <td>18.818294</td>\n",
              "      <td>18.757125</td>\n",
              "      <td>60.299300</td>\n",
              "      <td>fearful</td>\n",
              "    </tr>\n",
              "    <tr>\n",
              "      <th>1</th>\n",
              "      <td>0.272872</td>\n",
              "      <td>0.598629</td>\n",
              "      <td>0.556412</td>\n",
              "      <td>0.565423</td>\n",
              "      <td>0.577642</td>\n",
              "      <td>0.594398</td>\n",
              "      <td>0.611372</td>\n",
              "      <td>0.538784</td>\n",
              "      <td>0.579985</td>\n",
              "      <td>0.654674</td>\n",
              "      <td>...</td>\n",
              "      <td>9.955534e-05</td>\n",
              "      <td>1.028548e-04</td>\n",
              "      <td>14.896172</td>\n",
              "      <td>17.230610</td>\n",
              "      <td>17.458664</td>\n",
              "      <td>15.637138</td>\n",
              "      <td>15.465091</td>\n",
              "      <td>14.857155</td>\n",
              "      <td>14.319924</td>\n",
              "      <td>fearful</td>\n",
              "    </tr>\n",
              "    <tr>\n",
              "      <th>2</th>\n",
              "      <td>0.113133</td>\n",
              "      <td>0.606384</td>\n",
              "      <td>0.411250</td>\n",
              "      <td>0.374669</td>\n",
              "      <td>0.412562</td>\n",
              "      <td>0.385073</td>\n",
              "      <td>0.455472</td>\n",
              "      <td>0.502469</td>\n",
              "      <td>0.521309</td>\n",
              "      <td>0.601805</td>\n",
              "      <td>...</td>\n",
              "      <td>1.592488e-11</td>\n",
              "      <td>1.517740e-11</td>\n",
              "      <td>20.748005</td>\n",
              "      <td>18.602199</td>\n",
              "      <td>20.547905</td>\n",
              "      <td>18.824408</td>\n",
              "      <td>21.102303</td>\n",
              "      <td>20.811776</td>\n",
              "      <td>44.048627</td>\n",
              "      <td>fearful</td>\n",
              "    </tr>\n",
              "    <tr>\n",
              "      <th>3</th>\n",
              "      <td>0.121266</td>\n",
              "      <td>0.480263</td>\n",
              "      <td>0.422342</td>\n",
              "      <td>0.468604</td>\n",
              "      <td>0.466126</td>\n",
              "      <td>0.490174</td>\n",
              "      <td>0.548692</td>\n",
              "      <td>0.555605</td>\n",
              "      <td>0.593634</td>\n",
              "      <td>0.596291</td>\n",
              "      <td>...</td>\n",
              "      <td>5.084489e-12</td>\n",
              "      <td>5.084499e-12</td>\n",
              "      <td>21.361512</td>\n",
              "      <td>19.764985</td>\n",
              "      <td>20.110708</td>\n",
              "      <td>17.858791</td>\n",
              "      <td>19.005673</td>\n",
              "      <td>19.560215</td>\n",
              "      <td>60.839976</td>\n",
              "      <td>calm</td>\n",
              "    </tr>\n",
              "    <tr>\n",
              "      <th>4</th>\n",
              "      <td>0.253915</td>\n",
              "      <td>0.587318</td>\n",
              "      <td>0.601298</td>\n",
              "      <td>0.596231</td>\n",
              "      <td>0.615663</td>\n",
              "      <td>0.647406</td>\n",
              "      <td>0.576359</td>\n",
              "      <td>0.603092</td>\n",
              "      <td>0.619207</td>\n",
              "      <td>0.645742</td>\n",
              "      <td>...</td>\n",
              "      <td>3.304043e-04</td>\n",
              "      <td>3.335241e-04</td>\n",
              "      <td>14.709076</td>\n",
              "      <td>18.327844</td>\n",
              "      <td>18.166773</td>\n",
              "      <td>15.902382</td>\n",
              "      <td>15.985995</td>\n",
              "      <td>14.690535</td>\n",
              "      <td>13.897322</td>\n",
              "      <td>calm</td>\n",
              "    </tr>\n",
              "  </tbody>\n",
              "</table>\n",
              "<p>5 rows × 190 columns</p>\n",
              "</div>\n",
              "      <button class=\"colab-df-convert\" onclick=\"convertToInteractive('df-5d273efb-230b-4dd3-b488-f8ed0689f4af')\"\n",
              "              title=\"Convert this dataframe to an interactive table.\"\n",
              "              style=\"display:none;\">\n",
              "        \n",
              "  <svg xmlns=\"http://www.w3.org/2000/svg\" height=\"24px\"viewBox=\"0 0 24 24\"\n",
              "       width=\"24px\">\n",
              "    <path d=\"M0 0h24v24H0V0z\" fill=\"none\"/>\n",
              "    <path d=\"M18.56 5.44l.94 2.06.94-2.06 2.06-.94-2.06-.94-.94-2.06-.94 2.06-2.06.94zm-11 1L8.5 8.5l.94-2.06 2.06-.94-2.06-.94L8.5 2.5l-.94 2.06-2.06.94zm10 10l.94 2.06.94-2.06 2.06-.94-2.06-.94-.94-2.06-.94 2.06-2.06.94z\"/><path d=\"M17.41 7.96l-1.37-1.37c-.4-.4-.92-.59-1.43-.59-.52 0-1.04.2-1.43.59L10.3 9.45l-7.72 7.72c-.78.78-.78 2.05 0 2.83L4 21.41c.39.39.9.59 1.41.59.51 0 1.02-.2 1.41-.59l7.78-7.78 2.81-2.81c.8-.78.8-2.07 0-2.86zM5.41 20L4 18.59l7.72-7.72 1.47 1.35L5.41 20z\"/>\n",
              "  </svg>\n",
              "      </button>\n",
              "      \n",
              "  <style>\n",
              "    .colab-df-container {\n",
              "      display:flex;\n",
              "      flex-wrap:wrap;\n",
              "      gap: 12px;\n",
              "    }\n",
              "\n",
              "    .colab-df-convert {\n",
              "      background-color: #E8F0FE;\n",
              "      border: none;\n",
              "      border-radius: 50%;\n",
              "      cursor: pointer;\n",
              "      display: none;\n",
              "      fill: #1967D2;\n",
              "      height: 32px;\n",
              "      padding: 0 0 0 0;\n",
              "      width: 32px;\n",
              "    }\n",
              "\n",
              "    .colab-df-convert:hover {\n",
              "      background-color: #E2EBFA;\n",
              "      box-shadow: 0px 1px 2px rgba(60, 64, 67, 0.3), 0px 1px 3px 1px rgba(60, 64, 67, 0.15);\n",
              "      fill: #174EA6;\n",
              "    }\n",
              "\n",
              "    [theme=dark] .colab-df-convert {\n",
              "      background-color: #3B4455;\n",
              "      fill: #D2E3FC;\n",
              "    }\n",
              "\n",
              "    [theme=dark] .colab-df-convert:hover {\n",
              "      background-color: #434B5C;\n",
              "      box-shadow: 0px 1px 3px 1px rgba(0, 0, 0, 0.15);\n",
              "      filter: drop-shadow(0px 1px 2px rgba(0, 0, 0, 0.3));\n",
              "      fill: #FFFFFF;\n",
              "    }\n",
              "  </style>\n",
              "\n",
              "      <script>\n",
              "        const buttonEl =\n",
              "          document.querySelector('#df-5d273efb-230b-4dd3-b488-f8ed0689f4af button.colab-df-convert');\n",
              "        buttonEl.style.display =\n",
              "          google.colab.kernel.accessAllowed ? 'block' : 'none';\n",
              "\n",
              "        async function convertToInteractive(key) {\n",
              "          const element = document.querySelector('#df-5d273efb-230b-4dd3-b488-f8ed0689f4af');\n",
              "          const dataTable =\n",
              "            await google.colab.kernel.invokeFunction('convertToInteractive',\n",
              "                                                     [key], {});\n",
              "          if (!dataTable) return;\n",
              "\n",
              "          const docLinkHtml = 'Like what you see? Visit the ' +\n",
              "            '<a target=\"_blank\" href=https://colab.research.google.com/notebooks/data_table.ipynb>data table notebook</a>'\n",
              "            + ' to learn more about interactive tables.';\n",
              "          element.innerHTML = '';\n",
              "          dataTable['output_type'] = 'display_data';\n",
              "          await google.colab.output.renderOutput(dataTable, element);\n",
              "          const docLink = document.createElement('div');\n",
              "          docLink.innerHTML = docLinkHtml;\n",
              "          element.appendChild(docLink);\n",
              "        }\n",
              "      </script>\n",
              "    </div>\n",
              "  </div>\n",
              "  "
            ]
          },
          "metadata": {},
          "execution_count": 2
        }
      ]
    },
    {
      "cell_type": "code",
      "source": [
        "X = df.iloc[: ,:-1].values\n",
        "Y = df['labels'].values"
      ],
      "metadata": {
        "id": "ApC2xxm-WL8b"
      },
      "execution_count": null,
      "outputs": []
    },
    {
      "cell_type": "markdown",
      "source": [
        "Scale the feature vector"
      ],
      "metadata": {
        "id": "6OO5HJHqdYPY"
      }
    },
    {
      "cell_type": "code",
      "source": [
        "scaler = StandardScaler()\n",
        "X      = scaler.fit_transform(X)"
      ],
      "metadata": {
        "id": "oolsNFsqdatE"
      },
      "execution_count": null,
      "outputs": []
    },
    {
      "cell_type": "markdown",
      "source": [
        "Divide in train and test"
      ],
      "metadata": {
        "id": "KlZS-dXNeAKh"
      }
    },
    {
      "cell_type": "code",
      "source": [
        "x_train, x_test, y_train, y_test = train_test_split(X, Y, random_state=0, shuffle=True)"
      ],
      "metadata": {
        "id": "Il250dwDeF6Q"
      },
      "execution_count": null,
      "outputs": []
    },
    {
      "cell_type": "markdown",
      "source": [
        "Visualize the class distribution"
      ],
      "metadata": {
        "id": "P8QdBgeHecZ2"
      }
    },
    {
      "cell_type": "code",
      "source": [
        "unique, counts = np.unique(y_train, return_counts=True)\n",
        "dict(zip(unique, counts))"
      ],
      "metadata": {
        "colab": {
          "base_uri": "https://localhost:8080/"
        },
        "id": "jMKs4GPNSUfV",
        "outputId": "9de4bbc0-7eea-41b5-a478-da1f58e30d30"
      },
      "execution_count": null,
      "outputs": [
        {
          "output_type": "execute_result",
          "data": {
            "text/plain": [
              "{'calm': 428, 'disgust': 434, 'fearful': 437, 'happy': 429}"
            ]
          },
          "metadata": {},
          "execution_count": 37
        }
      ]
    },
    {
      "cell_type": "code",
      "source": [
        "plt.title('Count of Emotions', size=16)\n",
        "sns.countplot(y_train)\n",
        "plt.ylabel('Count', size=12)\n",
        "plt.xlabel('Emotions', size=12)\n",
        "sns.despine(top=True, right=True, left=False, bottom=False)\n",
        "plt.show()"
      ],
      "metadata": {
        "colab": {
          "base_uri": "https://localhost:8080/",
          "height": 300
        },
        "id": "-UHSYCq9eeI9",
        "outputId": "303a956a-6557-40af-f169-0e04a812e433"
      },
      "execution_count": null,
      "outputs": [
        {
          "output_type": "display_data",
          "data": {
            "text/plain": [
              "<Figure size 432x288 with 1 Axes>"
            ],
            "image/png": "[encoded data removed]"
          },
          "metadata": {
            "needs_background": "light"
          }
        }
      ]
    },
    {
      "cell_type": "markdown",
      "source": [
        "Change categorical variables to numerical"
      ],
      "metadata": {
        "id": "p9BoDtAgd66a"
      }
    },
    {
      "cell_type": "code",
      "source": [
        "label_encoder = LabelEncoder()\n",
        "\n",
        "integer_encoded      = label_encoder.fit_transform(y_train)\n",
        "integer_encoded_test = label_encoder.fit_transform(y_test)"
      ],
      "metadata": {
        "id": "yU7-rIstd9uZ"
      },
      "execution_count": null,
      "outputs": []
    },
    {
      "cell_type": "code",
      "source": [
        "y_train_encoded = integer_encoded\n",
        "y_test_encoded = integer_encoded_test"
      ],
      "metadata": {
        "id": "EQz3paxoh9GZ"
      },
      "execution_count": null,
      "outputs": []
    },
    {
      "cell_type": "markdown",
      "source": [
        "## Baseline model\n",
        "\n",
        "The model below is extracted from: https://data-flair.training/blogs/python-mini-project-speech-emotion-recognition/\n",
        "\n",
        "This model is used as a baseline for comparing our own models."
      ],
      "metadata": {
        "id": "DIpunc8TZifk"
      }
    },
    {
      "cell_type": "code",
      "source": [
        "# Model creation\n",
        "mlp_model = MLPClassifier(activation='relu', alpha=0.01,batch_size=256,beta_1=0.9,beta_2=0.999,early_stopping=False,epsilon=1e-08,hidden_layer_sizes=(300,), learning_rate='adaptive', learning_rate_init=0.001,\n",
        "                      max_iter=500, momentum=0.9,n_iter_no_change=10,nesterovs_momentum=True,power_t=0.5,random_state=None,shuffle=True,solver='adam',tol=0.0001,validation_fraction=0.1, verbose=False, warm_start=False)"
      ],
      "metadata": {
        "id": "DHls_068Djtk"
      },
      "execution_count": null,
      "outputs": []
    },
    {
      "cell_type": "code",
      "source": [
        "# Training\n",
        "mlp_model.fit(x_train, y_train_encoded)"
      ],
      "metadata": {
        "colab": {
          "base_uri": "https://localhost:8080/"
        },
        "id": "iGrHh3_6C1qQ",
        "outputId": "49ae6be3-e657-487f-ee3f-512b5c11d4ad"
      },
      "execution_count": null,
      "outputs": [
        {
          "output_type": "execute_result",
          "data": {
            "text/plain": [
              "MLPClassifier(alpha=0.01, batch_size=256, hidden_layer_sizes=(300,),\n",
              "              learning_rate='adaptive', max_iter=500)"
            ]
          },
          "metadata": {},
          "execution_count": 42
        }
      ]
    },
    {
      "cell_type": "code",
      "source": [
        "# Test\n",
        "y_pred=mlp_model.predict(x_test)"
      ],
      "metadata": {
        "id": "pMOGljBDC32t"
      },
      "execution_count": null,
      "outputs": []
    },
    {
      "cell_type": "markdown",
      "source": [
        "Performance evaluation"
      ],
      "metadata": {
        "id": "qq9CCC_jghzX"
      }
    },
    {
      "cell_type": "code",
      "source": [
        "# Performance metrics: Accuracy\n",
        "accuracy=accuracy_score(y_true=y_test_encoded, y_pred=y_pred)\n",
        "\n",
        "print(\"Accuracy: {:.2f}%\".format(accuracy*100))"
      ],
      "metadata": {
        "colab": {
          "base_uri": "https://localhost:8080/"
        },
        "id": "FQo1R8XqC5Ws",
        "outputId": "427d440c-0f2a-457b-9770-d1808b5b9b4d"
      },
      "execution_count": null,
      "outputs": [
        {
          "output_type": "stream",
          "name": "stdout",
          "text": [
            "Accuracy: 88.54%\n"
          ]
        }
      ]
    },
    {
      "cell_type": "code",
      "source": [
        "print('Accuracy of DT classifier on training set: {:.2f}'\n",
        "     .format(mlp_model.score(x_train, y_train_encoded)))\n",
        "print('Accuracy of DT classifier on test set: {:.2f}'\n",
        "     .format(mlp_model.score(x_test, y_test_encoded)))\n",
        "print(\"----------------------------------\")\n",
        "print(classification_report(y_test_encoded, y_pred, target_names=['calm', 'disgust', 'fearful', 'happy']))\n",
        "print(\"----------------------------------\")\n",
        "cm   = confusion_matrix(y_test_encoded, y_pred, labels=[0, 1, 2, 3])\n",
        "disp = ConfusionMatrixDisplay(confusion_matrix=cm, display_labels=['calm', 'disgust', 'fearful', 'happy'])\n",
        "disp.plot()"
      ],
      "metadata": {
        "colab": {
          "base_uri": "https://localhost:8080/",
          "height": 557
        },
        "id": "uCKcRl-dgkqT",
        "outputId": "54ad4552-dc65-4b9c-9e14-12059612338f"
      },
      "execution_count": null,
      "outputs": [
        {
          "output_type": "stream",
          "name": "stdout",
          "text": [
            "Accuracy of DT classifier on training set: 1.00\n",
            "Accuracy of DT classifier on test set: 0.89\n",
            "----------------------------------\n",
            "              precision    recall  f1-score   support\n",
            "\n",
            "        calm       0.92      0.94      0.93       148\n",
            "     disgust       0.91      0.88      0.90       142\n",
            "     fearful       0.87      0.88      0.87       139\n",
            "       happy       0.84      0.84      0.84       147\n",
            "\n",
            "    accuracy                           0.89       576\n",
            "   macro avg       0.89      0.89      0.89       576\n",
            "weighted avg       0.89      0.89      0.89       576\n",
            "\n",
            "----------------------------------\n"
          ]
        },
        {
          "output_type": "execute_result",
          "data": {
            "text/plain": [
              "<sklearn.metrics._plot.confusion_matrix.ConfusionMatrixDisplay at 0x7f3368139e10>"
            ]
          },
          "metadata": {},
          "execution_count": 14
        },
        {
          "output_type": "display_data",
          "data": {
            "text/plain": [
              "<Figure size 432x288 with 2 Axes>"
            ],
            "image/png": "[encoded data removed]"
          },
          "metadata": {
            "needs_background": "light"
          }
        }
      ]
    },
    {
      "cell_type": "markdown",
      "source": [
        "## Model 1\n",
        "\n",
        "The first model consists of a Convolutional Neural Network that receives as input a 1-D vector with 189 elements (that is the dimension obtained from feature extraction). The model consists of 4 convolutional layers, which extract 128 filters each. The activation function used between layer is ReLU, and dropout of 0.2 is added at the end of each block."
      ],
      "metadata": {
        "id": "jJHJFftdZxRX"
      }
    },
    {
      "cell_type": "code",
      "source": [
        "def speech_model_build():\n",
        "  input_layer = L.Input(shape=(189, 1))\n",
        "\n",
        "  cnn1 = L.Conv1D(256, (5))(input_layer)\n",
        "  batch_norm1 = L.BatchNormalization()(cnn1)\n",
        "  relu1 = L.ReLU()(batch_norm1)\n",
        "\n",
        "  cnn2 = L.Conv1D(128, (5))(relu1)\n",
        "  relu2 = L.ReLU()(cnn2)\n",
        "  dropout1 = L.Dropout(0.1)(relu2)\n",
        "  batch_norm2 = L.BatchNormalization()(dropout1)\n",
        "\n",
        "  max_pool1 = L.MaxPool1D(8)(batch_norm2)\n",
        "\n",
        "  conv3 = L.Conv1D(128, (5))(max_pool1)\n",
        "  relu3 = L.ReLU()(conv3)\n",
        "  conv4 = L.Conv1D(128, (5))(relu3)\n",
        "  relu4 = L.ReLU()(conv4)\n",
        "  conv5 = L.Conv1D(128, (5))(relu4)\n",
        "  batch_norm4 = L.BatchNormalization()(conv5)\n",
        "  relu5 = L.ReLU()(batch_norm4)\n",
        "  dropout2 = L.Dropout(0.2)(relu5)\n",
        "\n",
        "  conv6 = L.Conv1D(128, (5))(dropout2)\n",
        "  flatten = L.Flatten()(conv6)\n",
        "  dropout3 = L.Dropout(0.2)(flatten)\n",
        "\n",
        "  out_classes = 4\n",
        "  output_logits = L.Dense(out_classes)(dropout3)\n",
        "  batch_norm5 = L.BatchNormalization()(output_logits)\n",
        "  softmax = L.Softmax()(batch_norm5)\n",
        "  model = Model(inputs=[input_layer], outputs=[softmax])\n",
        "  optimizer = tf.keras.optimizers.Adam(1e-5)\n",
        "  loss = tf.keras.losses.SparseCategoricalCrossentropy()\n",
        "  model.compile(optimizer=optimizer, loss=loss, metrics=['accuracy'])\n",
        "\n",
        "  return model"
      ],
      "metadata": {
        "id": "NrohTxn6zgVW"
      },
      "execution_count": null,
      "outputs": []
    },
    {
      "cell_type": "code",
      "source": [
        "class SpeechModel:\n",
        "    def __init__(self, num_output_classes=4) -> None:\n",
        "        self.num_output_classes = num_output_classes\n",
        "\n",
        "    def getRAVDESS(self) -> Model:\n",
        "        \"\"\"Returns a tensorflow model that is according to specifications of the baseline CNN model in the paper.\"\"\"\n",
        "        input_layer = L.Input(shape=(189, 1))\n",
        "\n",
        "        cnn1 = L.Conv1D(256, (5))(input_layer)\n",
        "        batch_norm1 = L.BatchNormalization()(cnn1)\n",
        "        relu1 = L.ReLU()(batch_norm1)\n",
        "\n",
        "        cnn2 = L.Conv1D(128, (5))(relu1)\n",
        "        relu2 = L.ReLU()(cnn2)\n",
        "        dropout1 = L.Dropout(0.1)(relu2)\n",
        "        batch_norm2 = L.BatchNormalization()(dropout1)\n",
        "\n",
        "        max_pool1 = L.MaxPool1D(8)(batch_norm2)\n",
        "\n",
        "        conv3 = L.Conv1D(128, (5))(max_pool1)\n",
        "        relu3 = L.ReLU()(conv3)\n",
        "        conv4 = L.Conv1D(128, (5))(relu3)\n",
        "        relu4 = L.ReLU()(conv4)\n",
        "        conv5 = L.Conv1D(128, (5))(relu4)\n",
        "        batch_norm4 = L.BatchNormalization()(conv5)\n",
        "        relu5 = L.ReLU()(batch_norm4)\n",
        "        dropout2 = L.Dropout(0.2)(relu5)\n",
        "\n",
        "        conv6 = L.Conv1D(128, (5))(dropout2)\n",
        "        flatten = L.Flatten()(conv6)\n",
        "        dropout3 = L.Dropout(0.2)(flatten)\n",
        "\n",
        "        output_logits = L.Dense(self.num_output_classes)(dropout3)\n",
        "        batch_norm5 = L.BatchNormalization()(output_logits)\n",
        "        softmax = L.Softmax()(batch_norm5)\n",
        "        model = Model(inputs=[input_layer], outputs=[softmax])\n",
        "        optimizer = tf.keras.optimizers.Adam(1e-5)\n",
        "        loss = tf.keras.losses.SparseCategoricalCrossentropy()\n",
        "        model.compile(optimizer=optimizer, loss=loss, metrics=['accuracy'])\n",
        "\n",
        "        return model"
      ],
      "metadata": {
        "id": "XY-p8VrJC7ro"
      },
      "execution_count": null,
      "outputs": []
    },
    {
      "cell_type": "markdown",
      "source": [
        "Since we filtered our dataset to only four different features (or emotions), we create the model with 4 output layers. The original batch size used is 64, and we train from an interval between 50 and 80 epochs."
      ],
      "metadata": {
        "id": "oDIy6KkWVJON"
      }
    },
    {
      "cell_type": "code",
      "source": [
        "speech_model = SpeechModel(4)\n",
        "speech_model = speech_model.getRAVDESS()\n",
        "history = speech_model.fit(x_train, np.asarray(y_train_encoded), batch_size=64, epochs=80)"
      ],
      "metadata": {
        "id": "6l652NC0ZCV1",
        "colab": {
          "base_uri": "https://localhost:8080/"
        },
        "outputId": "2e59980a-edb1-46d8-d01e-e1cfe24be9e8"
      },
      "execution_count": null,
      "outputs": [
        {
          "output_type": "stream",
          "name": "stdout",
          "text": [
            "Epoch 1/80\n",
            "27/27 [==============================] - 14s 13ms/step - loss: 1.4880 - accuracy: 0.2894\n",
            "Epoch 2/80\n",
            "27/27 [==============================] - 0s 12ms/step - loss: 1.4017 - accuracy: 0.3426\n",
            "Epoch 3/80\n",
            "27/27 [==============================] - 0s 12ms/step - loss: 1.3260 - accuracy: 0.3663\n",
            "Epoch 4/80\n",
            "27/27 [==============================] - 0s 12ms/step - loss: 1.2985 - accuracy: 0.3872\n",
            "Epoch 5/80\n",
            "27/27 [==============================] - 0s 12ms/step - loss: 1.2450 - accuracy: 0.4225\n",
            "Epoch 6/80\n",
            "27/27 [==============================] - 0s 12ms/step - loss: 1.2354 - accuracy: 0.4329\n",
            "Epoch 7/80\n",
            "27/27 [==============================] - 0s 12ms/step - loss: 1.2142 - accuracy: 0.4300\n",
            "Epoch 8/80\n",
            "27/27 [==============================] - 0s 12ms/step - loss: 1.2081 - accuracy: 0.4485\n",
            "Epoch 9/80\n",
            "27/27 [==============================] - 0s 12ms/step - loss: 1.1899 - accuracy: 0.4456\n",
            "Epoch 10/80\n",
            "27/27 [==============================] - 0s 12ms/step - loss: 1.1765 - accuracy: 0.4722\n",
            "Epoch 11/80\n",
            "27/27 [==============================] - 0s 12ms/step - loss: 1.1751 - accuracy: 0.4751\n",
            "Epoch 12/80\n",
            "27/27 [==============================] - 0s 12ms/step - loss: 1.1606 - accuracy: 0.4994\n",
            "Epoch 13/80\n",
            "27/27 [==============================] - 0s 12ms/step - loss: 1.1551 - accuracy: 0.4890\n",
            "Epoch 14/80\n",
            "27/27 [==============================] - 0s 12ms/step - loss: 1.1335 - accuracy: 0.5087\n",
            "Epoch 15/80\n",
            "27/27 [==============================] - 0s 12ms/step - loss: 1.1323 - accuracy: 0.4902\n",
            "Epoch 16/80\n",
            "27/27 [==============================] - 0s 12ms/step - loss: 1.0993 - accuracy: 0.5394\n",
            "Epoch 17/80\n",
            "27/27 [==============================] - 0s 12ms/step - loss: 1.0929 - accuracy: 0.5208\n",
            "Epoch 18/80\n",
            "27/27 [==============================] - 0s 12ms/step - loss: 1.0923 - accuracy: 0.5301\n",
            "Epoch 19/80\n",
            "27/27 [==============================] - 0s 12ms/step - loss: 1.0722 - accuracy: 0.5428\n",
            "Epoch 20/80\n",
            "27/27 [==============================] - 0s 12ms/step - loss: 1.0713 - accuracy: 0.5324\n",
            "Epoch 21/80\n",
            "27/27 [==============================] - 0s 12ms/step - loss: 1.0553 - accuracy: 0.5498\n",
            "Epoch 22/80\n",
            "27/27 [==============================] - 0s 12ms/step - loss: 1.0470 - accuracy: 0.5666\n",
            "Epoch 23/80\n",
            "27/27 [==============================] - 0s 12ms/step - loss: 1.0439 - accuracy: 0.5602\n",
            "Epoch 24/80\n",
            "27/27 [==============================] - 0s 12ms/step - loss: 1.0278 - accuracy: 0.5804\n",
            "Epoch 25/80\n",
            "27/27 [==============================] - 0s 12ms/step - loss: 1.0202 - accuracy: 0.5723\n",
            "Epoch 26/80\n",
            "27/27 [==============================] - 0s 12ms/step - loss: 1.0269 - accuracy: 0.5747\n",
            "Epoch 27/80\n",
            "27/27 [==============================] - 0s 12ms/step - loss: 1.0172 - accuracy: 0.5897\n",
            "Epoch 28/80\n",
            "27/27 [==============================] - 0s 12ms/step - loss: 1.0041 - accuracy: 0.5874\n",
            "Epoch 29/80\n",
            "27/27 [==============================] - 0s 12ms/step - loss: 0.9906 - accuracy: 0.6030\n",
            "Epoch 30/80\n",
            "27/27 [==============================] - 0s 12ms/step - loss: 0.9744 - accuracy: 0.6157\n",
            "Epoch 31/80\n",
            "27/27 [==============================] - 0s 12ms/step - loss: 0.9809 - accuracy: 0.6175\n",
            "Epoch 32/80\n",
            "27/27 [==============================] - 0s 12ms/step - loss: 0.9723 - accuracy: 0.6071\n",
            "Epoch 33/80\n",
            "27/27 [==============================] - 0s 12ms/step - loss: 0.9684 - accuracy: 0.6111\n",
            "Epoch 34/80\n",
            "27/27 [==============================] - 0s 12ms/step - loss: 0.9466 - accuracy: 0.6163\n",
            "Epoch 35/80\n",
            "27/27 [==============================] - 0s 12ms/step - loss: 0.9699 - accuracy: 0.5995\n",
            "Epoch 36/80\n",
            "27/27 [==============================] - 0s 12ms/step - loss: 0.9467 - accuracy: 0.6215\n",
            "Epoch 37/80\n",
            "27/27 [==============================] - 0s 12ms/step - loss: 0.9300 - accuracy: 0.6372\n",
            "Epoch 38/80\n",
            "27/27 [==============================] - 0s 12ms/step - loss: 0.9260 - accuracy: 0.6296\n",
            "Epoch 39/80\n",
            "27/27 [==============================] - 0s 12ms/step - loss: 0.9272 - accuracy: 0.6406\n",
            "Epoch 40/80\n",
            "27/27 [==============================] - 0s 12ms/step - loss: 0.9170 - accuracy: 0.6348\n",
            "Epoch 41/80\n",
            "27/27 [==============================] - 0s 12ms/step - loss: 0.9214 - accuracy: 0.6435\n",
            "Epoch 42/80\n",
            "27/27 [==============================] - 0s 12ms/step - loss: 0.8994 - accuracy: 0.6557\n",
            "Epoch 43/80\n",
            "27/27 [==============================] - 0s 12ms/step - loss: 0.9107 - accuracy: 0.6372\n",
            "Epoch 44/80\n",
            "27/27 [==============================] - 0s 12ms/step - loss: 0.8975 - accuracy: 0.6591\n",
            "Epoch 45/80\n",
            "27/27 [==============================] - 0s 12ms/step - loss: 0.8786 - accuracy: 0.6678\n",
            "Epoch 46/80\n",
            "27/27 [==============================] - 0s 12ms/step - loss: 0.8780 - accuracy: 0.6817\n",
            "Epoch 47/80\n",
            "27/27 [==============================] - 0s 12ms/step - loss: 0.8689 - accuracy: 0.6869\n",
            "Epoch 48/80\n",
            "27/27 [==============================] - 0s 12ms/step - loss: 0.8684 - accuracy: 0.6736\n",
            "Epoch 49/80\n",
            "27/27 [==============================] - 0s 12ms/step - loss: 0.8692 - accuracy: 0.6782\n",
            "Epoch 50/80\n",
            "27/27 [==============================] - 0s 12ms/step - loss: 0.8529 - accuracy: 0.6840\n",
            "Epoch 51/80\n",
            "27/27 [==============================] - 0s 12ms/step - loss: 0.8667 - accuracy: 0.6829\n",
            "Epoch 52/80\n",
            "27/27 [==============================] - 0s 12ms/step - loss: 0.8759 - accuracy: 0.6690\n",
            "Epoch 53/80\n",
            "27/27 [==============================] - 0s 12ms/step - loss: 0.8457 - accuracy: 0.6939\n",
            "Epoch 54/80\n",
            "27/27 [==============================] - 0s 12ms/step - loss: 0.8413 - accuracy: 0.6944\n",
            "Epoch 55/80\n",
            "27/27 [==============================] - 0s 12ms/step - loss: 0.8603 - accuracy: 0.6811\n",
            "Epoch 56/80\n",
            "27/27 [==============================] - 0s 12ms/step - loss: 0.8293 - accuracy: 0.7031\n",
            "Epoch 57/80\n",
            "27/27 [==============================] - 0s 12ms/step - loss: 0.8366 - accuracy: 0.6991\n",
            "Epoch 58/80\n",
            "27/27 [==============================] - 0s 12ms/step - loss: 0.8122 - accuracy: 0.7072\n",
            "Epoch 59/80\n",
            "27/27 [==============================] - 0s 12ms/step - loss: 0.8233 - accuracy: 0.7089\n",
            "Epoch 60/80\n",
            "27/27 [==============================] - 0s 12ms/step - loss: 0.8112 - accuracy: 0.7222\n",
            "Epoch 61/80\n",
            "27/27 [==============================] - 0s 12ms/step - loss: 0.8237 - accuracy: 0.7054\n",
            "Epoch 62/80\n",
            "27/27 [==============================] - 0s 12ms/step - loss: 0.8053 - accuracy: 0.7118\n",
            "Epoch 63/80\n",
            "27/27 [==============================] - 0s 12ms/step - loss: 0.8143 - accuracy: 0.7205\n",
            "Epoch 64/80\n",
            "27/27 [==============================] - 0s 12ms/step - loss: 0.8075 - accuracy: 0.7118\n",
            "Epoch 65/80\n",
            "27/27 [==============================] - 0s 12ms/step - loss: 0.7992 - accuracy: 0.7095\n",
            "Epoch 66/80\n",
            "27/27 [==============================] - 0s 12ms/step - loss: 0.8027 - accuracy: 0.7193\n",
            "Epoch 67/80\n",
            "27/27 [==============================] - 0s 12ms/step - loss: 0.7955 - accuracy: 0.7332\n",
            "Epoch 68/80\n",
            "27/27 [==============================] - 0s 12ms/step - loss: 0.7857 - accuracy: 0.7164\n",
            "Epoch 69/80\n",
            "27/27 [==============================] - 0s 12ms/step - loss: 0.7758 - accuracy: 0.7546\n",
            "Epoch 70/80\n",
            "27/27 [==============================] - 0s 12ms/step - loss: 0.7726 - accuracy: 0.7367\n",
            "Epoch 71/80\n",
            "27/27 [==============================] - 0s 12ms/step - loss: 0.7757 - accuracy: 0.7373\n",
            "Epoch 72/80\n",
            "27/27 [==============================] - 0s 12ms/step - loss: 0.7719 - accuracy: 0.7402\n",
            "Epoch 73/80\n",
            "27/27 [==============================] - 0s 12ms/step - loss: 0.7712 - accuracy: 0.7558\n",
            "Epoch 74/80\n",
            "27/27 [==============================] - 0s 12ms/step - loss: 0.7608 - accuracy: 0.7378\n",
            "Epoch 75/80\n",
            "27/27 [==============================] - 0s 12ms/step - loss: 0.7658 - accuracy: 0.7413\n",
            "Epoch 76/80\n",
            "27/27 [==============================] - 0s 12ms/step - loss: 0.7693 - accuracy: 0.7367\n",
            "Epoch 77/80\n",
            "27/27 [==============================] - 0s 12ms/step - loss: 0.7554 - accuracy: 0.7494\n",
            "Epoch 78/80\n",
            "27/27 [==============================] - 0s 12ms/step - loss: 0.7574 - accuracy: 0.7558\n",
            "Epoch 79/80\n",
            "27/27 [==============================] - 0s 13ms/step - loss: 0.7463 - accuracy: 0.7523\n",
            "Epoch 80/80\n",
            "27/27 [==============================] - 0s 12ms/step - loss: 0.7511 - accuracy: 0.7488\n"
          ]
        }
      ]
    },
    {
      "cell_type": "markdown",
      "source": [
        "Test the model"
      ],
      "metadata": {
        "id": "1i723_rFnoAb"
      }
    },
    {
      "cell_type": "code",
      "source": [
        "# Test\n",
        "y_pred=speech_model.predict(x_test)\n",
        "y_pred = tf.math.argmax(y_pred, axis=1)"
      ],
      "metadata": {
        "id": "rkwcaBv6kCAf"
      },
      "execution_count": null,
      "outputs": []
    },
    {
      "cell_type": "markdown",
      "source": [
        "Performance evaluation"
      ],
      "metadata": {
        "id": "ViyX9GbWjzgm"
      }
    },
    {
      "cell_type": "code",
      "source": [
        "score = speech_model.evaluate(x_train, np.asarray(y_train_encoded))\n",
        "accuracy_train = score[1]\n",
        "\n",
        "score = speech_model.evaluate(x_test, np.asarray(y_test_encoded))\n",
        "accuracy_test = score[1]\n",
        "\n",
        "print(f\"Accuracy in train data: {accuracy_train}\")\n",
        "print(f\"Accuracy in test data: {accuracy_test}\")"
      ],
      "metadata": {
        "id": "BGQ5kKDdZF-M",
        "colab": {
          "base_uri": "https://localhost:8080/"
        },
        "outputId": "c8a131d2-5a83-4c12-aa16-f40f65842fa4"
      },
      "execution_count": null,
      "outputs": [
        {
          "output_type": "stream",
          "name": "stdout",
          "text": [
            "54/54 [==============================] - 0s 3ms/step - loss: 0.7512 - accuracy: 0.7731\n",
            "18/18 [==============================] - 0s 3ms/step - loss: 0.9137 - accuracy: 0.6441\n",
            "Accuracy in train data: 0.7731481194496155\n",
            "Accuracy in test data: 0.6440972089767456\n"
          ]
        }
      ]
    },
    {
      "cell_type": "code",
      "source": [
        "print('Accuracy of speech model classifier on training set: {:.2f}'\n",
        "     .format(accuracy_train))\n",
        "print('Accuracy of speech model classifier on test set: {:.2f}'\n",
        "     .format(accuracy_test))\n",
        "print(\"----------------------------------\")\n",
        "print(classification_report(y_test_encoded, y_pred, target_names=['calm', 'disgust', 'fearful', 'happy']))\n",
        "print(\"----------------------------------\")\n",
        "cm   = confusion_matrix(y_test_encoded, y_pred, labels=[0, 1, 2, 3])\n",
        "disp = ConfusionMatrixDisplay(confusion_matrix=cm, display_labels=['calm', 'disgust', 'fearful', 'happy'])\n",
        "disp.plot()"
      ],
      "metadata": {
        "colab": {
          "base_uri": "https://localhost:8080/",
          "height": 560
        },
        "id": "dPoJd6D8j2fK",
        "outputId": "0609b7db-f50b-402c-a164-65827d25fa79"
      },
      "execution_count": null,
      "outputs": [
        {
          "output_type": "stream",
          "name": "stdout",
          "text": [
            "Accuracy of speech model classifier on training set: 0.77\n",
            "Accuracy of speech model classifier on test set: 0.64\n",
            "----------------------------------\n",
            "              precision    recall  f1-score   support\n",
            "\n",
            "        calm       0.92      0.53      0.68       148\n",
            "     disgust       0.48      0.85      0.62       142\n",
            "     fearful       0.84      0.55      0.66       139\n",
            "       happy       0.64      0.65      0.64       147\n",
            "\n",
            "    accuracy                           0.64       576\n",
            "   macro avg       0.72      0.64      0.65       576\n",
            "weighted avg       0.72      0.64      0.65       576\n",
            "\n",
            "----------------------------------\n"
          ]
        },
        {
          "output_type": "execute_result",
          "data": {
            "text/plain": [
              "<sklearn.metrics._plot.confusion_matrix.ConfusionMatrixDisplay at 0x7f33501a9610>"
            ]
          },
          "metadata": {},
          "execution_count": 20
        },
        {
          "output_type": "display_data",
          "data": {
            "text/plain": [
              "<Figure size 432x288 with 2 Axes>"
            ],
            "image/png": "[encoded data removed]"
          },
          "metadata": {
            "needs_background": "light"
          }
        }
      ]
    },
    {
      "cell_type": "markdown",
      "source": [
        "## Model 2"
      ],
      "metadata": {
        "id": "t43pfOl_aG0b"
      }
    },
    {
      "cell_type": "markdown",
      "source": [
        "SVC MODEL"
      ],
      "metadata": {
        "id": "1GD9WA3zHTQW"
      }
    },
    {
      "cell_type": "code",
      "source": [
        "modelsvc=SVC(kernel='rbf', C=660, gamma=0.001) "
      ],
      "metadata": {
        "id": "LxZxIvqcHNfW"
      },
      "execution_count": null,
      "outputs": []
    },
    {
      "cell_type": "code",
      "source": [
        "# Training\n",
        "modelsvc.fit(x_train,y_train) "
      ],
      "metadata": {
        "colab": {
          "base_uri": "https://localhost:8080/"
        },
        "id": "GEBQH6MLIfkr",
        "outputId": "d3ed69e8-a61f-47e4-e6a8-ce9aadc67a18"
      },
      "execution_count": null,
      "outputs": [
        {
          "output_type": "execute_result",
          "data": {
            "text/plain": [
              "SVC(C=660, gamma=0.001)"
            ]
          },
          "metadata": {},
          "execution_count": 22
        }
      ]
    },
    {
      "cell_type": "code",
      "source": [
        "# Test\n",
        "y_pred=modelsvc.predict(x_test)"
      ],
      "metadata": {
        "id": "CiNpm6gNInen"
      },
      "execution_count": null,
      "outputs": []
    },
    {
      "cell_type": "code",
      "source": [
        "# Performance metrics: Accuracy\n",
        "accuracy=accuracy_score(y_true=y_test, y_pred=y_pred)\n",
        "\n",
        "print(\"Accuracy: {:.2f}%\".format(accuracy*100))"
      ],
      "metadata": {
        "colab": {
          "base_uri": "https://localhost:8080/"
        },
        "id": "KfDp8F6vIs2y",
        "outputId": "942b8467-2c09-445d-c956-52790bc59b5b"
      },
      "execution_count": null,
      "outputs": [
        {
          "output_type": "stream",
          "name": "stdout",
          "text": [
            "Accuracy: 83.16%\n"
          ]
        }
      ]
    },
    {
      "cell_type": "code",
      "source": [
        "print(\"----------------------------------\")\n",
        "print(classification_report(y_test, y_pred, target_names=['calm', 'disgust', 'fearful', 'happy']))\n",
        "print(\"----------------------------------\")\n",
        "cm   = confusion_matrix(y_test, y_pred)\n",
        "disp = ConfusionMatrixDisplay(confusion_matrix=cm, display_labels=['calm', 'disgust', 'fearful', 'happy'])\n",
        "disp.plot()"
      ],
      "metadata": {
        "colab": {
          "base_uri": "https://localhost:8080/",
          "height": 522
        },
        "id": "8ISNnisgVe1n",
        "outputId": "2d82a94a-99a4-4f22-839c-4b3d73432fc6"
      },
      "execution_count": null,
      "outputs": [
        {
          "output_type": "stream",
          "name": "stdout",
          "text": [
            "----------------------------------\n",
            "              precision    recall  f1-score   support\n",
            "\n",
            "        calm       0.88      0.97      0.93       148\n",
            "     disgust       0.81      0.83      0.82       142\n",
            "     fearful       0.83      0.74      0.78       139\n",
            "       happy       0.79      0.78      0.78       147\n",
            "\n",
            "    accuracy                           0.83       576\n",
            "   macro avg       0.83      0.83      0.83       576\n",
            "weighted avg       0.83      0.83      0.83       576\n",
            "\n",
            "----------------------------------\n"
          ]
        },
        {
          "output_type": "execute_result",
          "data": {
            "text/plain": [
              "<sklearn.metrics._plot.confusion_matrix.ConfusionMatrixDisplay at 0x7f3365477250>"
            ]
          },
          "metadata": {},
          "execution_count": 25
        },
        {
          "output_type": "display_data",
          "data": {
            "text/plain": [
              "<Figure size 432x288 with 2 Axes>"
            ],
            "image/png": "[encoded data removed]"
          },
          "metadata": {
            "needs_background": "light"
          }
        }
      ]
    },
    {
      "cell_type": "markdown",
      "source": [],
      "metadata": {
        "id": "9enbKCSDIe8I"
      }
    },
    {
      "cell_type": "markdown",
      "source": [
        "## Model 3"
      ],
      "metadata": {
        "id": "oSJzcTVgaIFH"
      }
    },
    {
      "cell_type": "code",
      "source": [
        "# Data Agumentation\n",
        "def noise(data):\n",
        "    noise_amp = 0.035*np.random.uniform()*np.amax(data)\n",
        "    data = data + noise_amp*np.random.normal(size=data.shape[0])\n",
        "    return data\n",
        "\n",
        "def stretch(data, rate=0.8):\n",
        "    return librosa.effects.time_stretch(data, rate)\n",
        "\n",
        "def shift(data):\n",
        "    shift_range = int(np.random.uniform(low=-5, high = 5)*1000)\n",
        "    return np.roll(data, shift_range)\n",
        "\n",
        "def pitch(data, sampling_rate, pitch_factor=0.7):\n",
        "    return librosa.effects.pitch_shift(data, sampling_rate, pitch_factor)"
      ],
      "metadata": {
        "id": "45yAVq5QaIxw"
      },
      "execution_count": null,
      "outputs": []
    },
    {
      "cell_type": "code",
      "source": [
        "def padding( data, length ):\n",
        "    tf_array = tf.convert_to_tensor( data )\n",
        "    tf_zeros = np.zeros( length )\n",
        "    return np.array( tf.concat( [ tf_array, tf_zeros ], 0 ) )"
      ],
      "metadata": {
        "id": "xY96oQtpRuxd"
      },
      "execution_count": null,
      "outputs": []
    },
    {
      "cell_type": "markdown",
      "source": [
        "###Data Preprocessing"
      ],
      "metadata": {
        "id": "tyZn2F_can2u"
      }
    },
    {
      "cell_type": "code",
      "source": [
        "path     = '/content/gdrive/Shareddrives/CS4013/HW6/speech-emotion-recognition-ravdess-data/'\n",
        "Ravdess = path\n",
        "\n",
        "ravdess_directory_list = os.listdir(Ravdess)\n",
        "\n",
        "file_emotion = []\n",
        "file_path = []\n",
        "for dir in ravdess_directory_list:\n",
        "    # as their are 20 different actors in our previous directory we need to extract files for each actor.\n",
        "    actor = os.listdir(Ravdess + dir)\n",
        "    for file in actor:\n",
        "        part = file.split('.')[0]\n",
        "        part = part.split('-')\n",
        "        # third part in each file represents the emotion associated to that file.\n",
        "        file_emotion.append(int(part[2]))\n",
        "        file_path.append(Ravdess + dir + '/' + file)\n",
        "        \n",
        "# dataframe for emotion of files\n",
        "emotion_df = pd.DataFrame(file_emotion, columns=['Emotions'])\n",
        "\n",
        "# dataframe for path of files.\n",
        "path_df = pd.DataFrame(file_path, columns=['Path'])\n",
        "path_df = pd.concat([emotion_df, path_df], axis=1)\n",
        "\n",
        "# changing integers to actual emotions.\n",
        "path_df.Emotions.replace({1:'neutral', 2:'calm', 3:'happy', 4:'sad', 5:'angry', 6:'fear', 7:'disgust', 8:'surprise'}, inplace=True)"
      ],
      "metadata": {
        "id": "fQPTkze1QnPw"
      },
      "execution_count": null,
      "outputs": []
    },
    {
      "cell_type": "code",
      "source": [
        "# Emotions types and number of samples in each class\n",
        "unique, counts = np.unique( path_df.Emotions, return_counts = True )\n",
        "dict( zip( unique, counts ) )"
      ],
      "metadata": {
        "colab": {
          "base_uri": "https://localhost:8080/"
        },
        "id": "TNFOYwWkQ8Or",
        "outputId": "980abd2a-7f4f-45ab-ceb6-60f6b48cae1a"
      },
      "execution_count": null,
      "outputs": [
        {
          "output_type": "execute_result",
          "data": {
            "text/plain": [
              "{'angry': 192,\n",
              " 'calm': 192,\n",
              " 'disgust': 192,\n",
              " 'fear': 192,\n",
              " 'happy': 192,\n",
              " 'neutral': 96,\n",
              " 'sad': 192,\n",
              " 'surprise': 192}"
            ]
          },
          "metadata": {},
          "execution_count": 7
        }
      ]
    },
    {
      "cell_type": "code",
      "source": [
        "#Load audio files\n",
        "dataset = []\n",
        "for emotion, path in tqdm( zip( path_df.Emotions, path_df.Path ), total = len( path_df.Emotions ) ):\n",
        "    data, sr = librosa.load( path )\n",
        "    dataset.append( [ emotion, data, sr] )\n",
        "dataset = np.array( dataset )"
      ],
      "metadata": {
        "colab": {
          "base_uri": "https://localhost:8080/"
        },
        "id": "yVl5g2lWRDGm",
        "outputId": "b332e122-65c5-43b0-80f9-075fbc435a21"
      },
      "execution_count": null,
      "outputs": [
        {
          "output_type": "stream",
          "name": "stderr",
          "text": [
            "100%|██████████| 1440/1440 [20:27<00:00,  1.17it/s]\n"
          ]
        }
      ]
    },
    {
      "cell_type": "code",
      "source": [
        "emotions, audio_data, sampling_rate = dataset[ :,0 ], dataset[ :,1 ], np.unique( dataset[ :,2 ] )\n",
        "sampling_rate = sampling_rate[0]"
      ],
      "metadata": {
        "id": "ZV9V1s0iRD7O"
      },
      "execution_count": null,
      "outputs": []
    },
    {
      "cell_type": "code",
      "source": [
        "#Create DataFrame to filter audio by emotions in next steps\n",
        "df_data = pd.DataFrame( [ [ emotion, data ] for emotion, data in zip( emotions, audio_data ) ], columns = [ 'Emotions', 'Audio_Data' ] )"
      ],
      "metadata": {
        "id": "_Nxdzt5CRHF_"
      },
      "execution_count": null,
      "outputs": []
    },
    {
      "cell_type": "code",
      "source": [
        "#Use the functions to agument the audio data. \n",
        "def augmented_data( df ):\n",
        "    data = []\n",
        "    for dat in tqdm( df.Audio_Data, total = len( df.Emotions.values ) ):\n",
        "        data.append( noise( dat )  )\n",
        "        data.append( stretch( dat) )\n",
        "        data.append( shift( dat)   )\n",
        "        data.append( pitch( dat, sampling_rate = sampling_rate) )\n",
        "    data = np.array( data )\n",
        "    data = np.array( [ [ df.Emotions.values[0], dat ] for dat in data ] )\n",
        "    return data "
      ],
      "metadata": {
        "id": "KobsCiOPRhA1"
      },
      "execution_count": null,
      "outputs": []
    },
    {
      "cell_type": "code",
      "source": [
        "#Seperate audio data into 4 different subsets. \n",
        "df_calm    = df_data.loc[ ( df_data.Emotions == 'calm')    ]\n",
        "df_disgust = df_data.loc[ ( df_data.Emotions == 'disgust') ]\n",
        "df_fear    = df_data.loc[ ( df_data.Emotions == 'fear')    ]\n",
        "df_happy   = df_data.loc[ ( df_data.Emotions == 'happy')   ]\n",
        "print( 'Shape of datasets: {}'.format( df_calm.shape ) )"
      ],
      "metadata": {
        "colab": {
          "base_uri": "https://localhost:8080/"
        },
        "id": "B9IooPCXRjPv",
        "outputId": "8f23433b-44f2-4fd5-b4e3-bd98ce1a065c"
      },
      "execution_count": null,
      "outputs": [
        {
          "output_type": "stream",
          "name": "stdout",
          "text": [
            "Shape of datasets: (192, 2)\n"
          ]
        }
      ]
    },
    {
      "cell_type": "code",
      "source": [
        "#Agument the Audio Data\n",
        "calm    = augmented_data( df_calm )\n",
        "disgust = augmented_data( df_disgust )\n",
        "fear    = augmented_data( df_fear )\n",
        "happy   = augmented_data( df_happy )"
      ],
      "metadata": {
        "colab": {
          "base_uri": "https://localhost:8080/"
        },
        "id": "22jWsOJpRmXH",
        "outputId": "cd8519c0-073a-49fd-b5a0-c6188899dda8"
      },
      "execution_count": null,
      "outputs": [
        {
          "output_type": "stream",
          "name": "stderr",
          "text": [
            "100%|██████████| 192/192 [00:32<00:00,  5.92it/s]\n",
            "100%|██████████| 192/192 [00:32<00:00,  5.85it/s]\n",
            "100%|██████████| 192/192 [00:31<00:00,  6.05it/s]\n",
            "100%|██████████| 192/192 [00:30<00:00,  6.27it/s]\n"
          ]
        }
      ]
    },
    {
      "cell_type": "code",
      "source": [
        "#Combine all audio data into a single DataSet\n",
        "augmented_data = calm\n",
        "augmented_data = np.append( augmented_data, disgust, axis = 0 )\n",
        "augmented_data = np.append( augmented_data, fear   , axis = 0 )\n",
        "augmented_data = np.append( augmented_data, happy  , axis = 0 )\n",
        "augmented_data.shape"
      ],
      "metadata": {
        "colab": {
          "base_uri": "https://localhost:8080/"
        },
        "id": "RK9NDrVARpI4",
        "outputId": "5236857b-b77b-4be3-da40-5f7ce9b812dc"
      },
      "execution_count": null,
      "outputs": [
        {
          "output_type": "execute_result",
          "data": {
            "text/plain": [
              "(3072, 2)"
            ]
          },
          "metadata": {},
          "execution_count": 14
        }
      ]
    },
    {
      "cell_type": "code",
      "source": [
        "emotions, audio_data = augmented_data[:,0], augmented_data[:,1]\n",
        "\n",
        "#Obtain the maximum audio length\n",
        "shapes_audio = np.unique( np.array( [ data.shape for data in audio_data ] ) )\n",
        "max_shape = np.max( shapes_audio )\n",
        "print( \"Max shape of audio: {}\".format( max_shape ) )"
      ],
      "metadata": {
        "colab": {
          "base_uri": "https://localhost:8080/"
        },
        "id": "yvErDpNCRpzP",
        "outputId": "6cbaad88-5145-4edb-edf5-9adc8930163c"
      },
      "execution_count": null,
      "outputs": [
        {
          "output_type": "stream",
          "name": "stdout",
          "text": [
            "Max shape of audio: 145309\n"
          ]
        }
      ]
    },
    {
      "cell_type": "code",
      "source": [
        "#Reshape all audios with the same length\n",
        "audio_data = np.array( [ padding( data, max_shape - len( data ) ) for data in audio_data  ] )"
      ],
      "metadata": {
        "id": "4hFayCzjRwbA"
      },
      "execution_count": null,
      "outputs": []
    },
    {
      "cell_type": "code",
      "source": [
        "#Convert 1D audio data into a 2D image data. By applying Fourier Transform it is obtained the spectrogram of each audio. \n",
        "spectrum_data = np.array( [ librosa.feature.melspectrogram( data, sr = sampling_rate ) for data in audio_data ]  )"
      ],
      "metadata": {
        "id": "_4UO-yVDRyuA"
      },
      "execution_count": null,
      "outputs": []
    },
    {
      "cell_type": "code",
      "source": [
        "#Normalize Spectogram for Neural Network\n",
        "normalize_spectrum_data = np.array( [  preprocessing.normalize( data ) for data in spectrum_data ] )\n",
        "normalize_spectrum_data = np.reshape( normalize_spectrum_data, ( len(normalize_spectrum_data), 128, 284, 1 ) )\n",
        "normalize_spectrum_data.shape"
      ],
      "metadata": {
        "colab": {
          "base_uri": "https://localhost:8080/"
        },
        "id": "_fBisTm3R5mY",
        "outputId": "f11e841c-befc-4574-e02f-7d257d37ff69"
      },
      "execution_count": null,
      "outputs": [
        {
          "output_type": "execute_result",
          "data": {
            "text/plain": [
              "(3072, 128, 284, 1)"
            ]
          },
          "metadata": {},
          "execution_count": 18
        }
      ]
    },
    {
      "cell_type": "code",
      "source": [
        "#Encode labels and count the number of classes in the DataSet\n",
        "label_encoder = LabelEncoder()\n",
        "encoded_emotions = label_encoder.fit_transform( emotions )\n",
        "dictionary_emotions = { data : encoded_data for data, encoded_data in zip( emotions, encoded_emotions ) }\n",
        "no_classes = len( dictionary_emotions )\n",
        "print( 'Number of classes: {}'.format( no_classes ) )\n",
        "print( dictionary_emotions )"
      ],
      "metadata": {
        "colab": {
          "base_uri": "https://localhost:8080/"
        },
        "id": "bUHsrhuDR774",
        "outputId": "d6fc201c-496d-4b9e-9941-09f81cf0ad98"
      },
      "execution_count": null,
      "outputs": [
        {
          "output_type": "stream",
          "name": "stdout",
          "text": [
            "Number of classes: 4\n",
            "{'calm': 0, 'disgust': 1, 'fear': 2, 'happy': 3}\n"
          ]
        }
      ]
    },
    {
      "cell_type": "code",
      "source": [
        "#Split DataSet into train and test.\n",
        "x_train, x_test, y_train, y_test = train_test_split( normalize_spectrum_data, encoded_emotions, random_state=0, shuffle=True)\n",
        "print( 'Number of train samples {}. \\nNumber of test samples: {}'.format( len( x_train), len( x_test) ) )"
      ],
      "metadata": {
        "colab": {
          "base_uri": "https://localhost:8080/"
        },
        "id": "Wk6__wsLSDyQ",
        "outputId": "d359e6b7-9edc-4bb2-f118-6103017d7d5f"
      },
      "execution_count": null,
      "outputs": [
        {
          "output_type": "stream",
          "name": "stdout",
          "text": [
            "Number of train samples 2304. \n",
            "Number of test samples: 768\n"
          ]
        }
      ]
    },
    {
      "cell_type": "markdown",
      "source": [
        "###Neural Network Model"
      ],
      "metadata": {
        "id": "Aj9vpQP3iko_"
      }
    },
    {
      "cell_type": "code",
      "source": [
        "#Create Convolutional Neural Network\n",
        "def speech_classifier_model_3( no_classes=4 ):\n",
        "\n",
        "    input_layer = layers.Input( shape = ( 128, 284, 1 ) )\n",
        "\n",
        "    cnn_1        = layers.Conv2D( 64, (3,3), strides = (2,2), padding = 'same' )( input_layer )\n",
        "    max_pool_1   = layers.MaxPooling2D( pool_size = (2, 2), strides = (1, 1), padding='same' )( cnn_1 )\n",
        "    relu_1       = layers.LeakyReLU()( max_pool_1 )\n",
        "\n",
        "    cnn_2        = layers.Conv2D( 128, (3,3), strides = (2,2), padding = 'same' )( relu_1 )\n",
        "    max_pool_2   = layers.MaxPooling2D( pool_size = (2, 2), strides=(1, 1), padding='same' )( cnn_2 )\n",
        "    relu_2       = layers.LeakyReLU()( max_pool_2 )\n",
        "\n",
        "    cnn_3        = layers.Conv2D( 256, (3,3), strides = (2,2), padding = 'same' )( relu_2 )\n",
        "    max_pool_3   = layers.MaxPooling2D( pool_size = (2, 2), strides=(1, 1), padding='same' )( cnn_3 )\n",
        "    relu_3       = layers.LeakyReLU()( max_pool_3 )\n",
        "\n",
        "    flat         = layers.Flatten()( relu_3 )\n",
        "    dense_1      = layers.Dense( 50, activation = 'sigmoid' )( flat )\n",
        "    dense_2      = layers.Dense( no_classes, activation = 'softmax' )( dense_1 )\n",
        "\n",
        "    model        = Model( inputs = [ input_layer ], outputs = [ dense_2 ] )\n",
        "\n",
        "    loss         = tf.keras.losses.SparseCategoricalCrossentropy()\n",
        "    optimizer    = tf.keras.optimizers.Adam( 2e-4 )\n",
        "\n",
        "    model.compile( optimizer = optimizer, loss = loss, metrics = ['accuracy'])\n",
        "\n",
        "    return model "
      ],
      "metadata": {
        "id": "J8GIiOIySF8e"
      },
      "execution_count": null,
      "outputs": []
    },
    {
      "cell_type": "code",
      "source": [
        "speech_model_spectrum = speech_classifier_model_3( no_classes )\n",
        "speech_model_spectrum.summary()"
      ],
      "metadata": {
        "colab": {
          "base_uri": "https://localhost:8080/"
        },
        "id": "XMZ_kK95SJfn",
        "outputId": "57092912-a91c-4826-884a-84b96f117c29"
      },
      "execution_count": null,
      "outputs": [
        {
          "output_type": "stream",
          "name": "stdout",
          "text": [
            "Model: \"model\"\n",
            "_________________________________________________________________\n",
            " Layer (type)                Output Shape              Param #   \n",
            "=================================================================\n",
            " input_1 (InputLayer)        [(None, 128, 284, 1)]     0         \n",
            "                                                                 \n",
            " conv2d (Conv2D)             (None, 64, 142, 64)       640       \n",
            "                                                                 \n",
            " max_pooling2d (MaxPooling2D  (None, 64, 142, 64)      0         \n",
            " )                                                               \n",
            "                                                                 \n",
            " leaky_re_lu (LeakyReLU)     (None, 64, 142, 64)       0         \n",
            "                                                                 \n",
            " conv2d_1 (Conv2D)           (None, 32, 71, 128)       73856     \n",
            "                                                                 \n",
            " max_pooling2d_1 (MaxPooling  (None, 32, 71, 128)      0         \n",
            " 2D)                                                             \n",
            "                                                                 \n",
            " leaky_re_lu_1 (LeakyReLU)   (None, 32, 71, 128)       0         \n",
            "                                                                 \n",
            " conv2d_2 (Conv2D)           (None, 16, 36, 256)       295168    \n",
            "                                                                 \n",
            " max_pooling2d_2 (MaxPooling  (None, 16, 36, 256)      0         \n",
            " 2D)                                                             \n",
            "                                                                 \n",
            " leaky_re_lu_2 (LeakyReLU)   (None, 16, 36, 256)       0         \n",
            "                                                                 \n",
            " flatten (Flatten)           (None, 147456)            0         \n",
            "                                                                 \n",
            " dense (Dense)               (None, 50)                7372850   \n",
            "                                                                 \n",
            " dense_1 (Dense)             (None, 4)                 204       \n",
            "                                                                 \n",
            "=================================================================\n",
            "Total params: 7,742,718\n",
            "Trainable params: 7,742,718\n",
            "Non-trainable params: 0\n",
            "_________________________________________________________________\n"
          ]
        }
      ]
    },
    {
      "cell_type": "code",
      "source": [
        "history = speech_model_spectrum.fit( x_train, y_train, batch_size = 64, epochs = 20, validation_data = ( x_test , y_test ) )"
      ],
      "metadata": {
        "id": "3Yr-1fVGSO9b",
        "colab": {
          "base_uri": "https://localhost:8080/"
        },
        "outputId": "78ca51c4-1f2a-4e19-8169-b0303ea9cef6"
      },
      "execution_count": null,
      "outputs": [
        {
          "output_type": "stream",
          "name": "stdout",
          "text": [
            "Epoch 1/20\n",
            "36/36 [==============================] - 6s 111ms/step - loss: 1.3589 - accuracy: 0.3273 - val_loss: 1.2639 - val_accuracy: 0.4635\n",
            "Epoch 2/20\n",
            "36/36 [==============================] - 3s 93ms/step - loss: 1.1798 - accuracy: 0.4831 - val_loss: 1.1369 - val_accuracy: 0.5195\n",
            "Epoch 3/20\n",
            "36/36 [==============================] - 3s 93ms/step - loss: 1.0128 - accuracy: 0.5768 - val_loss: 0.9731 - val_accuracy: 0.5846\n",
            "Epoch 4/20\n",
            "36/36 [==============================] - 3s 93ms/step - loss: 0.8570 - accuracy: 0.6580 - val_loss: 0.8996 - val_accuracy: 0.6146\n",
            "Epoch 5/20\n",
            "36/36 [==============================] - 4s 102ms/step - loss: 0.7531 - accuracy: 0.7014 - val_loss: 0.8183 - val_accuracy: 0.6667\n",
            "Epoch 6/20\n",
            "36/36 [==============================] - 4s 102ms/step - loss: 0.6282 - accuracy: 0.7687 - val_loss: 0.7797 - val_accuracy: 0.6823\n",
            "Epoch 7/20\n",
            "36/36 [==============================] - 4s 102ms/step - loss: 0.5464 - accuracy: 0.7986 - val_loss: 0.7648 - val_accuracy: 0.7057\n",
            "Epoch 8/20\n",
            "36/36 [==============================] - 4s 103ms/step - loss: 0.4693 - accuracy: 0.8411 - val_loss: 0.6972 - val_accuracy: 0.7331\n",
            "Epoch 9/20\n",
            "36/36 [==============================] - 4s 104ms/step - loss: 0.3664 - accuracy: 0.8958 - val_loss: 0.6977 - val_accuracy: 0.7161\n",
            "Epoch 10/20\n",
            "36/36 [==============================] - 4s 102ms/step - loss: 0.3050 - accuracy: 0.9201 - val_loss: 0.6613 - val_accuracy: 0.7409\n",
            "Epoch 11/20\n",
            "36/36 [==============================] - 3s 93ms/step - loss: 0.2476 - accuracy: 0.9453 - val_loss: 0.6463 - val_accuracy: 0.7474\n",
            "Epoch 12/20\n",
            "36/36 [==============================] - 3s 93ms/step - loss: 0.1991 - accuracy: 0.9674 - val_loss: 0.6339 - val_accuracy: 0.7435\n",
            "Epoch 13/20\n",
            "36/36 [==============================] - 3s 93ms/step - loss: 0.1652 - accuracy: 0.9770 - val_loss: 0.6282 - val_accuracy: 0.7539\n",
            "Epoch 14/20\n",
            "36/36 [==============================] - 4s 100ms/step - loss: 0.1337 - accuracy: 0.9865 - val_loss: 0.6128 - val_accuracy: 0.7591\n",
            "Epoch 15/20\n",
            "36/36 [==============================] - 4s 100ms/step - loss: 0.1149 - accuracy: 0.9918 - val_loss: 0.6419 - val_accuracy: 0.7578\n",
            "Epoch 16/20\n",
            "36/36 [==============================] - 4s 100ms/step - loss: 0.0931 - accuracy: 0.9948 - val_loss: 0.6405 - val_accuracy: 0.7630\n",
            "Epoch 17/20\n",
            "36/36 [==============================] - 4s 100ms/step - loss: 0.0857 - accuracy: 0.9952 - val_loss: 0.6567 - val_accuracy: 0.7604\n",
            "Epoch 18/20\n",
            "36/36 [==============================] - 4s 100ms/step - loss: 0.0732 - accuracy: 0.9974 - val_loss: 0.6305 - val_accuracy: 0.7617\n",
            "Epoch 19/20\n",
            "36/36 [==============================] - 4s 100ms/step - loss: 0.0613 - accuracy: 0.9983 - val_loss: 0.6393 - val_accuracy: 0.7682\n",
            "Epoch 20/20\n",
            "36/36 [==============================] - 4s 100ms/step - loss: 0.0555 - accuracy: 0.9983 - val_loss: 0.6626 - val_accuracy: 0.7682\n"
          ]
        }
      ]
    },
    {
      "cell_type": "code",
      "source": [
        "score = speech_model_spectrum.evaluate(x_train, np.asarray(y_train))\n",
        "accuracy_train = score[1]\n",
        "\n",
        "score = speech_model_spectrum.evaluate(x_test, np.asarray(y_test))\n",
        "accuracy_test = score[1]\n",
        "\n",
        "print(f\"Accuracy in train data: {accuracy_train}\")\n",
        "print(f\"Accuracy in test data: {accuracy_test}\")"
      ],
      "metadata": {
        "colab": {
          "base_uri": "https://localhost:8080/"
        },
        "id": "DPnneEg2SQn0",
        "outputId": "1648a847-0b37-4772-87e7-985db81fbbb6"
      },
      "execution_count": null,
      "outputs": [
        {
          "output_type": "stream",
          "name": "stdout",
          "text": [
            "72/72 [==============================] - 2s 16ms/step - loss: 0.0515 - accuracy: 0.9987\n",
            "24/24 [==============================] - 0s 15ms/step - loss: 0.6626 - accuracy: 0.7682\n",
            "Accuracy in train data: 0.9986979365348816\n",
            "Accuracy in test data: 0.7682291865348816\n"
          ]
        }
      ]
    },
    {
      "cell_type": "code",
      "source": [
        "y_pred = speech_model_spectrum.predict( x_test )\n",
        "y_pred = np.array( [ np.argmax( pred ) for pred in y_pred ] ) \n",
        "\n",
        "print('Accuracy of speech model classifier on training set: {:.2f}'\n",
        "     .format(accuracy_train))\n",
        "print('Accuracy of speech model classifier on test set: {:.2f}'\n",
        "     .format(accuracy_test))\n",
        "print(\"----------------------------------\")\n",
        "print(classification_report(y_test, y_pred, target_names=['calm', 'disgust', 'fear', 'happy']))\n",
        "print(\"----------------------------------\")\n",
        "cm   = confusion_matrix(y_test, y_pred, labels= [0, 1, 2, 3] )\n",
        "disp = ConfusionMatrixDisplay(confusion_matrix=cm, display_labels=['calm', 'disgust', 'fear', 'happy'])\n",
        "disp.plot()"
      ],
      "metadata": {
        "colab": {
          "base_uri": "https://localhost:8080/",
          "height": 557
        },
        "id": "9nesRl5NSSbT",
        "outputId": "ddd4796b-01a9-4ed3-b957-0ca13ad10eed"
      },
      "execution_count": null,
      "outputs": [
        {
          "output_type": "stream",
          "name": "stdout",
          "text": [
            "Accuracy of speech model classifier on training set: 1.00\n",
            "Accuracy of speech model classifier on test set: 0.77\n",
            "----------------------------------\n",
            "              precision    recall  f1-score   support\n",
            "\n",
            "        calm       0.82      0.78      0.80       205\n",
            "     disgust       0.80      0.82      0.81       205\n",
            "        fear       0.69      0.82      0.75       166\n",
            "       happy       0.76      0.66      0.71       192\n",
            "\n",
            "    accuracy                           0.77       768\n",
            "   macro avg       0.77      0.77      0.77       768\n",
            "weighted avg       0.77      0.77      0.77       768\n",
            "\n",
            "----------------------------------\n"
          ]
        },
        {
          "output_type": "execute_result",
          "data": {
            "text/plain": [
              "<sklearn.metrics._plot.confusion_matrix.ConfusionMatrixDisplay at 0x7f75a338a110>"
            ]
          },
          "metadata": {},
          "execution_count": 47
        },
        {
          "output_type": "display_data",
          "data": {
            "text/plain": [
              "<Figure size 432x288 with 2 Axes>"
            ],
            "image/png": "[encoded data removed]"
          },
          "metadata": {
            "needs_background": "light"
          }
        }
      ]
    },
    {
      "cell_type": "code",
      "source": [
        "# prepare models\n",
        "models = []\n",
        "models.append(('CNN2', KerasClassifier(build_fn=speech_classifier_model_3, epochs=20, batch_size=64)))\n",
        "\n",
        "# evaluate each model in turnspeech_classifier_model_3\n",
        "results = []\n",
        "names = []\n",
        "scoring = 'accuracy'\n",
        "for name, model in models:\n",
        "\tkfold = model_selection.KFold(n_splits=10, shuffle=True)\n",
        "\tcv_results = model_selection.cross_val_score(model, normalize_spectrum_data, encoded_emotions, cv=kfold, scoring=scoring)\n",
        "\tresults.append(cv_results)\n",
        "\tnames.append(name)\n",
        "\tmsg = \"%s: %f (%f)\" % (name, cv_results.mean(), cv_results.std())\n",
        "\tprint(msg)"
      ],
      "metadata": {
        "colab": {
          "base_uri": "https://localhost:8080/"
        },
        "id": "Lu5_Ebjb0dwS",
        "outputId": "5f8f1d73-8a92-4696-cb08-e9883ba686bb"
      },
      "execution_count": null,
      "outputs": [
        {
          "output_type": "stream",
          "name": "stdout",
          "text": [
            "Epoch 1/20\n",
            "44/44 [==============================] - 15s 79ms/step - loss: 1.3986 - accuracy: 0.3057\n",
            "Epoch 2/20\n",
            "44/44 [==============================] - 3s 76ms/step - loss: 1.2381 - accuracy: 0.4501\n",
            "Epoch 3/20\n",
            "44/44 [==============================] - 3s 76ms/step - loss: 1.0754 - accuracy: 0.5438\n",
            "Epoch 4/20\n",
            "44/44 [==============================] - 3s 77ms/step - loss: 0.9350 - accuracy: 0.6241\n",
            "Epoch 5/20\n",
            "44/44 [==============================] - 3s 77ms/step - loss: 0.7722 - accuracy: 0.7012\n",
            "Epoch 6/20\n",
            "44/44 [==============================] - 3s 77ms/step - loss: 0.6955 - accuracy: 0.7341\n",
            "Epoch 7/20\n",
            "44/44 [==============================] - 3s 78ms/step - loss: 0.5952 - accuracy: 0.7851\n",
            "Epoch 8/20\n",
            "44/44 [==============================] - 3s 78ms/step - loss: 0.5039 - accuracy: 0.8216\n",
            "Epoch 9/20\n",
            "44/44 [==============================] - 4s 80ms/step - loss: 0.4413 - accuracy: 0.8506\n",
            "Epoch 10/20\n",
            "44/44 [==============================] - 4s 82ms/step - loss: 0.3784 - accuracy: 0.8828\n",
            "Epoch 11/20\n",
            "44/44 [==============================] - 3s 79ms/step - loss: 0.3496 - accuracy: 0.8929\n",
            "Epoch 12/20\n",
            "44/44 [==============================] - 4s 80ms/step - loss: 0.2762 - accuracy: 0.9309\n",
            "Epoch 13/20\n",
            "44/44 [==============================] - 4s 80ms/step - loss: 0.2234 - accuracy: 0.9515\n",
            "Epoch 14/20\n",
            "44/44 [==============================] - 4s 80ms/step - loss: 0.1870 - accuracy: 0.9692\n",
            "Epoch 15/20\n",
            "44/44 [==============================] - 4s 81ms/step - loss: 0.1550 - accuracy: 0.9823\n",
            "Epoch 16/20\n",
            "44/44 [==============================] - 4s 81ms/step - loss: 0.1347 - accuracy: 0.9844\n",
            "Epoch 17/20\n",
            "44/44 [==============================] - 4s 81ms/step - loss: 0.1071 - accuracy: 0.9924\n",
            "Epoch 18/20\n",
            "44/44 [==============================] - 4s 82ms/step - loss: 0.0900 - accuracy: 0.9957\n",
            "Epoch 19/20\n",
            "44/44 [==============================] - 4s 83ms/step - loss: 0.0768 - accuracy: 0.9975\n",
            "Epoch 20/20\n",
            "44/44 [==============================] - 4s 83ms/step - loss: 0.0673 - accuracy: 0.9982\n",
            "Epoch 1/20\n",
            "44/44 [==============================] - 4s 83ms/step - loss: 1.3331 - accuracy: 0.3531\n",
            "Epoch 2/20\n",
            "44/44 [==============================] - 4s 83ms/step - loss: 1.1550 - accuracy: 0.4844\n",
            "Epoch 3/20\n",
            "44/44 [==============================] - 4s 83ms/step - loss: 0.9644 - accuracy: 0.6078\n",
            "Epoch 4/20\n",
            "44/44 [==============================] - 4s 83ms/step - loss: 0.8075 - accuracy: 0.6813\n",
            "Epoch 5/20\n",
            "44/44 [==============================] - 4s 83ms/step - loss: 0.7032 - accuracy: 0.7381\n",
            "Epoch 6/20\n",
            "44/44 [==============================] - 4s 83ms/step - loss: 0.6005 - accuracy: 0.7894\n",
            "Epoch 7/20\n",
            "44/44 [==============================] - 4s 82ms/step - loss: 0.5376 - accuracy: 0.8104\n",
            "Epoch 8/20\n",
            "44/44 [==============================] - 4s 82ms/step - loss: 0.4607 - accuracy: 0.8495\n",
            "Epoch 9/20\n",
            "44/44 [==============================] - 4s 82ms/step - loss: 0.4044 - accuracy: 0.8770\n",
            "Epoch 10/20\n",
            "44/44 [==============================] - 4s 81ms/step - loss: 0.3615 - accuracy: 0.8940\n",
            "Epoch 11/20\n",
            "44/44 [==============================] - 4s 82ms/step - loss: 0.2869 - accuracy: 0.9273\n",
            "Epoch 12/20\n",
            "44/44 [==============================] - 4s 81ms/step - loss: 0.2572 - accuracy: 0.9367\n",
            "Epoch 13/20\n",
            "44/44 [==============================] - 4s 81ms/step - loss: 0.2303 - accuracy: 0.9465\n",
            "Epoch 14/20\n",
            "44/44 [==============================] - 4s 81ms/step - loss: 0.1931 - accuracy: 0.9627\n",
            "Epoch 15/20\n",
            "44/44 [==============================] - 4s 81ms/step - loss: 0.1680 - accuracy: 0.9721\n",
            "Epoch 16/20\n",
            "44/44 [==============================] - 4s 81ms/step - loss: 0.1414 - accuracy: 0.9815\n",
            "Epoch 17/20\n",
            "44/44 [==============================] - 4s 81ms/step - loss: 0.1165 - accuracy: 0.9884\n",
            "Epoch 18/20\n",
            "44/44 [==============================] - 4s 81ms/step - loss: 0.1002 - accuracy: 0.9920\n",
            "Epoch 19/20\n",
            "44/44 [==============================] - 4s 81ms/step - loss: 0.0888 - accuracy: 0.9931\n",
            "Epoch 20/20\n",
            "44/44 [==============================] - 4s 81ms/step - loss: 0.0775 - accuracy: 0.9946\n",
            "Epoch 1/20\n",
            "44/44 [==============================] - 4s 85ms/step - loss: 1.3903 - accuracy: 0.3107\n",
            "Epoch 2/20\n",
            "44/44 [==============================] - 4s 81ms/step - loss: 1.2054 - accuracy: 0.4637\n",
            "Epoch 3/20\n",
            "44/44 [==============================] - 4s 82ms/step - loss: 1.0151 - accuracy: 0.5783\n",
            "Epoch 4/20\n",
            "44/44 [==============================] - 4s 82ms/step - loss: 0.8444 - accuracy: 0.6684\n",
            "Epoch 5/20\n",
            "44/44 [==============================] - 4s 83ms/step - loss: 0.7354 - accuracy: 0.7168\n",
            "Epoch 6/20\n",
            "44/44 [==============================] - 4s 83ms/step - loss: 0.6460 - accuracy: 0.7599\n",
            "Epoch 7/20\n",
            "44/44 [==============================] - 4s 84ms/step - loss: 0.5412 - accuracy: 0.8210\n",
            "Epoch 8/20\n",
            "44/44 [==============================] - 4s 84ms/step - loss: 0.4452 - accuracy: 0.8651\n",
            "Epoch 9/20\n",
            "44/44 [==============================] - 4s 85ms/step - loss: 0.3724 - accuracy: 0.8966\n",
            "Epoch 10/20\n",
            "44/44 [==============================] - 4s 84ms/step - loss: 0.3189 - accuracy: 0.9244\n",
            "Epoch 11/20\n",
            "44/44 [==============================] - 4s 83ms/step - loss: 0.2599 - accuracy: 0.9450\n",
            "Epoch 12/20\n",
            "44/44 [==============================] - 4s 83ms/step - loss: 0.2263 - accuracy: 0.9559\n",
            "Epoch 13/20\n",
            "44/44 [==============================] - 4s 83ms/step - loss: 0.1845 - accuracy: 0.9769\n",
            "Epoch 14/20\n",
            "44/44 [==============================] - 4s 83ms/step - loss: 0.1475 - accuracy: 0.9837\n",
            "Epoch 15/20\n",
            "44/44 [==============================] - 4s 82ms/step - loss: 0.1268 - accuracy: 0.9888\n",
            "Epoch 16/20\n",
            "44/44 [==============================] - 4s 82ms/step - loss: 0.1134 - accuracy: 0.9920\n",
            "Epoch 17/20\n",
            "44/44 [==============================] - 4s 82ms/step - loss: 0.0981 - accuracy: 0.9928\n",
            "Epoch 18/20\n",
            "44/44 [==============================] - 4s 82ms/step - loss: 0.0889 - accuracy: 0.9949\n",
            "Epoch 19/20\n",
            "44/44 [==============================] - 4s 84ms/step - loss: 0.0768 - accuracy: 0.9946\n",
            "Epoch 20/20\n",
            "44/44 [==============================] - 4s 82ms/step - loss: 0.0692 - accuracy: 0.9949\n",
            "Epoch 1/20\n",
            "44/44 [==============================] - 4s 80ms/step - loss: 1.3600 - accuracy: 0.3335\n",
            "Epoch 2/20\n",
            "44/44 [==============================] - 4s 81ms/step - loss: 1.1590 - accuracy: 0.4850\n",
            "Epoch 3/20\n",
            "44/44 [==============================] - 4s 81ms/step - loss: 0.9876 - accuracy: 0.5765\n",
            "Epoch 4/20\n",
            "44/44 [==============================] - 4s 82ms/step - loss: 0.8197 - accuracy: 0.6756\n",
            "Epoch 5/20\n",
            "44/44 [==============================] - 4s 82ms/step - loss: 0.6965 - accuracy: 0.7385\n",
            "Epoch 6/20\n",
            "44/44 [==============================] - 4s 83ms/step - loss: 0.6026 - accuracy: 0.7776\n",
            "Epoch 7/20\n",
            "44/44 [==============================] - 4s 83ms/step - loss: 0.5310 - accuracy: 0.8094\n",
            "Epoch 8/20\n",
            "44/44 [==============================] - 4s 84ms/step - loss: 0.4489 - accuracy: 0.8503\n",
            "Epoch 9/20\n",
            "44/44 [==============================] - 4s 84ms/step - loss: 0.3904 - accuracy: 0.8752\n",
            "Epoch 10/20\n",
            "44/44 [==============================] - 4s 84ms/step - loss: 0.3382 - accuracy: 0.9034\n",
            "Epoch 11/20\n",
            "44/44 [==============================] - 4s 84ms/step - loss: 0.2723 - accuracy: 0.9313\n",
            "Epoch 12/20\n",
            "44/44 [==============================] - 4s 83ms/step - loss: 0.2277 - accuracy: 0.9523\n",
            "Epoch 13/20\n",
            "44/44 [==============================] - 4s 83ms/step - loss: 0.1961 - accuracy: 0.9642\n",
            "Epoch 14/20\n",
            "44/44 [==============================] - 4s 83ms/step - loss: 0.1633 - accuracy: 0.9693\n",
            "Epoch 15/20\n",
            "44/44 [==============================] - 4s 82ms/step - loss: 0.1408 - accuracy: 0.9816\n",
            "Epoch 16/20\n",
            "44/44 [==============================] - 4s 82ms/step - loss: 0.1115 - accuracy: 0.9895\n",
            "Epoch 17/20\n",
            "44/44 [==============================] - 4s 82ms/step - loss: 0.1007 - accuracy: 0.9946\n",
            "Epoch 18/20\n",
            "44/44 [==============================] - 4s 82ms/step - loss: 0.0826 - accuracy: 0.9953\n",
            "Epoch 19/20\n",
            "44/44 [==============================] - 4s 82ms/step - loss: 0.0734 - accuracy: 0.9967\n",
            "Epoch 20/20\n",
            "44/44 [==============================] - 4s 82ms/step - loss: 0.0668 - accuracy: 0.9982\n",
            "Epoch 1/20\n",
            "44/44 [==============================] - 4s 81ms/step - loss: 1.3250 - accuracy: 0.3675\n",
            "Epoch 2/20\n",
            "44/44 [==============================] - 4s 81ms/step - loss: 1.0733 - accuracy: 0.5335\n",
            "Epoch 3/20\n",
            "44/44 [==============================] - 4s 82ms/step - loss: 0.8862 - accuracy: 0.6401\n",
            "Epoch 4/20\n",
            "44/44 [==============================] - 4s 82ms/step - loss: 0.7666 - accuracy: 0.6991\n",
            "Epoch 5/20\n",
            "44/44 [==============================] - 4s 82ms/step - loss: 0.6666 - accuracy: 0.7385\n",
            "Epoch 6/20\n",
            "44/44 [==============================] - 4s 83ms/step - loss: 0.5913 - accuracy: 0.7899\n",
            "Epoch 7/20\n",
            "44/44 [==============================] - 4s 84ms/step - loss: 0.5049 - accuracy: 0.8231\n",
            "Epoch 8/20\n",
            "44/44 [==============================] - 4s 84ms/step - loss: 0.4261 - accuracy: 0.8597\n",
            "Epoch 9/20\n",
            "44/44 [==============================] - 4s 85ms/step - loss: 0.3452 - accuracy: 0.8991\n",
            "Epoch 10/20\n",
            "44/44 [==============================] - 4s 85ms/step - loss: 0.2980 - accuracy: 0.9204\n",
            "Epoch 11/20\n",
            "44/44 [==============================] - 4s 85ms/step - loss: 0.2563 - accuracy: 0.9349\n",
            "Epoch 12/20\n",
            "44/44 [==============================] - 4s 85ms/step - loss: 0.1995 - accuracy: 0.9624\n",
            "Epoch 13/20\n",
            "44/44 [==============================] - 4s 83ms/step - loss: 0.1750 - accuracy: 0.9703\n",
            "Epoch 14/20\n",
            "44/44 [==============================] - 4s 83ms/step - loss: 0.1477 - accuracy: 0.9794\n",
            "Epoch 15/20\n",
            "44/44 [==============================] - 4s 83ms/step - loss: 0.1174 - accuracy: 0.9870\n",
            "Epoch 16/20\n",
            "44/44 [==============================] - 4s 82ms/step - loss: 0.0988 - accuracy: 0.9920\n",
            "Epoch 17/20\n",
            "44/44 [==============================] - 4s 83ms/step - loss: 0.0841 - accuracy: 0.9949\n",
            "Epoch 18/20\n",
            "44/44 [==============================] - 4s 82ms/step - loss: 0.0743 - accuracy: 0.9960\n",
            "Epoch 19/20\n",
            "44/44 [==============================] - 4s 82ms/step - loss: 0.0649 - accuracy: 0.9975\n",
            "Epoch 20/20\n",
            "44/44 [==============================] - 4s 82ms/step - loss: 0.0577 - accuracy: 0.9986\n",
            "Epoch 1/20\n",
            "44/44 [==============================] - 4s 81ms/step - loss: 1.3289 - accuracy: 0.3577\n",
            "Epoch 2/20\n",
            "44/44 [==============================] - 4s 81ms/step - loss: 1.1263 - accuracy: 0.5002\n",
            "Epoch 3/20\n",
            "44/44 [==============================] - 4s 81ms/step - loss: 0.9455 - accuracy: 0.6098\n",
            "Epoch 4/20\n",
            "44/44 [==============================] - 4s 82ms/step - loss: 0.7989 - accuracy: 0.6832\n",
            "Epoch 5/20\n",
            "44/44 [==============================] - 4s 83ms/step - loss: 0.6693 - accuracy: 0.7566\n",
            "Epoch 6/20\n",
            "44/44 [==============================] - 4s 83ms/step - loss: 0.6180 - accuracy: 0.7642\n",
            "Epoch 7/20\n",
            "44/44 [==============================] - 4s 84ms/step - loss: 0.5303 - accuracy: 0.8159\n",
            "Epoch 8/20\n",
            "44/44 [==============================] - 4s 84ms/step - loss: 0.4428 - accuracy: 0.8528\n",
            "Epoch 9/20\n",
            "44/44 [==============================] - 4s 85ms/step - loss: 0.3735 - accuracy: 0.8868\n",
            "Epoch 10/20\n",
            "44/44 [==============================] - 4s 85ms/step - loss: 0.3241 - accuracy: 0.9034\n",
            "Epoch 11/20\n",
            "44/44 [==============================] - 4s 84ms/step - loss: 0.2752 - accuracy: 0.9262\n",
            "Epoch 12/20\n",
            "44/44 [==============================] - 4s 84ms/step - loss: 0.2398 - accuracy: 0.9421\n",
            "Epoch 13/20\n",
            "44/44 [==============================] - 4s 84ms/step - loss: 0.1989 - accuracy: 0.9627\n",
            "Epoch 14/20\n",
            "44/44 [==============================] - 4s 83ms/step - loss: 0.1789 - accuracy: 0.9649\n",
            "Epoch 15/20\n",
            "44/44 [==============================] - 4s 83ms/step - loss: 0.1565 - accuracy: 0.9754\n",
            "Epoch 16/20\n",
            "44/44 [==============================] - 4s 83ms/step - loss: 0.1229 - accuracy: 0.9884\n",
            "Epoch 17/20\n",
            "44/44 [==============================] - 4s 83ms/step - loss: 0.1012 - accuracy: 0.9917\n",
            "Epoch 18/20\n",
            "44/44 [==============================] - 4s 82ms/step - loss: 0.0871 - accuracy: 0.9957\n",
            "Epoch 19/20\n",
            "44/44 [==============================] - 4s 82ms/step - loss: 0.0752 - accuracy: 0.9971\n",
            "Epoch 20/20\n",
            "44/44 [==============================] - 4s 82ms/step - loss: 0.0687 - accuracy: 0.9975\n",
            "Epoch 1/20\n",
            "44/44 [==============================] - 4s 81ms/step - loss: 1.3150 - accuracy: 0.3675\n",
            "Epoch 2/20\n",
            "44/44 [==============================] - 4s 81ms/step - loss: 1.0542 - accuracy: 0.5508\n",
            "Epoch 3/20\n",
            "44/44 [==============================] - 4s 83ms/step - loss: 0.8496 - accuracy: 0.6622\n",
            "Epoch 4/20\n",
            "44/44 [==============================] - 4s 83ms/step - loss: 0.7131 - accuracy: 0.7168\n",
            "Epoch 5/20\n",
            "44/44 [==============================] - 4s 82ms/step - loss: 0.5940 - accuracy: 0.7819\n",
            "Epoch 6/20\n",
            "44/44 [==============================] - 4s 83ms/step - loss: 0.5127 - accuracy: 0.8235\n",
            "Epoch 7/20\n",
            "44/44 [==============================] - 4s 84ms/step - loss: 0.4170 - accuracy: 0.8633\n",
            "Epoch 8/20\n",
            "44/44 [==============================] - 4s 84ms/step - loss: 0.3456 - accuracy: 0.8944\n",
            "Epoch 9/20\n",
            "44/44 [==============================] - 4s 85ms/step - loss: 0.2824 - accuracy: 0.9219\n",
            "Epoch 10/20\n",
            "44/44 [==============================] - 4s 85ms/step - loss: 0.2399 - accuracy: 0.9421\n",
            "Epoch 11/20\n",
            "44/44 [==============================] - 4s 85ms/step - loss: 0.1976 - accuracy: 0.9580\n",
            "Epoch 12/20\n",
            "44/44 [==============================] - 4s 84ms/step - loss: 0.1596 - accuracy: 0.9732\n",
            "Epoch 13/20\n",
            "44/44 [==============================] - 4s 84ms/step - loss: 0.1335 - accuracy: 0.9801\n",
            "Epoch 14/20\n",
            "44/44 [==============================] - 4s 83ms/step - loss: 0.1070 - accuracy: 0.9910\n",
            "Epoch 15/20\n",
            "44/44 [==============================] - 4s 83ms/step - loss: 0.0895 - accuracy: 0.9942\n",
            "Epoch 16/20\n",
            "44/44 [==============================] - 4s 83ms/step - loss: 0.0736 - accuracy: 0.9971\n",
            "Epoch 17/20\n",
            "44/44 [==============================] - 4s 83ms/step - loss: 0.0631 - accuracy: 0.9978\n",
            "Epoch 18/20\n",
            "44/44 [==============================] - 4s 82ms/step - loss: 0.0557 - accuracy: 0.9982\n",
            "Epoch 19/20\n",
            "44/44 [==============================] - 4s 82ms/step - loss: 0.0506 - accuracy: 0.9986\n",
            "Epoch 20/20\n",
            "44/44 [==============================] - 4s 82ms/step - loss: 0.0453 - accuracy: 0.9982\n",
            "Epoch 1/20\n",
            "44/44 [==============================] - 4s 81ms/step - loss: 1.3339 - accuracy: 0.3573\n",
            "Epoch 2/20\n",
            "44/44 [==============================] - 4s 81ms/step - loss: 1.1336 - accuracy: 0.4976\n",
            "Epoch 3/20\n",
            "44/44 [==============================] - 4s 82ms/step - loss: 0.9524 - accuracy: 0.6007\n",
            "Epoch 4/20\n",
            "44/44 [==============================] - 4s 82ms/step - loss: 0.8081 - accuracy: 0.6709\n",
            "Epoch 5/20\n",
            "44/44 [==============================] - 4s 83ms/step - loss: 0.7126 - accuracy: 0.7262\n",
            "Epoch 6/20\n",
            "44/44 [==============================] - 4s 84ms/step - loss: 0.6449 - accuracy: 0.7562\n",
            "Epoch 7/20\n",
            "44/44 [==============================] - 4s 84ms/step - loss: 0.5398 - accuracy: 0.8134\n",
            "Epoch 8/20\n",
            "44/44 [==============================] - 4s 84ms/step - loss: 0.4697 - accuracy: 0.8470\n",
            "Epoch 9/20\n",
            "44/44 [==============================] - 4s 85ms/step - loss: 0.4085 - accuracy: 0.8640\n",
            "Epoch 10/20\n",
            "44/44 [==============================] - 4s 85ms/step - loss: 0.3436 - accuracy: 0.9042\n",
            "Epoch 11/20\n",
            "44/44 [==============================] - 4s 84ms/step - loss: 0.2921 - accuracy: 0.9248\n",
            "Epoch 12/20\n",
            "44/44 [==============================] - 4s 84ms/step - loss: 0.2417 - accuracy: 0.9537\n",
            "Epoch 13/20\n",
            "44/44 [==============================] - 4s 84ms/step - loss: 0.2060 - accuracy: 0.9627\n",
            "Epoch 14/20\n",
            "44/44 [==============================] - 4s 83ms/step - loss: 0.1687 - accuracy: 0.9743\n",
            "Epoch 15/20\n",
            "44/44 [==============================] - 4s 83ms/step - loss: 0.1489 - accuracy: 0.9834\n",
            "Epoch 16/20\n",
            "44/44 [==============================] - 4s 83ms/step - loss: 0.1187 - accuracy: 0.9884\n",
            "Epoch 17/20\n",
            "44/44 [==============================] - 4s 82ms/step - loss: 0.1034 - accuracy: 0.9910\n",
            "Epoch 18/20\n",
            "44/44 [==============================] - 4s 83ms/step - loss: 0.0979 - accuracy: 0.9910\n",
            "Epoch 19/20\n",
            "44/44 [==============================] - 4s 82ms/step - loss: 0.0805 - accuracy: 0.9946\n",
            "Epoch 20/20\n",
            "44/44 [==============================] - 4s 82ms/step - loss: 0.0715 - accuracy: 0.9953\n",
            "Epoch 1/20\n",
            "44/44 [==============================] - 4s 82ms/step - loss: 1.3865 - accuracy: 0.3049\n",
            "Epoch 2/20\n",
            "44/44 [==============================] - 4s 82ms/step - loss: 1.2448 - accuracy: 0.4286\n",
            "Epoch 3/20\n",
            "44/44 [==============================] - 4s 82ms/step - loss: 1.0540 - accuracy: 0.5552\n",
            "Epoch 4/20\n",
            "44/44 [==============================] - 4s 82ms/step - loss: 0.8697 - accuracy: 0.6532\n",
            "Epoch 5/20\n",
            "44/44 [==============================] - 4s 82ms/step - loss: 0.7473 - accuracy: 0.7172\n",
            "Epoch 6/20\n",
            "44/44 [==============================] - 4s 82ms/step - loss: 0.6535 - accuracy: 0.7537\n",
            "Epoch 7/20\n",
            "44/44 [==============================] - 4s 82ms/step - loss: 0.5694 - accuracy: 0.7942\n",
            "Epoch 8/20\n",
            "44/44 [==============================] - 4s 82ms/step - loss: 0.4919 - accuracy: 0.8365\n",
            "Epoch 9/20\n",
            "44/44 [==============================] - 4s 82ms/step - loss: 0.4583 - accuracy: 0.8409\n",
            "Epoch 10/20\n",
            "44/44 [==============================] - 4s 82ms/step - loss: 0.3691 - accuracy: 0.8929\n",
            "Epoch 11/20\n",
            "44/44 [==============================] - 4s 83ms/step - loss: 0.3173 - accuracy: 0.9139\n",
            "Epoch 12/20\n",
            "44/44 [==============================] - 4s 83ms/step - loss: 0.2778 - accuracy: 0.9251\n",
            "Epoch 13/20\n",
            "44/44 [==============================] - 4s 83ms/step - loss: 0.2211 - accuracy: 0.9523\n",
            "Epoch 14/20\n",
            "44/44 [==============================] - 4s 83ms/step - loss: 0.2004 - accuracy: 0.9584\n",
            "Epoch 15/20\n",
            "44/44 [==============================] - 4s 83ms/step - loss: 0.1614 - accuracy: 0.9772\n",
            "Epoch 16/20\n",
            "44/44 [==============================] - 4s 83ms/step - loss: 0.1363 - accuracy: 0.9837\n",
            "Epoch 17/20\n",
            "44/44 [==============================] - 4s 83ms/step - loss: 0.1151 - accuracy: 0.9895\n",
            "Epoch 18/20\n",
            "44/44 [==============================] - 4s 83ms/step - loss: 0.0970 - accuracy: 0.9942\n",
            "Epoch 19/20\n",
            "44/44 [==============================] - 4s 83ms/step - loss: 0.0847 - accuracy: 0.9960\n",
            "Epoch 20/20\n",
            "44/44 [==============================] - 4s 83ms/step - loss: 0.0730 - accuracy: 0.9964\n",
            "Epoch 1/20\n",
            "44/44 [==============================] - 4s 82ms/step - loss: 1.3489 - accuracy: 0.3320\n",
            "Epoch 2/20\n",
            "44/44 [==============================] - 4s 82ms/step - loss: 1.1482 - accuracy: 0.4886\n",
            "Epoch 3/20\n",
            "44/44 [==============================] - 4s 83ms/step - loss: 0.9514 - accuracy: 0.6083\n",
            "Epoch 4/20\n",
            "44/44 [==============================] - 4s 83ms/step - loss: 0.8157 - accuracy: 0.6665\n",
            "Epoch 5/20\n",
            "44/44 [==============================] - 4s 82ms/step - loss: 0.7169 - accuracy: 0.7049\n",
            "Epoch 6/20\n",
            "44/44 [==============================] - 4s 83ms/step - loss: 0.6043 - accuracy: 0.7783\n",
            "Epoch 7/20\n",
            "44/44 [==============================] - 4s 83ms/step - loss: 0.5290 - accuracy: 0.8080\n",
            "Epoch 8/20\n",
            "44/44 [==============================] - 4s 83ms/step - loss: 0.4382 - accuracy: 0.8546\n",
            "Epoch 9/20\n",
            "44/44 [==============================] - 4s 83ms/step - loss: 0.3673 - accuracy: 0.8817\n",
            "Epoch 10/20\n",
            "44/44 [==============================] - 4s 82ms/step - loss: 0.3263 - accuracy: 0.9038\n",
            "Epoch 11/20\n",
            "44/44 [==============================] - 4s 82ms/step - loss: 0.2659 - accuracy: 0.9269\n",
            "Epoch 12/20\n",
            "44/44 [==============================] - 4s 83ms/step - loss: 0.2405 - accuracy: 0.9356\n",
            "Epoch 13/20\n",
            "44/44 [==============================] - 4s 86ms/step - loss: 0.1823 - accuracy: 0.9617\n",
            "Epoch 14/20\n",
            "28/44 [==================>...........] - ETA: 1s - loss: 0.1634 - accuracy: 0.9721"
          ]
        }
      ]
    },
    {
      "cell_type": "markdown",
      "source": [
        "## Performance comparison"
      ],
      "metadata": {
        "id": "6Dgol4ZJmWgN"
      }
    },
    {
      "cell_type": "code",
      "source": [
        "from sklearn import model_selection\n",
        "from keras.wrappers.scikit_learn import KerasClassifier"
      ],
      "metadata": {
        "id": "n88zGy_pnEdC"
      },
      "execution_count": null,
      "outputs": []
    },
    {
      "cell_type": "code",
      "source": [
        "y_le = LabelEncoder()\n",
        "\n",
        "Y_encoded      = y_le.fit_transform(Y)"
      ],
      "metadata": {
        "colab": {
          "base_uri": "https://localhost:8080/"
        },
        "id": "Z-5RPBkFtvzS",
        "outputId": "3d217303-60c8-479d-c855-dcb975d53565"
      },
      "execution_count": null,
      "outputs": [
        {
          "output_type": "stream",
          "name": "stdout",
          "text": [
            "[2 2 2 ... 1 1 1]\n"
          ]
        }
      ]
    },
    {
      "cell_type": "code",
      "source": [
        "# prepare models\n",
        "models = []\n",
        "models.append(('MLP', mlp_model))\n",
        "models.append(('CNN', KerasClassifier(build_fn=speech_model_build, epochs=50, batch_size=64)))\n",
        "#models.append(('CNN2', KerasClassifier(build_fn=, epochs=50, batch_size=64)))\n",
        "models.append(('SVM', modelsvc))\n",
        "# evaluate each model in turnspeech_classifier_model_3\n",
        "#results = []\n",
        "#names = []\n",
        "scoring = 'accuracy'\n",
        "for name, model in models:\n",
        "\tkfold = model_selection.KFold(n_splits=10, shuffle=True)\n",
        "\tcv_results = model_selection.cross_val_score(model, X, Y_encoded, cv=kfold, scoring=scoring)\n",
        "\tresults.append(cv_results)\n",
        "\tnames.append(name)\n",
        "\tmsg = \"%s: %f (%f)\" % (name, cv_results.mean(), cv_results.std())\n",
        "\tprint(msg)"
      ],
      "metadata": {
        "colab": {
          "base_uri": "https://localhost:8080/"
        },
        "id": "H7b6g2jTmYhQ",
        "outputId": "17bcaf31-7215-46f9-c01f-c888c75c2a22"
      },
      "execution_count": null,
      "outputs": [
        {
          "output_type": "stream",
          "name": "stdout",
          "text": [
            "MLP: 0.902321 (0.021130)\n",
            "Epoch 1/50\n",
            "33/33 [==============================] - 4s 27ms/step - loss: 1.5433 - accuracy: 0.2576\n",
            "Epoch 2/50\n",
            "33/33 [==============================] - 0s 13ms/step - loss: 1.4122 - accuracy: 0.3237\n",
            "Epoch 3/50\n",
            "33/33 [==============================] - 0s 13ms/step - loss: 1.3645 - accuracy: 0.3666\n",
            "Epoch 4/50\n",
            "33/33 [==============================] - 0s 13ms/step - loss: 1.3047 - accuracy: 0.3825\n",
            "Epoch 5/50\n",
            "33/33 [==============================] - 0s 13ms/step - loss: 1.2581 - accuracy: 0.4221\n",
            "Epoch 6/50\n",
            "33/33 [==============================] - 0s 13ms/step - loss: 1.2416 - accuracy: 0.4182\n",
            "Epoch 7/50\n",
            "33/33 [==============================] - 0s 13ms/step - loss: 1.2065 - accuracy: 0.4481\n",
            "Epoch 8/50\n",
            "33/33 [==============================] - 0s 13ms/step - loss: 1.1842 - accuracy: 0.4631\n",
            "Epoch 9/50\n",
            "33/33 [==============================] - 0s 13ms/step - loss: 1.1671 - accuracy: 0.4761\n",
            "Epoch 10/50\n",
            "33/33 [==============================] - 0s 14ms/step - loss: 1.1470 - accuracy: 0.5031\n",
            "Epoch 11/50\n",
            "33/33 [==============================] - 0s 13ms/step - loss: 1.1461 - accuracy: 0.4949\n",
            "Epoch 12/50\n",
            "33/33 [==============================] - 0s 13ms/step - loss: 1.1317 - accuracy: 0.5142\n",
            "Epoch 13/50\n",
            "33/33 [==============================] - 0s 13ms/step - loss: 1.1159 - accuracy: 0.5109\n",
            "Epoch 14/50\n",
            "33/33 [==============================] - 0s 13ms/step - loss: 1.1111 - accuracy: 0.5248\n",
            "Epoch 15/50\n",
            "33/33 [==============================] - 0s 13ms/step - loss: 1.0921 - accuracy: 0.5364\n",
            "Epoch 16/50\n",
            "33/33 [==============================] - 0s 13ms/step - loss: 1.0882 - accuracy: 0.5480\n",
            "Epoch 17/50\n",
            "33/33 [==============================] - 0s 13ms/step - loss: 1.0835 - accuracy: 0.5432\n",
            "Epoch 18/50\n",
            "33/33 [==============================] - 0s 13ms/step - loss: 1.0503 - accuracy: 0.5567\n",
            "Epoch 19/50\n",
            "33/33 [==============================] - 0s 13ms/step - loss: 1.0586 - accuracy: 0.5470\n",
            "Epoch 20/50\n",
            "33/33 [==============================] - 0s 13ms/step - loss: 1.0436 - accuracy: 0.5740\n",
            "Epoch 21/50\n",
            "33/33 [==============================] - 0s 13ms/step - loss: 1.0253 - accuracy: 0.5712\n",
            "Epoch 22/50\n",
            "33/33 [==============================] - 0s 13ms/step - loss: 1.0186 - accuracy: 0.5750\n",
            "Epoch 23/50\n",
            "33/33 [==============================] - 0s 13ms/step - loss: 1.0088 - accuracy: 0.5982\n",
            "Epoch 24/50\n",
            "33/33 [==============================] - 0s 13ms/step - loss: 0.9881 - accuracy: 0.6117\n",
            "Epoch 25/50\n",
            "33/33 [==============================] - 0s 13ms/step - loss: 0.9993 - accuracy: 0.5943\n",
            "Epoch 26/50\n",
            "33/33 [==============================] - 0s 13ms/step - loss: 0.9978 - accuracy: 0.6088\n",
            "Epoch 27/50\n",
            "33/33 [==============================] - 0s 13ms/step - loss: 0.9819 - accuracy: 0.6102\n",
            "Epoch 28/50\n",
            "33/33 [==============================] - 0s 13ms/step - loss: 0.9709 - accuracy: 0.6233\n",
            "Epoch 29/50\n",
            "33/33 [==============================] - 0s 13ms/step - loss: 0.9580 - accuracy: 0.6295\n",
            "Epoch 30/50\n",
            "33/33 [==============================] - 0s 13ms/step - loss: 0.9669 - accuracy: 0.6136\n",
            "Epoch 31/50\n",
            "33/33 [==============================] - 0s 13ms/step - loss: 0.9565 - accuracy: 0.6257\n",
            "Epoch 32/50\n",
            "33/33 [==============================] - 0s 13ms/step - loss: 0.9315 - accuracy: 0.6242\n",
            "Epoch 33/50\n",
            "33/33 [==============================] - 0s 14ms/step - loss: 0.9212 - accuracy: 0.6416\n",
            "Epoch 34/50\n",
            "33/33 [==============================] - 0s 15ms/step - loss: 0.9247 - accuracy: 0.6343\n",
            "Epoch 35/50\n",
            "33/33 [==============================] - 0s 15ms/step - loss: 0.9278 - accuracy: 0.6348\n",
            "Epoch 36/50\n",
            "33/33 [==============================] - 0s 14ms/step - loss: 0.9045 - accuracy: 0.6585\n",
            "Epoch 37/50\n",
            "33/33 [==============================] - 0s 14ms/step - loss: 0.9087 - accuracy: 0.6479\n",
            "Epoch 38/50\n",
            "33/33 [==============================] - 0s 13ms/step - loss: 0.9053 - accuracy: 0.6551\n",
            "Epoch 39/50\n",
            "33/33 [==============================] - 0s 13ms/step - loss: 0.8886 - accuracy: 0.6691\n",
            "Epoch 40/50\n",
            "33/33 [==============================] - 0s 13ms/step - loss: 0.8750 - accuracy: 0.6792\n",
            "Epoch 41/50\n",
            "33/33 [==============================] - 0s 13ms/step - loss: 0.8769 - accuracy: 0.6778\n",
            "Epoch 42/50\n",
            "33/33 [==============================] - 0s 13ms/step - loss: 0.8719 - accuracy: 0.6778\n",
            "Epoch 43/50\n",
            "33/33 [==============================] - 0s 13ms/step - loss: 0.8732 - accuracy: 0.6753\n",
            "Epoch 44/50\n",
            "33/33 [==============================] - 0s 13ms/step - loss: 0.8781 - accuracy: 0.6753\n",
            "Epoch 45/50\n",
            "33/33 [==============================] - 0s 13ms/step - loss: 0.8625 - accuracy: 0.6869\n",
            "Epoch 46/50\n",
            "33/33 [==============================] - 0s 13ms/step - loss: 0.8599 - accuracy: 0.6874\n",
            "Epoch 47/50\n",
            "33/33 [==============================] - 0s 13ms/step - loss: 0.8603 - accuracy: 0.6908\n",
            "Epoch 48/50\n",
            "33/33 [==============================] - 0s 13ms/step - loss: 0.8410 - accuracy: 0.6927\n",
            "Epoch 49/50\n",
            "33/33 [==============================] - 0s 13ms/step - loss: 0.8387 - accuracy: 0.7000\n",
            "Epoch 50/50\n",
            "33/33 [==============================] - 0s 13ms/step - loss: 0.8269 - accuracy: 0.7130\n",
            "Epoch 1/50\n",
            "33/33 [==============================] - 2s 13ms/step - loss: 1.5286 - accuracy: 0.2634\n",
            "Epoch 2/50\n",
            "33/33 [==============================] - 0s 13ms/step - loss: 1.3953 - accuracy: 0.3329\n",
            "Epoch 3/50\n",
            "33/33 [==============================] - 0s 13ms/step - loss: 1.3282 - accuracy: 0.3748\n",
            "Epoch 4/50\n",
            "33/33 [==============================] - 0s 13ms/step - loss: 1.2646 - accuracy: 0.4096\n",
            "Epoch 5/50\n",
            "33/33 [==============================] - 0s 13ms/step - loss: 1.2488 - accuracy: 0.4211\n",
            "Epoch 6/50\n",
            "33/33 [==============================] - 0s 13ms/step - loss: 1.2369 - accuracy: 0.4327\n",
            "Epoch 7/50\n",
            "33/33 [==============================] - 0s 13ms/step - loss: 1.2272 - accuracy: 0.4317\n",
            "Epoch 8/50\n",
            "33/33 [==============================] - 0s 13ms/step - loss: 1.2208 - accuracy: 0.4452\n",
            "Epoch 9/50\n",
            "33/33 [==============================] - 0s 13ms/step - loss: 1.1996 - accuracy: 0.4631\n",
            "Epoch 10/50\n",
            "33/33 [==============================] - 0s 13ms/step - loss: 1.1794 - accuracy: 0.4718\n",
            "Epoch 11/50\n",
            "33/33 [==============================] - 0s 13ms/step - loss: 1.1769 - accuracy: 0.4771\n",
            "Epoch 12/50\n",
            "33/33 [==============================] - 0s 13ms/step - loss: 1.1641 - accuracy: 0.4781\n",
            "Epoch 13/50\n",
            "33/33 [==============================] - 0s 13ms/step - loss: 1.1407 - accuracy: 0.5147\n",
            "Epoch 14/50\n",
            "33/33 [==============================] - 0s 13ms/step - loss: 1.1399 - accuracy: 0.5080\n",
            "Epoch 15/50\n",
            "33/33 [==============================] - 0s 13ms/step - loss: 1.1208 - accuracy: 0.5162\n",
            "Epoch 16/50\n",
            "33/33 [==============================] - 0s 13ms/step - loss: 1.1113 - accuracy: 0.5186\n",
            "Epoch 17/50\n",
            "33/33 [==============================] - 0s 13ms/step - loss: 1.1131 - accuracy: 0.5253\n",
            "Epoch 18/50\n",
            "33/33 [==============================] - 0s 13ms/step - loss: 1.0962 - accuracy: 0.5258\n",
            "Epoch 19/50\n",
            "33/33 [==============================] - 0s 13ms/step - loss: 1.0863 - accuracy: 0.5330\n",
            "Epoch 20/50\n",
            "33/33 [==============================] - 0s 13ms/step - loss: 1.0745 - accuracy: 0.5456\n",
            "Epoch 21/50\n",
            "33/33 [==============================] - 0s 13ms/step - loss: 1.0639 - accuracy: 0.5644\n",
            "Epoch 22/50\n",
            "33/33 [==============================] - 0s 13ms/step - loss: 1.0492 - accuracy: 0.5687\n",
            "Epoch 23/50\n",
            "33/33 [==============================] - 0s 13ms/step - loss: 1.0375 - accuracy: 0.5687\n",
            "Epoch 24/50\n",
            "33/33 [==============================] - 0s 13ms/step - loss: 1.0233 - accuracy: 0.5745\n",
            "Epoch 25/50\n",
            "33/33 [==============================] - 0s 13ms/step - loss: 1.0152 - accuracy: 0.5953\n",
            "Epoch 26/50\n",
            "33/33 [==============================] - 0s 13ms/step - loss: 1.0173 - accuracy: 0.5803\n",
            "Epoch 27/50\n",
            "33/33 [==============================] - 0s 13ms/step - loss: 1.0114 - accuracy: 0.5977\n",
            "Epoch 28/50\n",
            "33/33 [==============================] - 0s 13ms/step - loss: 1.0143 - accuracy: 0.5880\n",
            "Epoch 29/50\n",
            "33/33 [==============================] - 0s 13ms/step - loss: 0.9800 - accuracy: 0.6083\n",
            "Epoch 30/50\n",
            "33/33 [==============================] - 0s 13ms/step - loss: 0.9590 - accuracy: 0.6170\n",
            "Epoch 31/50\n",
            "33/33 [==============================] - 0s 13ms/step - loss: 0.9562 - accuracy: 0.6117\n",
            "Epoch 32/50\n",
            "33/33 [==============================] - 0s 13ms/step - loss: 0.9579 - accuracy: 0.6281\n",
            "Epoch 33/50\n",
            "33/33 [==============================] - 0s 13ms/step - loss: 0.9436 - accuracy: 0.6199\n",
            "Epoch 34/50\n",
            "33/33 [==============================] - 0s 13ms/step - loss: 0.9478 - accuracy: 0.6175\n",
            "Epoch 35/50\n",
            "33/33 [==============================] - 0s 13ms/step - loss: 0.9591 - accuracy: 0.6073\n",
            "Epoch 36/50\n",
            "33/33 [==============================] - 0s 13ms/step - loss: 0.9361 - accuracy: 0.6387\n",
            "Epoch 37/50\n",
            "33/33 [==============================] - 0s 13ms/step - loss: 0.9248 - accuracy: 0.6440\n",
            "Epoch 38/50\n",
            "33/33 [==============================] - 0s 13ms/step - loss: 0.9193 - accuracy: 0.6430\n",
            "Epoch 39/50\n",
            "33/33 [==============================] - 0s 13ms/step - loss: 0.9190 - accuracy: 0.6358\n",
            "Epoch 40/50\n",
            "33/33 [==============================] - 0s 13ms/step - loss: 0.9005 - accuracy: 0.6565\n",
            "Epoch 41/50\n",
            "33/33 [==============================] - 0s 13ms/step - loss: 0.8988 - accuracy: 0.6546\n",
            "Epoch 42/50\n",
            "33/33 [==============================] - 0s 13ms/step - loss: 0.8922 - accuracy: 0.6474\n",
            "Epoch 43/50\n",
            "33/33 [==============================] - 0s 13ms/step - loss: 0.8975 - accuracy: 0.6503\n",
            "Epoch 44/50\n",
            "33/33 [==============================] - 0s 13ms/step - loss: 0.8748 - accuracy: 0.6647\n",
            "Epoch 45/50\n",
            "33/33 [==============================] - 0s 13ms/step - loss: 0.8712 - accuracy: 0.6821\n",
            "Epoch 46/50\n",
            "33/33 [==============================] - 0s 13ms/step - loss: 0.8669 - accuracy: 0.6816\n",
            "Epoch 47/50\n",
            "33/33 [==============================] - 0s 13ms/step - loss: 0.8569 - accuracy: 0.6845\n",
            "Epoch 48/50\n",
            "33/33 [==============================] - 0s 13ms/step - loss: 0.8671 - accuracy: 0.6662\n",
            "Epoch 49/50\n",
            "33/33 [==============================] - 0s 13ms/step - loss: 0.8579 - accuracy: 0.6807\n",
            "Epoch 50/50\n",
            "33/33 [==============================] - 0s 13ms/step - loss: 0.8438 - accuracy: 0.6807\n",
            "Epoch 1/50\n",
            "33/33 [==============================] - 2s 15ms/step - loss: 1.5005 - accuracy: 0.2745\n",
            "Epoch 2/50\n",
            "33/33 [==============================] - 0s 13ms/step - loss: 1.3843 - accuracy: 0.3386\n",
            "Epoch 3/50\n",
            "33/33 [==============================] - 0s 14ms/step - loss: 1.3312 - accuracy: 0.3526\n",
            "Epoch 4/50\n",
            "33/33 [==============================] - 0s 13ms/step - loss: 1.3025 - accuracy: 0.3690\n",
            "Epoch 5/50\n",
            "33/33 [==============================] - 0s 13ms/step - loss: 1.2672 - accuracy: 0.4009\n",
            "Epoch 6/50\n",
            "33/33 [==============================] - 0s 13ms/step - loss: 1.2487 - accuracy: 0.4062\n",
            "Epoch 7/50\n",
            "33/33 [==============================] - 0s 13ms/step - loss: 1.2348 - accuracy: 0.4202\n",
            "Epoch 8/50\n",
            "33/33 [==============================] - 0s 13ms/step - loss: 1.2177 - accuracy: 0.4424\n",
            "Epoch 9/50\n",
            "33/33 [==============================] - 0s 13ms/step - loss: 1.1947 - accuracy: 0.4534\n",
            "Epoch 10/50\n",
            "33/33 [==============================] - 0s 13ms/step - loss: 1.1922 - accuracy: 0.4491\n",
            "Epoch 11/50\n",
            "33/33 [==============================] - 0s 13ms/step - loss: 1.1769 - accuracy: 0.4684\n",
            "Epoch 12/50\n",
            "33/33 [==============================] - 0s 13ms/step - loss: 1.1560 - accuracy: 0.4723\n",
            "Epoch 13/50\n",
            "33/33 [==============================] - 0s 13ms/step - loss: 1.1535 - accuracy: 0.4771\n",
            "Epoch 14/50\n",
            "33/33 [==============================] - 0s 13ms/step - loss: 1.1362 - accuracy: 0.4998\n",
            "Epoch 15/50\n",
            "33/33 [==============================] - 0s 13ms/step - loss: 1.1136 - accuracy: 0.5210\n",
            "Epoch 16/50\n",
            "33/33 [==============================] - 0s 13ms/step - loss: 1.1096 - accuracy: 0.5017\n",
            "Epoch 17/50\n",
            "33/33 [==============================] - 0s 13ms/step - loss: 1.0929 - accuracy: 0.5364\n",
            "Epoch 18/50\n",
            "33/33 [==============================] - 0s 13ms/step - loss: 1.0816 - accuracy: 0.5335\n",
            "Epoch 19/50\n",
            "33/33 [==============================] - 0s 13ms/step - loss: 1.0563 - accuracy: 0.5499\n",
            "Epoch 20/50\n",
            "33/33 [==============================] - 0s 13ms/step - loss: 1.0580 - accuracy: 0.5533\n",
            "Epoch 21/50\n",
            "33/33 [==============================] - 0s 13ms/step - loss: 1.0265 - accuracy: 0.5620\n",
            "Epoch 22/50\n",
            "33/33 [==============================] - 0s 13ms/step - loss: 1.0451 - accuracy: 0.5610\n",
            "Epoch 23/50\n",
            "33/33 [==============================] - 0s 13ms/step - loss: 1.0205 - accuracy: 0.5832\n",
            "Epoch 24/50\n",
            "33/33 [==============================] - 0s 13ms/step - loss: 0.9981 - accuracy: 0.5789\n",
            "Epoch 25/50\n",
            "33/33 [==============================] - 0s 13ms/step - loss: 1.0161 - accuracy: 0.5789\n",
            "Epoch 26/50\n",
            "33/33 [==============================] - 0s 13ms/step - loss: 0.9891 - accuracy: 0.5880\n",
            "Epoch 27/50\n",
            "33/33 [==============================] - 0s 14ms/step - loss: 0.9879 - accuracy: 0.5890\n",
            "Epoch 28/50\n",
            "33/33 [==============================] - 0s 13ms/step - loss: 0.9782 - accuracy: 0.6073\n",
            "Epoch 29/50\n",
            "33/33 [==============================] - 0s 13ms/step - loss: 0.9607 - accuracy: 0.6218\n",
            "Epoch 30/50\n",
            "33/33 [==============================] - 0s 13ms/step - loss: 0.9547 - accuracy: 0.6179\n",
            "Epoch 31/50\n",
            "33/33 [==============================] - 0s 13ms/step - loss: 0.9514 - accuracy: 0.6271\n",
            "Epoch 32/50\n",
            "33/33 [==============================] - 0s 13ms/step - loss: 0.9509 - accuracy: 0.6247\n",
            "Epoch 33/50\n",
            "33/33 [==============================] - 0s 13ms/step - loss: 0.9455 - accuracy: 0.6237\n",
            "Epoch 34/50\n",
            "33/33 [==============================] - 0s 13ms/step - loss: 0.9309 - accuracy: 0.6257\n",
            "Epoch 35/50\n",
            "33/33 [==============================] - 0s 13ms/step - loss: 0.9283 - accuracy: 0.6281\n",
            "Epoch 36/50\n",
            "33/33 [==============================] - 0s 13ms/step - loss: 0.9065 - accuracy: 0.6450\n",
            "Epoch 37/50\n",
            "33/33 [==============================] - 0s 13ms/step - loss: 0.9036 - accuracy: 0.6532\n",
            "Epoch 38/50\n",
            "33/33 [==============================] - 0s 13ms/step - loss: 0.9085 - accuracy: 0.6532\n",
            "Epoch 39/50\n",
            "33/33 [==============================] - 0s 13ms/step - loss: 0.8899 - accuracy: 0.6647\n",
            "Epoch 40/50\n",
            "33/33 [==============================] - 0s 13ms/step - loss: 0.8724 - accuracy: 0.6691\n",
            "Epoch 41/50\n",
            "33/33 [==============================] - 0s 13ms/step - loss: 0.8677 - accuracy: 0.6850\n",
            "Epoch 42/50\n",
            "33/33 [==============================] - 0s 13ms/step - loss: 0.8596 - accuracy: 0.6864\n",
            "Epoch 43/50\n",
            "33/33 [==============================] - 0s 13ms/step - loss: 0.8737 - accuracy: 0.6657\n",
            "Epoch 44/50\n",
            "33/33 [==============================] - 0s 13ms/step - loss: 0.8601 - accuracy: 0.6782\n",
            "Epoch 45/50\n",
            "33/33 [==============================] - 0s 13ms/step - loss: 0.8402 - accuracy: 0.6951\n",
            "Epoch 46/50\n",
            "33/33 [==============================] - 0s 13ms/step - loss: 0.8455 - accuracy: 0.6913\n",
            "Epoch 47/50\n",
            "33/33 [==============================] - 0s 13ms/step - loss: 0.8521 - accuracy: 0.6956\n",
            "Epoch 48/50\n",
            "33/33 [==============================] - 0s 13ms/step - loss: 0.8269 - accuracy: 0.7091\n",
            "Epoch 49/50\n",
            "33/33 [==============================] - 0s 13ms/step - loss: 0.8264 - accuracy: 0.7033\n",
            "Epoch 50/50\n",
            "33/33 [==============================] - 0s 13ms/step - loss: 0.8205 - accuracy: 0.7033\n",
            "Epoch 1/50\n",
            "33/33 [==============================] - 2s 15ms/step - loss: 1.6173 - accuracy: 0.2547\n",
            "Epoch 2/50\n",
            "33/33 [==============================] - 0s 13ms/step - loss: 1.4983 - accuracy: 0.3179\n",
            "Epoch 3/50\n",
            "33/33 [==============================] - 0s 13ms/step - loss: 1.3893 - accuracy: 0.3439\n",
            "Epoch 4/50\n",
            "33/33 [==============================] - 0s 13ms/step - loss: 1.3285 - accuracy: 0.3739\n",
            "Epoch 5/50\n",
            "33/33 [==============================] - 0s 13ms/step - loss: 1.2948 - accuracy: 0.4202\n",
            "Epoch 6/50\n",
            "33/33 [==============================] - 0s 13ms/step - loss: 1.2669 - accuracy: 0.4235\n",
            "Epoch 7/50\n",
            "33/33 [==============================] - 0s 13ms/step - loss: 1.2719 - accuracy: 0.4293\n",
            "Epoch 8/50\n",
            "33/33 [==============================] - 0s 13ms/step - loss: 1.2364 - accuracy: 0.4231\n",
            "Epoch 9/50\n",
            "33/33 [==============================] - 0s 13ms/step - loss: 1.2216 - accuracy: 0.4457\n",
            "Epoch 10/50\n",
            "33/33 [==============================] - 0s 13ms/step - loss: 1.1959 - accuracy: 0.4616\n",
            "Epoch 11/50\n",
            "33/33 [==============================] - 0s 13ms/step - loss: 1.1863 - accuracy: 0.4718\n",
            "Epoch 12/50\n",
            "33/33 [==============================] - 0s 13ms/step - loss: 1.1852 - accuracy: 0.4689\n",
            "Epoch 13/50\n",
            "33/33 [==============================] - 0s 13ms/step - loss: 1.1613 - accuracy: 0.4853\n",
            "Epoch 14/50\n",
            "33/33 [==============================] - 0s 13ms/step - loss: 1.1457 - accuracy: 0.4993\n",
            "Epoch 15/50\n",
            "33/33 [==============================] - 0s 13ms/step - loss: 1.1329 - accuracy: 0.5036\n",
            "Epoch 16/50\n",
            "33/33 [==============================] - 0s 13ms/step - loss: 1.1206 - accuracy: 0.5055\n",
            "Epoch 17/50\n",
            "33/33 [==============================] - 0s 13ms/step - loss: 1.1123 - accuracy: 0.5099\n",
            "Epoch 18/50\n",
            "33/33 [==============================] - 0s 13ms/step - loss: 1.0921 - accuracy: 0.5248\n",
            "Epoch 19/50\n",
            "33/33 [==============================] - 0s 13ms/step - loss: 1.1048 - accuracy: 0.5350\n",
            "Epoch 20/50\n",
            "33/33 [==============================] - 0s 13ms/step - loss: 1.0733 - accuracy: 0.5596\n",
            "Epoch 21/50\n",
            "33/33 [==============================] - 0s 13ms/step - loss: 1.0639 - accuracy: 0.5523\n",
            "Epoch 22/50\n",
            "33/33 [==============================] - 0s 13ms/step - loss: 1.0529 - accuracy: 0.5543\n",
            "Epoch 23/50\n",
            "33/33 [==============================] - 0s 13ms/step - loss: 1.0402 - accuracy: 0.5750\n",
            "Epoch 24/50\n",
            "33/33 [==============================] - 0s 13ms/step - loss: 1.0317 - accuracy: 0.5774\n",
            "Epoch 25/50\n",
            "33/33 [==============================] - 0s 13ms/step - loss: 1.0317 - accuracy: 0.5683\n",
            "Epoch 26/50\n",
            "33/33 [==============================] - 0s 13ms/step - loss: 1.0164 - accuracy: 0.5745\n",
            "Epoch 27/50\n",
            "33/33 [==============================] - 0s 13ms/step - loss: 1.0144 - accuracy: 0.5794\n",
            "Epoch 28/50\n",
            "33/33 [==============================] - 0s 13ms/step - loss: 1.0037 - accuracy: 0.5962\n",
            "Epoch 29/50\n",
            "33/33 [==============================] - 0s 13ms/step - loss: 0.9914 - accuracy: 0.5929\n",
            "Epoch 30/50\n",
            "33/33 [==============================] - 0s 13ms/step - loss: 0.9982 - accuracy: 0.5953\n",
            "Epoch 31/50\n",
            "33/33 [==============================] - 0s 13ms/step - loss: 0.9695 - accuracy: 0.6097\n",
            "Epoch 32/50\n",
            "33/33 [==============================] - 0s 13ms/step - loss: 0.9756 - accuracy: 0.6107\n",
            "Epoch 33/50\n",
            "33/33 [==============================] - 0s 13ms/step - loss: 0.9684 - accuracy: 0.6122\n",
            "Epoch 34/50\n",
            "33/33 [==============================] - 0s 13ms/step - loss: 0.9685 - accuracy: 0.6146\n",
            "Epoch 35/50\n",
            "33/33 [==============================] - 0s 13ms/step - loss: 0.9496 - accuracy: 0.6151\n",
            "Epoch 36/50\n",
            "33/33 [==============================] - 0s 13ms/step - loss: 0.9430 - accuracy: 0.6358\n",
            "Epoch 37/50\n",
            "33/33 [==============================] - 0s 13ms/step - loss: 0.9385 - accuracy: 0.6310\n",
            "Epoch 38/50\n",
            "33/33 [==============================] - 0s 13ms/step - loss: 0.9361 - accuracy: 0.6295\n",
            "Epoch 39/50\n",
            "33/33 [==============================] - 0s 13ms/step - loss: 0.9251 - accuracy: 0.6377\n",
            "Epoch 40/50\n",
            "33/33 [==============================] - 0s 13ms/step - loss: 0.9220 - accuracy: 0.6290\n",
            "Epoch 41/50\n",
            "33/33 [==============================] - 0s 13ms/step - loss: 0.9052 - accuracy: 0.6604\n",
            "Epoch 42/50\n",
            "33/33 [==============================] - 0s 13ms/step - loss: 0.9107 - accuracy: 0.6570\n",
            "Epoch 43/50\n",
            "33/33 [==============================] - 1s 16ms/step - loss: 0.8926 - accuracy: 0.6570\n",
            "Epoch 44/50\n",
            "33/33 [==============================] - 1s 15ms/step - loss: 0.8866 - accuracy: 0.6705\n",
            "Epoch 45/50\n",
            "33/33 [==============================] - 1s 17ms/step - loss: 0.8741 - accuracy: 0.6614\n",
            "Epoch 46/50\n",
            "33/33 [==============================] - 1s 16ms/step - loss: 0.8933 - accuracy: 0.6657\n",
            "Epoch 47/50\n",
            "33/33 [==============================] - 0s 15ms/step - loss: 0.8789 - accuracy: 0.6729\n",
            "Epoch 48/50\n",
            "33/33 [==============================] - 0s 13ms/step - loss: 0.8645 - accuracy: 0.6739\n",
            "Epoch 49/50\n",
            "33/33 [==============================] - 0s 13ms/step - loss: 0.8605 - accuracy: 0.6811\n",
            "Epoch 50/50\n",
            "33/33 [==============================] - 0s 13ms/step - loss: 0.8531 - accuracy: 0.6739\n",
            "Epoch 1/50\n",
            "33/33 [==============================] - 2s 26ms/step - loss: 1.4325 - accuracy: 0.3110\n",
            "Epoch 2/50\n",
            "33/33 [==============================] - 0s 13ms/step - loss: 1.3688 - accuracy: 0.3554\n",
            "Epoch 3/50\n",
            "33/33 [==============================] - 0s 13ms/step - loss: 1.3165 - accuracy: 0.3660\n",
            "Epoch 4/50\n",
            "33/33 [==============================] - 0s 13ms/step - loss: 1.3024 - accuracy: 0.3987\n",
            "Epoch 5/50\n",
            "33/33 [==============================] - 0s 13ms/step - loss: 1.2647 - accuracy: 0.4041\n",
            "Epoch 6/50\n",
            "33/33 [==============================] - 0s 13ms/step - loss: 1.2472 - accuracy: 0.4171\n",
            "Epoch 7/50\n",
            "33/33 [==============================] - 0s 13ms/step - loss: 1.2433 - accuracy: 0.4291\n",
            "Epoch 8/50\n",
            "33/33 [==============================] - 0s 13ms/step - loss: 1.2084 - accuracy: 0.4677\n",
            "Epoch 9/50\n",
            "33/33 [==============================] - 0s 13ms/step - loss: 1.1851 - accuracy: 0.4658\n",
            "Epoch 10/50\n",
            "33/33 [==============================] - 0s 14ms/step - loss: 1.1826 - accuracy: 0.4638\n",
            "Epoch 11/50\n",
            "33/33 [==============================] - 0s 14ms/step - loss: 1.1737 - accuracy: 0.4802\n",
            "Epoch 12/50\n",
            "33/33 [==============================] - 0s 13ms/step - loss: 1.1626 - accuracy: 0.4923\n",
            "Epoch 13/50\n",
            "33/33 [==============================] - 0s 13ms/step - loss: 1.1330 - accuracy: 0.5039\n",
            "Epoch 14/50\n",
            "33/33 [==============================] - 0s 13ms/step - loss: 1.1290 - accuracy: 0.5106\n",
            "Epoch 15/50\n",
            "33/33 [==============================] - 0s 13ms/step - loss: 1.1191 - accuracy: 0.5174\n",
            "Epoch 16/50\n",
            "33/33 [==============================] - 0s 13ms/step - loss: 1.1112 - accuracy: 0.5275\n",
            "Epoch 17/50\n",
            "33/33 [==============================] - 0s 13ms/step - loss: 1.0935 - accuracy: 0.5492\n",
            "Epoch 18/50\n",
            "33/33 [==============================] - 0s 13ms/step - loss: 1.0725 - accuracy: 0.5559\n",
            "Epoch 19/50\n",
            "33/33 [==============================] - 0s 13ms/step - loss: 1.0828 - accuracy: 0.5395\n",
            "Epoch 20/50\n",
            "33/33 [==============================] - 0s 13ms/step - loss: 1.0451 - accuracy: 0.5559\n",
            "Epoch 21/50\n",
            "33/33 [==============================] - 0s 13ms/step - loss: 1.0588 - accuracy: 0.5492\n",
            "Epoch 22/50\n",
            "33/33 [==============================] - 0s 13ms/step - loss: 1.0444 - accuracy: 0.5579\n",
            "Epoch 23/50\n",
            "33/33 [==============================] - 0s 13ms/step - loss: 1.0220 - accuracy: 0.5757\n",
            "Epoch 24/50\n",
            "33/33 [==============================] - 0s 13ms/step - loss: 1.0284 - accuracy: 0.5820\n",
            "Epoch 25/50\n",
            "33/33 [==============================] - 0s 13ms/step - loss: 1.0086 - accuracy: 0.5878\n",
            "Epoch 26/50\n",
            "33/33 [==============================] - 0s 13ms/step - loss: 1.0081 - accuracy: 0.5959\n",
            "Epoch 27/50\n",
            "33/33 [==============================] - 0s 13ms/step - loss: 0.9898 - accuracy: 0.5926\n",
            "Epoch 28/50\n",
            "33/33 [==============================] - 0s 13ms/step - loss: 0.9864 - accuracy: 0.6114\n",
            "Epoch 29/50\n",
            "33/33 [==============================] - 0s 13ms/step - loss: 0.9739 - accuracy: 0.6075\n",
            "Epoch 30/50\n",
            "33/33 [==============================] - 0s 13ms/step - loss: 0.9715 - accuracy: 0.6128\n",
            "Epoch 31/50\n",
            "33/33 [==============================] - 0s 13ms/step - loss: 0.9638 - accuracy: 0.6085\n",
            "Epoch 32/50\n",
            "33/33 [==============================] - 0s 13ms/step - loss: 0.9551 - accuracy: 0.6268\n",
            "Epoch 33/50\n",
            "33/33 [==============================] - 0s 13ms/step - loss: 0.9434 - accuracy: 0.6311\n",
            "Epoch 34/50\n",
            "33/33 [==============================] - 0s 13ms/step - loss: 0.9504 - accuracy: 0.6230\n",
            "Epoch 35/50\n",
            "33/33 [==============================] - 0s 13ms/step - loss: 0.9299 - accuracy: 0.6336\n",
            "Epoch 36/50\n",
            "33/33 [==============================] - 0s 13ms/step - loss: 0.9305 - accuracy: 0.6345\n",
            "Epoch 37/50\n",
            "33/33 [==============================] - 0s 13ms/step - loss: 0.9284 - accuracy: 0.6292\n",
            "Epoch 38/50\n",
            "33/33 [==============================] - 0s 13ms/step - loss: 0.9115 - accuracy: 0.6524\n",
            "Epoch 39/50\n",
            "33/33 [==============================] - 0s 13ms/step - loss: 0.9153 - accuracy: 0.6403\n",
            "Epoch 40/50\n",
            "33/33 [==============================] - 0s 14ms/step - loss: 0.9057 - accuracy: 0.6427\n",
            "Epoch 41/50\n",
            "33/33 [==============================] - 0s 13ms/step - loss: 0.8852 - accuracy: 0.6644\n",
            "Epoch 42/50\n",
            "33/33 [==============================] - 0s 13ms/step - loss: 0.8860 - accuracy: 0.6639\n",
            "Epoch 43/50\n",
            "33/33 [==============================] - 0s 13ms/step - loss: 0.8765 - accuracy: 0.6678\n",
            "Epoch 44/50\n",
            "33/33 [==============================] - 0s 13ms/step - loss: 0.8860 - accuracy: 0.6707\n",
            "Epoch 45/50\n",
            "33/33 [==============================] - 0s 13ms/step - loss: 0.8613 - accuracy: 0.6832\n",
            "Epoch 46/50\n",
            "33/33 [==============================] - 0s 13ms/step - loss: 0.8671 - accuracy: 0.6871\n",
            "Epoch 47/50\n",
            "33/33 [==============================] - 0s 13ms/step - loss: 0.8583 - accuracy: 0.6808\n",
            "Epoch 48/50\n",
            "33/33 [==============================] - 0s 13ms/step - loss: 0.8706 - accuracy: 0.6760\n",
            "Epoch 49/50\n",
            "33/33 [==============================] - 0s 13ms/step - loss: 0.8444 - accuracy: 0.6914\n",
            "Epoch 50/50\n",
            "33/33 [==============================] - 0s 13ms/step - loss: 0.8398 - accuracy: 0.6924\n",
            "Epoch 1/50\n",
            "33/33 [==============================] - 2s 15ms/step - loss: 1.4469 - accuracy: 0.2782\n",
            "Epoch 2/50\n",
            "33/33 [==============================] - 0s 13ms/step - loss: 1.3753 - accuracy: 0.3428\n",
            "Epoch 3/50\n",
            "33/33 [==============================] - 0s 13ms/step - loss: 1.3067 - accuracy: 0.3809\n",
            "Epoch 4/50\n",
            "33/33 [==============================] - 0s 14ms/step - loss: 1.2972 - accuracy: 0.3833\n",
            "Epoch 5/50\n",
            "33/33 [==============================] - 0s 14ms/step - loss: 1.2608 - accuracy: 0.4098\n",
            "Epoch 6/50\n",
            "33/33 [==============================] - 0s 13ms/step - loss: 1.2520 - accuracy: 0.4176\n",
            "Epoch 7/50\n",
            "33/33 [==============================] - 0s 13ms/step - loss: 1.2186 - accuracy: 0.4489\n",
            "Epoch 8/50\n",
            "33/33 [==============================] - 0s 13ms/step - loss: 1.2229 - accuracy: 0.4378\n",
            "Epoch 9/50\n",
            "33/33 [==============================] - 0s 13ms/step - loss: 1.1932 - accuracy: 0.4595\n",
            "Epoch 10/50\n",
            "33/33 [==============================] - 0s 14ms/step - loss: 1.1863 - accuracy: 0.4672\n",
            "Epoch 11/50\n",
            "33/33 [==============================] - 0s 13ms/step - loss: 1.1760 - accuracy: 0.4716\n",
            "Epoch 12/50\n",
            "33/33 [==============================] - 0s 13ms/step - loss: 1.1612 - accuracy: 0.4841\n",
            "Epoch 13/50\n",
            "33/33 [==============================] - 0s 13ms/step - loss: 1.1616 - accuracy: 0.4865\n",
            "Epoch 14/50\n",
            "33/33 [==============================] - 0s 13ms/step - loss: 1.1451 - accuracy: 0.5005\n",
            "Epoch 15/50\n",
            "33/33 [==============================] - 0s 13ms/step - loss: 1.1182 - accuracy: 0.5207\n",
            "Epoch 16/50\n",
            "33/33 [==============================] - 0s 13ms/step - loss: 1.1150 - accuracy: 0.5270\n",
            "Epoch 17/50\n",
            "33/33 [==============================] - 0s 13ms/step - loss: 1.1151 - accuracy: 0.5169\n",
            "Epoch 18/50\n",
            "33/33 [==============================] - 0s 13ms/step - loss: 1.1050 - accuracy: 0.5212\n",
            "Epoch 19/50\n",
            "33/33 [==============================] - 0s 13ms/step - loss: 1.0787 - accuracy: 0.5473\n",
            "Epoch 20/50\n",
            "33/33 [==============================] - 0s 13ms/step - loss: 1.0816 - accuracy: 0.5448\n",
            "Epoch 21/50\n",
            "33/33 [==============================] - 0s 13ms/step - loss: 1.0778 - accuracy: 0.5448\n",
            "Epoch 22/50\n",
            "33/33 [==============================] - 0s 13ms/step - loss: 1.0603 - accuracy: 0.5468\n",
            "Epoch 23/50\n",
            "33/33 [==============================] - 0s 13ms/step - loss: 1.0588 - accuracy: 0.5608\n",
            "Epoch 24/50\n",
            "33/33 [==============================] - 0s 13ms/step - loss: 1.0402 - accuracy: 0.5689\n",
            "Epoch 25/50\n",
            "33/33 [==============================] - 0s 13ms/step - loss: 1.0188 - accuracy: 0.5839\n",
            "Epoch 26/50\n",
            "33/33 [==============================] - 0s 13ms/step - loss: 1.0261 - accuracy: 0.5776\n",
            "Epoch 27/50\n",
            "33/33 [==============================] - 0s 13ms/step - loss: 1.0152 - accuracy: 0.6022\n",
            "Epoch 28/50\n",
            "33/33 [==============================] - 0s 14ms/step - loss: 0.9913 - accuracy: 0.6066\n",
            "Epoch 29/50\n",
            "33/33 [==============================] - 0s 13ms/step - loss: 0.9866 - accuracy: 0.5974\n",
            "Epoch 30/50\n",
            "33/33 [==============================] - 0s 13ms/step - loss: 0.9927 - accuracy: 0.6148\n",
            "Epoch 31/50\n",
            "33/33 [==============================] - 0s 13ms/step - loss: 0.9849 - accuracy: 0.6157\n",
            "Epoch 32/50\n",
            "33/33 [==============================] - 0s 13ms/step - loss: 0.9747 - accuracy: 0.5974\n",
            "Epoch 33/50\n",
            "33/33 [==============================] - 0s 13ms/step - loss: 0.9482 - accuracy: 0.6278\n",
            "Epoch 34/50\n",
            "33/33 [==============================] - 0s 13ms/step - loss: 0.9432 - accuracy: 0.6307\n",
            "Epoch 35/50\n",
            "33/33 [==============================] - 0s 13ms/step - loss: 0.9339 - accuracy: 0.6360\n",
            "Epoch 36/50\n",
            "33/33 [==============================] - 0s 13ms/step - loss: 0.9359 - accuracy: 0.6345\n",
            "Epoch 37/50\n",
            "33/33 [==============================] - 0s 13ms/step - loss: 0.9270 - accuracy: 0.6538\n",
            "Epoch 38/50\n",
            "33/33 [==============================] - 0s 13ms/step - loss: 0.9208 - accuracy: 0.6466\n",
            "Epoch 39/50\n",
            "33/33 [==============================] - 0s 13ms/step - loss: 0.9228 - accuracy: 0.6418\n",
            "Epoch 40/50\n",
            "33/33 [==============================] - 0s 13ms/step - loss: 0.8982 - accuracy: 0.6586\n",
            "Epoch 41/50\n",
            "33/33 [==============================] - 0s 13ms/step - loss: 0.9025 - accuracy: 0.6606\n",
            "Epoch 42/50\n",
            "33/33 [==============================] - 0s 13ms/step - loss: 0.8965 - accuracy: 0.6736\n",
            "Epoch 43/50\n",
            "33/33 [==============================] - 0s 13ms/step - loss: 0.8875 - accuracy: 0.6745\n",
            "Epoch 44/50\n",
            "33/33 [==============================] - 0s 13ms/step - loss: 0.8979 - accuracy: 0.6620\n",
            "Epoch 45/50\n",
            "33/33 [==============================] - 0s 13ms/step - loss: 0.8824 - accuracy: 0.6635\n",
            "Epoch 46/50\n",
            "33/33 [==============================] - 0s 13ms/step - loss: 0.8808 - accuracy: 0.6625\n",
            "Epoch 47/50\n",
            "33/33 [==============================] - 0s 13ms/step - loss: 0.8674 - accuracy: 0.6731\n",
            "Epoch 48/50\n",
            "33/33 [==============================] - 0s 13ms/step - loss: 0.8623 - accuracy: 0.6847\n",
            "Epoch 49/50\n",
            "33/33 [==============================] - 0s 13ms/step - loss: 0.8743 - accuracy: 0.6808\n",
            "Epoch 50/50\n",
            "33/33 [==============================] - 0s 13ms/step - loss: 0.8446 - accuracy: 0.6948\n",
            "Epoch 1/50\n",
            "33/33 [==============================] - 2s 14ms/step - loss: 1.5633 - accuracy: 0.2594\n",
            "Epoch 2/50\n",
            "33/33 [==============================] - 0s 13ms/step - loss: 1.4560 - accuracy: 0.3023\n",
            "Epoch 3/50\n",
            "33/33 [==============================] - 0s 13ms/step - loss: 1.3541 - accuracy: 0.3684\n",
            "Epoch 4/50\n",
            "33/33 [==============================] - 0s 13ms/step - loss: 1.3034 - accuracy: 0.3939\n",
            "Epoch 5/50\n",
            "33/33 [==============================] - 0s 13ms/step - loss: 1.2707 - accuracy: 0.4267\n",
            "Epoch 6/50\n",
            "33/33 [==============================] - 0s 13ms/step - loss: 1.2493 - accuracy: 0.4127\n",
            "Epoch 7/50\n",
            "33/33 [==============================] - 0s 13ms/step - loss: 1.2286 - accuracy: 0.4542\n",
            "Epoch 8/50\n",
            "33/33 [==============================] - 0s 13ms/step - loss: 1.1962 - accuracy: 0.4793\n",
            "Epoch 9/50\n",
            "33/33 [==============================] - 0s 13ms/step - loss: 1.1883 - accuracy: 0.4740\n",
            "Epoch 10/50\n",
            "33/33 [==============================] - 0s 13ms/step - loss: 1.1660 - accuracy: 0.4841\n",
            "Epoch 11/50\n",
            "33/33 [==============================] - 0s 13ms/step - loss: 1.1481 - accuracy: 0.5019\n",
            "Epoch 12/50\n",
            "33/33 [==============================] - 0s 13ms/step - loss: 1.1352 - accuracy: 0.4990\n",
            "Epoch 13/50\n",
            "33/33 [==============================] - 0s 13ms/step - loss: 1.1332 - accuracy: 0.4966\n",
            "Epoch 14/50\n",
            "33/33 [==============================] - 0s 13ms/step - loss: 1.1234 - accuracy: 0.5284\n",
            "Epoch 15/50\n",
            "33/33 [==============================] - 0s 13ms/step - loss: 1.0919 - accuracy: 0.5318\n",
            "Epoch 16/50\n",
            "33/33 [==============================] - 0s 13ms/step - loss: 1.0907 - accuracy: 0.5289\n",
            "Epoch 17/50\n",
            "33/33 [==============================] - 0s 13ms/step - loss: 1.0924 - accuracy: 0.5260\n",
            "Epoch 18/50\n",
            "33/33 [==============================] - 0s 13ms/step - loss: 1.0791 - accuracy: 0.5376\n",
            "Epoch 19/50\n",
            "33/33 [==============================] - 0s 14ms/step - loss: 1.0558 - accuracy: 0.5473\n",
            "Epoch 20/50\n",
            "33/33 [==============================] - 0s 13ms/step - loss: 1.0592 - accuracy: 0.5569\n",
            "Epoch 21/50\n",
            "33/33 [==============================] - 0s 14ms/step - loss: 1.0388 - accuracy: 0.5685\n",
            "Epoch 22/50\n",
            "33/33 [==============================] - 0s 13ms/step - loss: 1.0436 - accuracy: 0.5670\n",
            "Epoch 23/50\n",
            "33/33 [==============================] - 0s 14ms/step - loss: 1.0289 - accuracy: 0.5728\n",
            "Epoch 24/50\n",
            "33/33 [==============================] - 0s 13ms/step - loss: 1.0256 - accuracy: 0.5762\n",
            "Epoch 25/50\n",
            "33/33 [==============================] - 0s 13ms/step - loss: 1.0228 - accuracy: 0.5694\n",
            "Epoch 26/50\n",
            "33/33 [==============================] - 0s 13ms/step - loss: 1.0063 - accuracy: 0.5916\n",
            "Epoch 27/50\n",
            "33/33 [==============================] - 0s 13ms/step - loss: 0.9865 - accuracy: 0.6037\n",
            "Epoch 28/50\n",
            "33/33 [==============================] - 0s 13ms/step - loss: 0.9800 - accuracy: 0.5993\n",
            "Epoch 29/50\n",
            "33/33 [==============================] - 0s 13ms/step - loss: 0.9723 - accuracy: 0.6090\n",
            "Epoch 30/50\n",
            "33/33 [==============================] - 0s 13ms/step - loss: 0.9693 - accuracy: 0.6041\n",
            "Epoch 31/50\n",
            "33/33 [==============================] - 0s 13ms/step - loss: 0.9558 - accuracy: 0.6167\n",
            "Epoch 32/50\n",
            "33/33 [==============================] - 0s 13ms/step - loss: 0.9516 - accuracy: 0.6307\n",
            "Epoch 33/50\n",
            "33/33 [==============================] - 0s 13ms/step - loss: 0.9371 - accuracy: 0.6297\n",
            "Epoch 34/50\n",
            "33/33 [==============================] - 0s 13ms/step - loss: 0.9334 - accuracy: 0.6345\n",
            "Epoch 35/50\n",
            "33/33 [==============================] - 0s 13ms/step - loss: 0.9443 - accuracy: 0.6230\n",
            "Epoch 36/50\n",
            "33/33 [==============================] - 0s 13ms/step - loss: 0.9305 - accuracy: 0.6321\n",
            "Epoch 37/50\n",
            "33/33 [==============================] - 0s 14ms/step - loss: 0.9220 - accuracy: 0.6321\n",
            "Epoch 38/50\n",
            "33/33 [==============================] - 0s 13ms/step - loss: 0.9141 - accuracy: 0.6500\n",
            "Epoch 39/50\n",
            "33/33 [==============================] - 0s 14ms/step - loss: 0.9001 - accuracy: 0.6591\n",
            "Epoch 40/50\n",
            "33/33 [==============================] - 0s 13ms/step - loss: 0.8978 - accuracy: 0.6543\n",
            "Epoch 41/50\n",
            "33/33 [==============================] - 0s 13ms/step - loss: 0.8907 - accuracy: 0.6635\n",
            "Epoch 42/50\n",
            "33/33 [==============================] - 0s 13ms/step - loss: 0.8870 - accuracy: 0.6668\n",
            "Epoch 43/50\n",
            "33/33 [==============================] - 0s 13ms/step - loss: 0.8851 - accuracy: 0.6562\n",
            "Epoch 44/50\n",
            "33/33 [==============================] - 0s 13ms/step - loss: 0.8653 - accuracy: 0.6712\n",
            "Epoch 45/50\n",
            "33/33 [==============================] - 0s 13ms/step - loss: 0.8725 - accuracy: 0.6745\n",
            "Epoch 46/50\n",
            "33/33 [==============================] - 0s 13ms/step - loss: 0.8660 - accuracy: 0.6847\n",
            "Epoch 47/50\n",
            "33/33 [==============================] - 0s 14ms/step - loss: 0.8487 - accuracy: 0.6818\n",
            "Epoch 48/50\n",
            "33/33 [==============================] - 0s 13ms/step - loss: 0.8546 - accuracy: 0.6818\n",
            "Epoch 49/50\n",
            "33/33 [==============================] - 0s 13ms/step - loss: 0.8372 - accuracy: 0.6929\n",
            "Epoch 50/50\n",
            "33/33 [==============================] - 0s 14ms/step - loss: 0.8418 - accuracy: 0.6948\n",
            "Epoch 1/50\n",
            "33/33 [==============================] - 2s 16ms/step - loss: 1.5139 - accuracy: 0.2874\n",
            "Epoch 2/50\n",
            "33/33 [==============================] - 0s 13ms/step - loss: 1.3990 - accuracy: 0.3332\n",
            "Epoch 3/50\n",
            "33/33 [==============================] - 0s 13ms/step - loss: 1.3174 - accuracy: 0.3722\n",
            "Epoch 4/50\n",
            "33/33 [==============================] - 0s 13ms/step - loss: 1.3111 - accuracy: 0.3660\n",
            "Epoch 5/50\n",
            "33/33 [==============================] - 0s 14ms/step - loss: 1.2676 - accuracy: 0.3978\n",
            "Epoch 6/50\n",
            "33/33 [==============================] - 0s 13ms/step - loss: 1.2554 - accuracy: 0.4132\n",
            "Epoch 7/50\n",
            "33/33 [==============================] - 0s 13ms/step - loss: 1.2342 - accuracy: 0.4455\n",
            "Epoch 8/50\n",
            "33/33 [==============================] - 0s 13ms/step - loss: 1.2046 - accuracy: 0.4662\n",
            "Epoch 9/50\n",
            "33/33 [==============================] - 0s 14ms/step - loss: 1.1951 - accuracy: 0.4614\n",
            "Epoch 10/50\n",
            "33/33 [==============================] - 0s 13ms/step - loss: 1.1834 - accuracy: 0.4764\n",
            "Epoch 11/50\n",
            "33/33 [==============================] - 0s 13ms/step - loss: 1.1665 - accuracy: 0.4932\n",
            "Epoch 12/50\n",
            "33/33 [==============================] - 0s 13ms/step - loss: 1.1711 - accuracy: 0.4778\n",
            "Epoch 13/50\n",
            "33/33 [==============================] - 0s 13ms/step - loss: 1.1563 - accuracy: 0.4913\n",
            "Epoch 14/50\n",
            "33/33 [==============================] - 0s 13ms/step - loss: 1.1401 - accuracy: 0.4986\n",
            "Epoch 15/50\n",
            "33/33 [==============================] - 0s 13ms/step - loss: 1.1260 - accuracy: 0.5111\n",
            "Epoch 16/50\n",
            "33/33 [==============================] - 0s 14ms/step - loss: 1.1195 - accuracy: 0.5164\n",
            "Epoch 17/50\n",
            "33/33 [==============================] - 0s 13ms/step - loss: 1.1099 - accuracy: 0.5217\n",
            "Epoch 18/50\n",
            "33/33 [==============================] - 0s 14ms/step - loss: 1.1054 - accuracy: 0.5140\n",
            "Epoch 19/50\n",
            "33/33 [==============================] - 0s 13ms/step - loss: 1.0779 - accuracy: 0.5429\n",
            "Epoch 20/50\n",
            "33/33 [==============================] - 0s 13ms/step - loss: 1.0810 - accuracy: 0.5497\n",
            "Epoch 21/50\n",
            "33/33 [==============================] - 0s 13ms/step - loss: 1.0496 - accuracy: 0.5564\n",
            "Epoch 22/50\n",
            "33/33 [==============================] - 0s 13ms/step - loss: 1.0568 - accuracy: 0.5689\n",
            "Epoch 23/50\n",
            "33/33 [==============================] - 0s 13ms/step - loss: 1.0381 - accuracy: 0.5646\n",
            "Epoch 24/50\n",
            "33/33 [==============================] - 0s 13ms/step - loss: 1.0278 - accuracy: 0.5738\n",
            "Epoch 25/50\n",
            "33/33 [==============================] - 0s 14ms/step - loss: 1.0264 - accuracy: 0.5747\n",
            "Epoch 26/50\n",
            "33/33 [==============================] - 0s 13ms/step - loss: 1.0190 - accuracy: 0.5791\n",
            "Epoch 27/50\n",
            "33/33 [==============================] - 0s 14ms/step - loss: 1.0038 - accuracy: 0.6008\n",
            "Epoch 28/50\n",
            "33/33 [==============================] - 0s 13ms/step - loss: 1.0133 - accuracy: 0.5810\n",
            "Epoch 29/50\n",
            "33/33 [==============================] - 0s 14ms/step - loss: 0.9954 - accuracy: 0.5974\n",
            "Epoch 30/50\n",
            "33/33 [==============================] - 0s 13ms/step - loss: 0.9828 - accuracy: 0.6051\n",
            "Epoch 31/50\n",
            "33/33 [==============================] - 0s 14ms/step - loss: 0.9798 - accuracy: 0.6090\n",
            "Epoch 32/50\n",
            "33/33 [==============================] - 0s 14ms/step - loss: 0.9817 - accuracy: 0.6070\n",
            "Epoch 33/50\n",
            "33/33 [==============================] - 0s 13ms/step - loss: 0.9534 - accuracy: 0.6167\n",
            "Epoch 34/50\n",
            "33/33 [==============================] - 0s 14ms/step - loss: 0.9507 - accuracy: 0.6273\n",
            "Epoch 35/50\n",
            "33/33 [==============================] - 0s 14ms/step - loss: 0.9489 - accuracy: 0.6316\n",
            "Epoch 36/50\n",
            "33/33 [==============================] - 0s 14ms/step - loss: 0.9406 - accuracy: 0.6456\n",
            "Epoch 37/50\n",
            "33/33 [==============================] - 0s 14ms/step - loss: 0.9315 - accuracy: 0.6403\n",
            "Epoch 38/50\n",
            "33/33 [==============================] - 0s 14ms/step - loss: 0.9293 - accuracy: 0.6524\n",
            "Epoch 39/50\n",
            "33/33 [==============================] - 0s 14ms/step - loss: 0.9141 - accuracy: 0.6500\n",
            "Epoch 40/50\n",
            "33/33 [==============================] - 0s 14ms/step - loss: 0.9103 - accuracy: 0.6586\n",
            "Epoch 41/50\n",
            "33/33 [==============================] - 0s 13ms/step - loss: 0.9081 - accuracy: 0.6601\n",
            "Epoch 42/50\n",
            "33/33 [==============================] - 0s 14ms/step - loss: 0.8870 - accuracy: 0.6683\n",
            "Epoch 43/50\n",
            "33/33 [==============================] - 0s 14ms/step - loss: 0.8687 - accuracy: 0.6885\n",
            "Epoch 44/50\n",
            "33/33 [==============================] - 0s 14ms/step - loss: 0.8765 - accuracy: 0.6779\n",
            "Epoch 45/50\n",
            "33/33 [==============================] - 0s 14ms/step - loss: 0.8780 - accuracy: 0.6745\n",
            "Epoch 46/50\n",
            "33/33 [==============================] - 0s 14ms/step - loss: 0.8599 - accuracy: 0.6750\n",
            "Epoch 47/50\n",
            "33/33 [==============================] - 0s 14ms/step - loss: 0.8625 - accuracy: 0.6851\n",
            "Epoch 48/50\n",
            "33/33 [==============================] - 0s 14ms/step - loss: 0.8635 - accuracy: 0.6842\n",
            "Epoch 49/50\n",
            "33/33 [==============================] - 0s 14ms/step - loss: 0.8588 - accuracy: 0.6861\n",
            "Epoch 50/50\n",
            "33/33 [==============================] - 0s 14ms/step - loss: 0.8548 - accuracy: 0.6991\n",
            "Epoch 1/50\n",
            "33/33 [==============================] - 2s 15ms/step - loss: 1.5083 - accuracy: 0.3139\n",
            "Epoch 2/50\n",
            "33/33 [==============================] - 0s 14ms/step - loss: 1.3761 - accuracy: 0.3578\n",
            "Epoch 3/50\n",
            "33/33 [==============================] - 0s 13ms/step - loss: 1.3187 - accuracy: 0.3674\n",
            "Epoch 4/50\n",
            "33/33 [==============================] - 0s 14ms/step - loss: 1.2821 - accuracy: 0.3910\n",
            "Epoch 5/50\n",
            "33/33 [==============================] - 0s 13ms/step - loss: 1.2669 - accuracy: 0.3891\n",
            "Epoch 6/50\n",
            "33/33 [==============================] - 0s 14ms/step - loss: 1.2414 - accuracy: 0.4238\n",
            "Epoch 7/50\n",
            "33/33 [==============================] - 0s 14ms/step - loss: 1.2159 - accuracy: 0.4537\n",
            "Epoch 8/50\n",
            "33/33 [==============================] - 0s 14ms/step - loss: 1.1810 - accuracy: 0.4566\n",
            "Epoch 9/50\n",
            "33/33 [==============================] - 0s 15ms/step - loss: 1.1905 - accuracy: 0.4523\n",
            "Epoch 10/50\n",
            "33/33 [==============================] - 0s 14ms/step - loss: 1.1711 - accuracy: 0.4749\n",
            "Epoch 11/50\n",
            "33/33 [==============================] - 0s 15ms/step - loss: 1.1653 - accuracy: 0.4826\n",
            "Epoch 12/50\n",
            "33/33 [==============================] - 0s 15ms/step - loss: 1.1350 - accuracy: 0.5058\n",
            "Epoch 13/50\n",
            "33/33 [==============================] - 0s 14ms/step - loss: 1.1195 - accuracy: 0.5058\n",
            "Epoch 14/50\n",
            "33/33 [==============================] - 0s 14ms/step - loss: 1.1123 - accuracy: 0.5092\n",
            "Epoch 15/50\n",
            "33/33 [==============================] - 0s 14ms/step - loss: 1.1135 - accuracy: 0.5140\n",
            "Epoch 16/50\n",
            "33/33 [==============================] - 0s 14ms/step - loss: 1.0897 - accuracy: 0.5352\n",
            "Epoch 17/50\n",
            "33/33 [==============================] - 0s 14ms/step - loss: 1.0750 - accuracy: 0.5371\n",
            "Epoch 18/50\n",
            "33/33 [==============================] - 0s 14ms/step - loss: 1.0921 - accuracy: 0.5352\n",
            "Epoch 19/50\n",
            "33/33 [==============================] - 0s 14ms/step - loss: 1.0785 - accuracy: 0.5453\n",
            "Epoch 20/50\n",
            "33/33 [==============================] - 0s 14ms/step - loss: 1.0631 - accuracy: 0.5342\n",
            "Epoch 21/50\n",
            "33/33 [==============================] - 0s 14ms/step - loss: 1.0617 - accuracy: 0.5468\n",
            "Epoch 22/50\n",
            "33/33 [==============================] - 0s 14ms/step - loss: 1.0426 - accuracy: 0.5477\n",
            "Epoch 23/50\n",
            "33/33 [==============================] - 0s 14ms/step - loss: 1.0218 - accuracy: 0.5743\n",
            "Epoch 24/50\n",
            "33/33 [==============================] - 0s 14ms/step - loss: 1.0272 - accuracy: 0.5535\n",
            "Epoch 25/50\n",
            "33/33 [==============================] - 0s 14ms/step - loss: 1.0250 - accuracy: 0.5781\n",
            "Epoch 26/50\n",
            "33/33 [==============================] - 0s 14ms/step - loss: 1.0022 - accuracy: 0.5887\n",
            "Epoch 27/50\n",
            "33/33 [==============================] - 0s 14ms/step - loss: 0.9996 - accuracy: 0.5824\n",
            "Epoch 28/50\n",
            "33/33 [==============================] - 0s 14ms/step - loss: 0.9716 - accuracy: 0.5993\n",
            "Epoch 29/50\n",
            "33/33 [==============================] - 0s 13ms/step - loss: 0.9617 - accuracy: 0.6119\n",
            "Epoch 30/50\n",
            "33/33 [==============================] - 0s 14ms/step - loss: 0.9560 - accuracy: 0.6186\n",
            "Epoch 31/50\n",
            "33/33 [==============================] - 0s 14ms/step - loss: 0.9678 - accuracy: 0.6066\n",
            "Epoch 32/50\n",
            "33/33 [==============================] - 0s 14ms/step - loss: 0.9599 - accuracy: 0.6070\n",
            "Epoch 33/50\n",
            "33/33 [==============================] - 0s 14ms/step - loss: 0.9506 - accuracy: 0.6128\n",
            "Epoch 34/50\n",
            "33/33 [==============================] - 0s 13ms/step - loss: 0.9498 - accuracy: 0.6181\n",
            "Epoch 35/50\n",
            "33/33 [==============================] - 0s 13ms/step - loss: 0.9431 - accuracy: 0.6095\n",
            "Epoch 36/50\n",
            "33/33 [==============================] - 0s 14ms/step - loss: 0.9314 - accuracy: 0.6311\n",
            "Epoch 37/50\n",
            "33/33 [==============================] - 0s 14ms/step - loss: 0.9140 - accuracy: 0.6461\n",
            "Epoch 38/50\n",
            "33/33 [==============================] - 0s 14ms/step - loss: 0.9129 - accuracy: 0.6398\n",
            "Epoch 39/50\n",
            "33/33 [==============================] - 0s 14ms/step - loss: 0.9110 - accuracy: 0.6442\n",
            "Epoch 40/50\n",
            "33/33 [==============================] - 0s 13ms/step - loss: 0.9069 - accuracy: 0.6533\n",
            "Epoch 41/50\n",
            "33/33 [==============================] - 0s 14ms/step - loss: 0.8825 - accuracy: 0.6557\n",
            "Epoch 42/50\n",
            "33/33 [==============================] - 0s 13ms/step - loss: 0.8853 - accuracy: 0.6789\n",
            "Epoch 43/50\n",
            "33/33 [==============================] - 0s 14ms/step - loss: 0.8816 - accuracy: 0.6639\n",
            "Epoch 44/50\n",
            "33/33 [==============================] - 0s 13ms/step - loss: 0.8743 - accuracy: 0.6697\n",
            "Epoch 45/50\n",
            "33/33 [==============================] - 0s 14ms/step - loss: 0.8666 - accuracy: 0.6663\n",
            "Epoch 46/50\n",
            "33/33 [==============================] - 0s 13ms/step - loss: 0.8615 - accuracy: 0.6823\n",
            "Epoch 47/50\n",
            "33/33 [==============================] - 0s 13ms/step - loss: 0.8566 - accuracy: 0.6847\n",
            "Epoch 48/50\n",
            "33/33 [==============================] - 0s 14ms/step - loss: 0.8455 - accuracy: 0.6885\n",
            "Epoch 49/50\n",
            "33/33 [==============================] - 0s 14ms/step - loss: 0.8539 - accuracy: 0.6943\n",
            "Epoch 50/50\n",
            "33/33 [==============================] - 0s 14ms/step - loss: 0.8469 - accuracy: 0.6962\n",
            "Epoch 1/50\n",
            "33/33 [==============================] - 2s 14ms/step - loss: 1.6265 - accuracy: 0.2801\n",
            "Epoch 2/50\n",
            "33/33 [==============================] - 0s 14ms/step - loss: 1.5008 - accuracy: 0.3312\n",
            "Epoch 3/50\n",
            "33/33 [==============================] - 0s 14ms/step - loss: 1.3946 - accuracy: 0.3804\n",
            "Epoch 4/50\n",
            "33/33 [==============================] - 0s 13ms/step - loss: 1.3177 - accuracy: 0.3930\n",
            "Epoch 5/50\n",
            "33/33 [==============================] - 0s 13ms/step - loss: 1.2702 - accuracy: 0.4122\n",
            "Epoch 6/50\n",
            "33/33 [==============================] - 0s 14ms/step - loss: 1.2510 - accuracy: 0.4296\n",
            "Epoch 7/50\n",
            "33/33 [==============================] - 0s 14ms/step - loss: 1.2360 - accuracy: 0.4243\n",
            "Epoch 8/50\n",
            "33/33 [==============================] - 0s 14ms/step - loss: 1.2267 - accuracy: 0.4455\n",
            "Epoch 9/50\n",
            "33/33 [==============================] - 0s 13ms/step - loss: 1.1907 - accuracy: 0.4677\n",
            "Epoch 10/50\n",
            "33/33 [==============================] - 0s 14ms/step - loss: 1.1998 - accuracy: 0.4542\n",
            "Epoch 11/50\n",
            "33/33 [==============================] - 0s 14ms/step - loss: 1.1801 - accuracy: 0.4759\n",
            "Epoch 12/50\n",
            "33/33 [==============================] - 0s 13ms/step - loss: 1.1698 - accuracy: 0.4797\n",
            "Epoch 13/50\n",
            "33/33 [==============================] - 0s 14ms/step - loss: 1.1376 - accuracy: 0.4952\n",
            "Epoch 14/50\n",
            "33/33 [==============================] - 0s 13ms/step - loss: 1.1472 - accuracy: 0.4908\n",
            "Epoch 15/50\n",
            "33/33 [==============================] - 0s 13ms/step - loss: 1.1302 - accuracy: 0.4966\n",
            "Epoch 16/50\n",
            "33/33 [==============================] - 0s 14ms/step - loss: 1.1040 - accuracy: 0.5188\n",
            "Epoch 17/50\n",
            "33/33 [==============================] - 0s 14ms/step - loss: 1.1050 - accuracy: 0.5169\n",
            "Epoch 18/50\n",
            "33/33 [==============================] - 0s 13ms/step - loss: 1.0792 - accuracy: 0.5482\n",
            "Epoch 19/50\n",
            "33/33 [==============================] - 0s 13ms/step - loss: 1.1086 - accuracy: 0.5227\n",
            "Epoch 20/50\n",
            "33/33 [==============================] - 0s 13ms/step - loss: 1.0747 - accuracy: 0.5487\n",
            "Epoch 21/50\n",
            "33/33 [==============================] - 0s 14ms/step - loss: 1.0730 - accuracy: 0.5477\n",
            "Epoch 22/50\n",
            "33/33 [==============================] - 0s 13ms/step - loss: 1.0484 - accuracy: 0.5588\n",
            "Epoch 23/50\n",
            "33/33 [==============================] - 0s 14ms/step - loss: 1.0312 - accuracy: 0.5800\n",
            "Epoch 24/50\n",
            "33/33 [==============================] - 0s 14ms/step - loss: 1.0374 - accuracy: 0.5598\n",
            "Epoch 25/50\n",
            "33/33 [==============================] - 0s 14ms/step - loss: 1.0292 - accuracy: 0.5733\n",
            "Epoch 26/50\n",
            "33/33 [==============================] - 0s 14ms/step - loss: 1.0247 - accuracy: 0.5670\n",
            "Epoch 27/50\n",
            "33/33 [==============================] - 0s 13ms/step - loss: 1.0133 - accuracy: 0.5844\n",
            "Epoch 28/50\n",
            "33/33 [==============================] - 0s 13ms/step - loss: 0.9994 - accuracy: 0.5873\n",
            "Epoch 29/50\n",
            "33/33 [==============================] - 0s 14ms/step - loss: 1.0042 - accuracy: 0.5906\n",
            "Epoch 30/50\n",
            "33/33 [==============================] - 0s 14ms/step - loss: 0.9832 - accuracy: 0.6070\n",
            "Epoch 31/50\n",
            "33/33 [==============================] - 0s 13ms/step - loss: 0.9862 - accuracy: 0.6032\n",
            "Epoch 32/50\n",
            "33/33 [==============================] - 0s 14ms/step - loss: 0.9785 - accuracy: 0.5974\n",
            "Epoch 33/50\n",
            "33/33 [==============================] - 0s 14ms/step - loss: 0.9694 - accuracy: 0.6162\n",
            "Epoch 34/50\n",
            "33/33 [==============================] - 0s 14ms/step - loss: 0.9524 - accuracy: 0.6389\n",
            "Epoch 35/50\n",
            "33/33 [==============================] - 0s 14ms/step - loss: 0.9564 - accuracy: 0.6066\n",
            "Epoch 36/50\n",
            "33/33 [==============================] - 0s 14ms/step - loss: 0.9469 - accuracy: 0.6148\n",
            "Epoch 37/50\n",
            "33/33 [==============================] - 0s 14ms/step - loss: 0.9339 - accuracy: 0.6336\n",
            "Epoch 38/50\n",
            "33/33 [==============================] - 0s 14ms/step - loss: 0.9372 - accuracy: 0.6292\n",
            "Epoch 39/50\n",
            "33/33 [==============================] - 0s 14ms/step - loss: 0.9165 - accuracy: 0.6365\n",
            "Epoch 40/50\n",
            "33/33 [==============================] - 0s 14ms/step - loss: 0.9292 - accuracy: 0.6311\n",
            "Epoch 41/50\n",
            "33/33 [==============================] - 0s 14ms/step - loss: 0.9093 - accuracy: 0.6408\n",
            "Epoch 42/50\n",
            "33/33 [==============================] - 0s 14ms/step - loss: 0.9092 - accuracy: 0.6528\n",
            "Epoch 43/50\n",
            "33/33 [==============================] - 0s 14ms/step - loss: 0.8927 - accuracy: 0.6649\n",
            "Epoch 44/50\n",
            "33/33 [==============================] - 0s 14ms/step - loss: 0.8900 - accuracy: 0.6471\n",
            "Epoch 45/50\n",
            "33/33 [==============================] - 0s 14ms/step - loss: 0.8769 - accuracy: 0.6779\n",
            "Epoch 46/50\n",
            "33/33 [==============================] - 0s 13ms/step - loss: 0.8826 - accuracy: 0.6630\n",
            "Epoch 47/50\n",
            "33/33 [==============================] - 0s 14ms/step - loss: 0.8734 - accuracy: 0.6712\n",
            "Epoch 48/50\n",
            "33/33 [==============================] - 0s 13ms/step - loss: 0.8615 - accuracy: 0.6774\n",
            "Epoch 49/50\n",
            "33/33 [==============================] - 0s 14ms/step - loss: 0.8739 - accuracy: 0.6678\n",
            "Epoch 50/50\n",
            "33/33 [==============================] - 0s 14ms/step - loss: 0.8523 - accuracy: 0.6760\n",
            "CNN: 0.605462 (0.033026)\n",
            "SVM: 0.855901 (0.025851)\n"
          ]
        }
      ]
    },
    {
      "cell_type": "code",
      "source": [
        "# boxplot algorithm comparison\n",
        "fig = plt.figure()\n",
        "fig.suptitle('Accuracy comparison for a 10-fold cross validation')\n",
        "ax = fig.add_subplot(111)\n",
        "plt.boxplot(results)\n",
        "ax.set_xticklabels(names)\n",
        "plt.show()"
      ],
      "metadata": {
        "id": "YkT5UX8ynHiB"
      },
      "execution_count": null,
      "outputs": []
    }
  ]
}